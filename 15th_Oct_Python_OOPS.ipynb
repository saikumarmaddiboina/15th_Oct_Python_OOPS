{
 "cells": [
  {
   "cell_type": "markdown",
   "id": "e7974daf-1fb0-4759-8e5c-601b5a815f87",
   "metadata": {},
   "source": [
    "Constructor:"
   ]
  },
  {
   "cell_type": "markdown",
   "id": "70342ca2-a4b5-48a2-aece-90e46a8bbe6b",
   "metadata": {},
   "source": [
    "1. What is a constructor in Python? Explain its purpose and usage."
   ]
  },
  {
   "cell_type": "raw",
   "id": "8b6943b8-49af-4869-b40f-8335a3d1b25f",
   "metadata": {},
   "source": [
    "a constructor is a special method that is automatically called when an object is created.It is used to initialize the attributes or properties of the object. The constructor method in Python is named __init__."
   ]
  },
  {
   "cell_type": "markdown",
   "id": "f1ee18f5-290c-4d95-970e-2ceebca8fe08",
   "metadata": {},
   "source": [
    " 2. Differentiate between a parameterless constructor and a parameterized constructor in Python."
   ]
  },
  {
   "cell_type": "markdown",
   "id": "2b8bf383-bf31-4f7c-8946-1db1d88b0e8e",
   "metadata": {},
   "source": [
    "A parameterless constructor is a constructor that does not take any parameters\n",
    "A parameterized constructor is a constructor that takes one or more parameters"
   ]
  },
  {
   "cell_type": "markdown",
   "id": "e37c571f-120f-48f3-8d43-e2b132eb57f0",
   "metadata": {},
   "source": [
    "3. How do you define a constructor in a Python class? Provide an example."
   ]
  },
  {
   "cell_type": "markdown",
   "id": "fd06864a-55a1-4f6e-9ccc-e5c6250d2670",
   "metadata": {},
   "source": [
    "a constructor is a special method named __init__ that is automatically called when an object is created. It is used to initialize the attributes or properties of the object. Here's how you define a constructor in a Python class:"
   ]
  },
  {
   "cell_type": "code",
   "execution_count": 1,
   "id": "fccdf7ef-d909-4c18-885d-d7db4084d88b",
   "metadata": {},
   "outputs": [],
   "source": [
    "class Sai:\n",
    "    def __init__(self,age,height_in_cm):\n",
    "        self.age = age\n",
    "        self.height = height_in_cm\n",
    "        "
   ]
  },
  {
   "cell_type": "code",
   "execution_count": 2,
   "id": "c78eec96-81d7-4ebf-804b-b293cde5dcc0",
   "metadata": {},
   "outputs": [],
   "source": [
    "my_self = Sai(24,178)"
   ]
  },
  {
   "cell_type": "code",
   "execution_count": 3,
   "id": "a1a9c802-799b-4d1a-b5a8-ede131d0881a",
   "metadata": {},
   "outputs": [
    {
     "data": {
      "text/plain": [
       "24"
      ]
     },
     "execution_count": 3,
     "metadata": {},
     "output_type": "execute_result"
    }
   ],
   "source": [
    "my_self.age"
   ]
  },
  {
   "cell_type": "code",
   "execution_count": 5,
   "id": "c1f9daf7-6d00-4a6a-9b7c-8b4695e8a4fa",
   "metadata": {},
   "outputs": [
    {
     "data": {
      "text/plain": [
       "178"
      ]
     },
     "execution_count": 5,
     "metadata": {},
     "output_type": "execute_result"
    }
   ],
   "source": [
    "my_self.height"
   ]
  },
  {
   "cell_type": "markdown",
   "id": "38849706-087f-41fd-9285-601f58407134",
   "metadata": {},
   "source": [
    "4. Explain the `__init__` method in Python and its role in constructors."
   ]
  },
  {
   "cell_type": "raw",
   "id": "8a8cd60e-e492-4dcf-ae91-c152ef9b60be",
   "metadata": {},
   "source": [
    "The __init__ method in Python is a special method that plays a crucial role in constructors. It is automatically called when an object is created from a class and is used to initialize the attributes or properties of the object. The name __init__ stands for \"initialize.\""
   ]
  },
  {
   "cell_type": "markdown",
   "id": "fd8b2625-971b-40f3-8e9b-cff9f34157fe",
   "metadata": {},
   "source": [
    "5. In a class named `Person`, create a constructor that initializes the `name` and `age` attributes. Provide an\n",
    "example of creating an object of this class."
   ]
  },
  {
   "cell_type": "code",
   "execution_count": 13,
   "id": "2c739740-7780-44a6-98ee-46244525c707",
   "metadata": {},
   "outputs": [],
   "source": [
    "class Person:\n",
    "    def __init__(self,name,age):\n",
    "        self.name = name\n",
    "        self.age = age\n",
    "        "
   ]
  },
  {
   "cell_type": "code",
   "execution_count": 14,
   "id": "19497432-ff9f-4950-8136-159e7cb2cd80",
   "metadata": {},
   "outputs": [],
   "source": [
    "stu1 = Person('sai',24)"
   ]
  },
  {
   "cell_type": "code",
   "execution_count": 15,
   "id": "592f73a9-2a5f-416d-9136-3cdf5a95a749",
   "metadata": {},
   "outputs": [
    {
     "data": {
      "text/plain": [
       "'sai'"
      ]
     },
     "execution_count": 15,
     "metadata": {},
     "output_type": "execute_result"
    }
   ],
   "source": [
    "stu1.name"
   ]
  },
  {
   "cell_type": "code",
   "execution_count": 16,
   "id": "1c08bf64-36ea-498f-9ae9-7ecf4821ed4e",
   "metadata": {},
   "outputs": [
    {
     "data": {
      "text/plain": [
       "24"
      ]
     },
     "execution_count": 16,
     "metadata": {},
     "output_type": "execute_result"
    }
   ],
   "source": [
    "stu1.age"
   ]
  },
  {
   "cell_type": "markdown",
   "id": "1385bcca-dd4d-4bb1-8d6a-7ba4a08ea74f",
   "metadata": {},
   "source": [
    "6. How can you call a constructor explicitly in Python? Give an example."
   ]
  },
  {
   "cell_type": "markdown",
   "id": "0304406e-3b47-4ab1-aea1-aab013463f14",
   "metadata": {},
   "source": [
    "by using the clas name"
   ]
  },
  {
   "cell_type": "code",
   "execution_count": 34,
   "id": "7f4f01c0-e597-4f62-916f-7b9ea680cac5",
   "metadata": {},
   "outputs": [],
   "source": [
    "class tenth:\n",
    "    def __init__(self,weight,age):\n",
    "        self.name = weight\n",
    "        self.age = age"
   ]
  },
  {
   "cell_type": "code",
   "execution_count": 35,
   "id": "f90edbb0-088c-40f6-bc5b-fddaa0c3a526",
   "metadata": {},
   "outputs": [],
   "source": [
    "ravi = tenth.__new__(tenth)"
   ]
  },
  {
   "cell_type": "code",
   "execution_count": 36,
   "id": "ed2f9ee0-6669-48de-a35c-c6fca601638a",
   "metadata": {},
   "outputs": [],
   "source": [
    "tenth.__init__(ravi,70,25)"
   ]
  },
  {
   "cell_type": "code",
   "execution_count": 37,
   "id": "452c4577-d148-465b-b3e2-050b5e5e78b4",
   "metadata": {},
   "outputs": [],
   "source": [
    "ravi.age = 30"
   ]
  },
  {
   "cell_type": "code",
   "execution_count": 30,
   "id": "6c347360-1bd1-420c-9d79-ed8dde29247d",
   "metadata": {},
   "outputs": [
    {
     "data": {
      "text/plain": [
       "30"
      ]
     },
     "execution_count": 30,
     "metadata": {},
     "output_type": "execute_result"
    }
   ],
   "source": [
    "ravi.age"
   ]
  },
  {
   "cell_type": "markdown",
   "id": "ab94d2b7-c071-4ad5-9fa5-69a934f99391",
   "metadata": {},
   "source": [
    "7. What is the significance of the `self` parameter in Python constructors? Explain with an example."
   ]
  },
  {
   "cell_type": "markdown",
   "id": "2992505b-032d-499a-9496-71fda8db6189",
   "metadata": {},
   "source": [
    "refers to the instance of the class.It is a way for the instance to reference and manipulate its own attributes and methods."
   ]
  },
  {
   "cell_type": "code",
   "execution_count": 38,
   "id": "d496d520-e59b-44d6-91b9-3cbc2071f318",
   "metadata": {},
   "outputs": [],
   "source": [
    "class Sai:\n",
    "    def __init__(self,age,height_in_cm):\n",
    "        self.age = age\n",
    "        self.height = height_in_cm"
   ]
  },
  {
   "cell_type": "markdown",
   "id": "3e08c275-3628-4ba1-be82-9531d68be683",
   "metadata": {},
   "source": [
    "8. Discuss the concept of default constructors in Python. When are they used?"
   ]
  },
  {
   "cell_type": "code",
   "execution_count": 43,
   "id": "8aeb5c24-3180-4b59-b534-012c55ca8d91",
   "metadata": {},
   "outputs": [],
   "source": [
    "class default_cons:\n",
    "    pass"
   ]
  },
  {
   "cell_type": "code",
   "execution_count": 44,
   "id": "0826f067-1237-4b6f-9656-37f51310e76f",
   "metadata": {},
   "outputs": [],
   "source": [
    "c1 = default_cons()"
   ]
  },
  {
   "cell_type": "markdown",
   "id": "710932bb-17f5-41db-80a1-6a1b13b6123b",
   "metadata": {},
   "source": [
    "9. Create a Python class called `Rectangle` with a constructor that initializes the `width` and `height`\n",
    "attributes. Provide a method to calculate the area of the rectangle."
   ]
  },
  {
   "cell_type": "code",
   "execution_count": 55,
   "id": "8b013fe9-532a-4228-984d-4278fcd8072b",
   "metadata": {},
   "outputs": [],
   "source": [
    "class Rectangle:\n",
    "    def __init__(self,width,height):\n",
    "        self.width = width\n",
    "        self.height = height\n",
    "        \n",
    "    def area(self):\n",
    "        area = self.width *  self.height\n",
    "        return area"
   ]
  },
  {
   "cell_type": "code",
   "execution_count": 56,
   "id": "595dfe3a-fb53-4e70-9943-e192645c4781",
   "metadata": {},
   "outputs": [],
   "source": [
    "rec1 = Rectangle(10,2)"
   ]
  },
  {
   "cell_type": "code",
   "execution_count": 58,
   "id": "ae9f25f4-0f8d-4023-a8bc-a562e630dccf",
   "metadata": {},
   "outputs": [
    {
     "data": {
      "text/plain": [
       "20"
      ]
     },
     "execution_count": 58,
     "metadata": {},
     "output_type": "execute_result"
    }
   ],
   "source": [
    "rec1.area()"
   ]
  },
  {
   "cell_type": "markdown",
   "id": "c2b9624b-2860-470d-9e4a-c4b587153905",
   "metadata": {},
   "source": [
    "10. How can you have multiple constructors in a Python class? Explain with an example."
   ]
  },
  {
   "cell_type": "code",
   "execution_count": 79,
   "id": "64a443ae-61e7-4024-8ad8-f7983834e64b",
   "metadata": {},
   "outputs": [],
   "source": [
    "class Rectangle:\n",
    "    \n",
    "    def __init__(self,width,height):\n",
    "        self.width = width\n",
    "        self.height = height\n",
    "    @classmethod   \n",
    "    def create_square(cls,side_length):\n",
    "        return cls(side_length,side_length)\n",
    "        \n",
    "    def area(self):\n",
    "        area = self.width *  self.height\n",
    "        return area"
   ]
  },
  {
   "cell_type": "code",
   "execution_count": 80,
   "id": "76d2279f-b1a6-4e84-95ba-62ec39781ad1",
   "metadata": {},
   "outputs": [],
   "source": [
    "rec1 = Rectangle(2,1)"
   ]
  },
  {
   "cell_type": "code",
   "execution_count": 81,
   "id": "15d1af37-80fb-464a-8bf7-ad374ce264cf",
   "metadata": {},
   "outputs": [
    {
     "data": {
      "text/plain": [
       "2"
      ]
     },
     "execution_count": 81,
     "metadata": {},
     "output_type": "execute_result"
    }
   ],
   "source": [
    "rec1.area()"
   ]
  },
  {
   "cell_type": "code",
   "execution_count": 82,
   "id": "a29015cd-527f-488a-b7cf-07f26b23846f",
   "metadata": {},
   "outputs": [],
   "source": [
    "squ1 = Rectangle.create_square(4)"
   ]
  },
  {
   "cell_type": "code",
   "execution_count": 83,
   "id": "fb2569a1-f0ed-4697-84b5-fc5e1198ef0c",
   "metadata": {},
   "outputs": [
    {
     "data": {
      "text/plain": [
       "16"
      ]
     },
     "execution_count": 83,
     "metadata": {},
     "output_type": "execute_result"
    }
   ],
   "source": [
    "squ1.area()"
   ]
  },
  {
   "cell_type": "markdown",
   "id": "fd5d17bf-65b1-46d2-9e44-52699abb734a",
   "metadata": {},
   "source": [
    "11. What is method overloading, and how is it related to constructors in Python?"
   ]
  },
  {
   "cell_type": "markdown",
   "id": "8acddb67-a9bd-40d2-8a5a-4ff01377ecd5",
   "metadata": {},
   "source": [
    "Method overloading is a programming concept where multiple methods with the same name are defined in a class, but they differ in the type or number of their parameters."
   ]
  },
  {
   "cell_type": "markdown",
   "id": "a5cd128d-844b-44eb-9421-712107b1fc8b",
   "metadata": {},
   "source": [
    "It can be achieved through default values for function parameters and variable-length argument lists."
   ]
  },
  {
   "cell_type": "code",
   "execution_count": 2,
   "id": "e9077475-955f-4a0a-b0bd-9685356c044b",
   "metadata": {},
   "outputs": [],
   "source": [
    "class Point:\n",
    "    def __init__(self, x=0, y=0):\n",
    "        self.x = x\n",
    "        self.y = y\n",
    "\n",
    "# Creating objects using different constructors\n",
    "point1 = Point()\n",
    "point2 = Point(3)\n",
    "point3 = Point(1, 5)\n"
   ]
  },
  {
   "cell_type": "code",
   "execution_count": 3,
   "id": "b17acb43-54ed-43d8-8b7a-62d8a13a9f9a",
   "metadata": {},
   "outputs": [],
   "source": [
    "class Calculator:\n",
    "    def __init__(self, *args):\n",
    "        if len(args) == 0:\n",
    "            self.result = 0\n",
    "        elif len(args) == 1:\n",
    "            self.result = args[0]\n",
    "        else:\n",
    "            self.result = sum(args)\n",
    "\n",
    "# Creating objects using different constructors\n",
    "calc1 = Calculator()\n",
    "calc2 = Calculator(5)\n",
    "calc3 = Calculator(2, 3, 4)\n"
   ]
  },
  {
   "cell_type": "markdown",
   "id": "bffb6315-fa85-454d-86d5-807da36b4854",
   "metadata": {},
   "source": [
    "12. Explain the use of the `super()` function in Python constructors. Provide an example."
   ]
  },
  {
   "cell_type": "markdown",
   "id": "870dfb04-b875-421b-b4a7-3f3b89211209",
   "metadata": {},
   "source": [
    "super() function is used to call a method from a parent class. It is often used in the context of constructors (__init__ methods) to invoke the constructor of the parent class. This is particularly useful in situations where you have a subclass that extends a parent class and you want to initialize both the attributes of the subclass and the attributes of the parent class."
   ]
  },
  {
   "cell_type": "code",
   "execution_count": 4,
   "id": "0ae4204b-b140-4783-b524-ec2eb624634c",
   "metadata": {},
   "outputs": [],
   "source": [
    "class Animal:\n",
    "    def __init__(self,species):\n",
    "        self.species = species\n",
    "    \n",
    "class dog(Animal):\n",
    "    def __init__(self,species,breed):\n",
    "        super().__init__(species)\n",
    "        self.breed = breed\n",
    "        "
   ]
  },
  {
   "cell_type": "code",
   "execution_count": 6,
   "id": "e63f8958-d345-4f3f-a57b-736d84011fac",
   "metadata": {},
   "outputs": [],
   "source": [
    "my_dog = dog(species=\"Canine\", breed=\"Golden Retriever\")"
   ]
  },
  {
   "cell_type": "code",
   "execution_count": 7,
   "id": "d249fea1-540a-4053-bbd3-ac2d6234d008",
   "metadata": {},
   "outputs": [
    {
     "data": {
      "text/plain": [
       "'Canine'"
      ]
     },
     "execution_count": 7,
     "metadata": {},
     "output_type": "execute_result"
    }
   ],
   "source": [
    "my_dog.species"
   ]
  },
  {
   "cell_type": "markdown",
   "id": "e89b5298-bce0-4d5f-bed6-3a806d247eda",
   "metadata": {},
   "source": [
    "13. Create a class called `Book` with a constructor that initializes the `title`, `author`, and `published_year`\n",
    "attributes. Provide a method to display book details."
   ]
  },
  {
   "cell_type": "code",
   "execution_count": 9,
   "id": "f3e44278-62e9-4b04-9a95-0a34cc16989f",
   "metadata": {},
   "outputs": [],
   "source": [
    "class Book:\n",
    "    \n",
    "    def __init__(self, title, author, published_year):\n",
    "        self.title = title\n",
    "        self.author = author\n",
    "        self.published_year = published_year\n",
    "        \n",
    "    def display_book_details(self):\n",
    "        print(self.title,self.author,self.published_year)"
   ]
  },
  {
   "cell_type": "code",
   "execution_count": 10,
   "id": "3eb97196-bfaf-4d77-813e-c07cb67e17d0",
   "metadata": {},
   "outputs": [],
   "source": [
    "book1 = Book(\"Mind\", \"self\", 2023)"
   ]
  },
  {
   "cell_type": "code",
   "execution_count": 11,
   "id": "2fd13d7a-ac99-432d-983f-3a34d5519df5",
   "metadata": {},
   "outputs": [
    {
     "name": "stdout",
     "output_type": "stream",
     "text": [
      "Mind self 2023\n"
     ]
    }
   ],
   "source": [
    "book1.display_book_details()"
   ]
  },
  {
   "cell_type": "markdown",
   "id": "23890558-f299-4357-878a-5427f42bc211",
   "metadata": {},
   "source": [
    "14. Discuss the differences between constructors and regular methods in Python classes."
   ]
  },
  {
   "cell_type": "markdown",
   "id": "d7fb64c4-c29c-4f6f-9189-5f13b7493d84",
   "metadata": {},
   "source": [
    "Constructors (__init__):\n",
    "\n",
    "Special methods used for initializing object attributes during instantiation.\n",
    "Automatically invoked when an object is created using the class.\n",
    "Sets up the initial state of the object.\n",
    "Named __init__.\n",
    "The first parameter is always self, referring to the instance being created.\n",
    "Usually does not have a return statement.\n",
    "\n",
    "Regular Methods:\n",
    "\n",
    "General-purpose methods that perform specific actions or functionality.\n",
    "Need to be explicitly called on an object.\n",
    "Can be called multiple times on the same object.\n",
    "Have arbitrary names chosen by the programmer.\n",
    "The first parameter is self, allowing access to object attributes.\n",
    "Can have a return statement, and their return values can be used or ignored."
   ]
  },
  {
   "cell_type": "markdown",
   "id": "29f29fef-c12e-4bf2-95ab-e43e1a41c77e",
   "metadata": {},
   "source": [
    "15. Explain the role of the `self` parameter in instance variable initialization within a constructor."
   ]
  },
  {
   "cell_type": "markdown",
   "id": "2b901901-50a5-49f4-b554-c8ca9a739a17",
   "metadata": {},
   "source": [
    "The self parameter refers to the instance of the class, allowing you to access and manipulate instance variables within the class. It is a convention in Python to name this first parameter as self, although you could technically use any name you prefer (though using self is strongly recommended for clarity)."
   ]
  },
  {
   "cell_type": "markdown",
   "id": "ab47cf09-b680-4f42-a3b9-f3e06e449e4e",
   "metadata": {},
   "source": [
    "16. How do you prevent a class from having multiple instances by using constructors in Python? Provide an\n",
    "example."
   ]
  },
  {
   "cell_type": "markdown",
   "id": "fc52b6a9-3f73-43d5-bee8-d75f55da5e53",
   "metadata": {},
   "source": [
    "Preventing a class from having multiple instances means ensuring that there's only one object of that class in your program. One common way to achieve this is by using a pattern called the \"Singleton\" pattern. In Python, you can implement a Singleton by controlling the creation of instances within the class itself."
   ]
  },
  {
   "cell_type": "markdown",
   "id": "07799c1e-a6ec-423b-93db-3849bceba62f",
   "metadata": {},
   "source": [
    "Singleton Pattern:\n",
    "\n",
    "The Singleton pattern restricts the instantiation of a class to a single instance and provides a global point of access to that instance.\n",
    "Using a Class Variable:\n",
    "\n",
    "We can use a class variable to keep track of whether an instance has already been created.\n",
    "Returning Existing Instance:\n",
    "\n",
    "If an instance already exists, the constructor can return the existing instance instead of creating a new one."
   ]
  },
  {
   "cell_type": "code",
   "execution_count": 4,
   "id": "a06c585f-c695-4371-afbe-904cafdbf522",
   "metadata": {},
   "outputs": [
    {
     "name": "stdout",
     "output_type": "stream",
     "text": [
      "Instance 1 Data\n",
      "Instance 1 Data\n"
     ]
    }
   ],
   "source": [
    "class SingletonClass:\n",
    "    # Class variable to track the instance\n",
    "    _instance = None\n",
    "\n",
    "    def __new__(cls, *args, **kwargs):\n",
    "        # Check if an instance already exists\n",
    "        if not cls._instance:\n",
    "            # If not, create a new instance\n",
    "            cls._instance = super(SingletonClass, cls).__new__(cls)\n",
    "        return cls._instance\n",
    "\n",
    "    def __init__(self, data):\n",
    "        # Initialize instance variables only if the instance is being created for the first time\n",
    "        if not hasattr(self, 'initialized'):\n",
    "            self.data = data\n",
    "            self.initialized = True\n",
    "\n",
    "# Creating instances of SingletonClass\n",
    "singleton1 = SingletonClass(data=\"Instance 1 Data\")\n",
    "singleton2 = SingletonClass(data=\"Instance 2 Data\")\n",
    "print(singleton1.data)\n",
    "print(singleton2.data)"
   ]
  },
  {
   "cell_type": "markdown",
   "id": "9ea35c1d-4705-4510-9e12-4bbec4d516d0",
   "metadata": {},
   "source": [
    "17. Create a Python class called `Student` with a constructor that takes a list of subjects as a parameter and\n",
    "initializes the `subjects` attribute."
   ]
  },
  {
   "cell_type": "code",
   "execution_count": 12,
   "id": "6bbfac51-73dd-40ee-9f9a-2f02d04dc37f",
   "metadata": {},
   "outputs": [
    {
     "name": "stdout",
     "output_type": "stream",
     "text": [
      "Subjects: Math, Science, History\n"
     ]
    }
   ],
   "source": [
    "class Student:\n",
    "    def __init__(self, subjects):\n",
    "        self.subjects = subjects\n",
    "\n",
    "    def display_subjects(self):\n",
    "        print(\"Subjects:\", \", \".join(self.subjects))\n",
    "\n",
    "# Creating an instance of the Student class\n",
    "student1 = Student(subjects=[\"Math\", \"Science\", \"History\"])\n",
    "\n",
    "# Displaying the subjects for the student\n",
    "student1.display_subjects()"
   ]
  },
  {
   "cell_type": "markdown",
   "id": "86addaca-b7e3-4758-953d-28e1d38f142b",
   "metadata": {},
   "source": [
    "18. What is the purpose of the `__del__` method in Python classes, and how does it relate to constructors?"
   ]
  },
  {
   "cell_type": "markdown",
   "id": "4f705b57-7a15-467a-ad75-acf7431b57bc",
   "metadata": {},
   "source": [
    "The __del__ method in Python classes is a special method that is called when an object is about to be destroyed"
   ]
  },
  {
   "cell_type": "code",
   "execution_count": 13,
   "id": "817a45e0-0012-47a3-a7a1-20bd6c51729a",
   "metadata": {},
   "outputs": [
    {
     "name": "stdout",
     "output_type": "stream",
     "text": [
      "sai is created\n"
     ]
    }
   ],
   "source": [
    "class Myclass:\n",
    "    def __init__(self,name):\n",
    "        self.name = name\n",
    "        print(f\"{self.name} is created\")\n",
    "        \n",
    "    def __del__(self):\n",
    "        print(f\"{self.name} is being destroyed.\")\n",
    "\n",
    "obj1 = Myclass(\"sai\")"
   ]
  },
  {
   "cell_type": "code",
   "execution_count": 14,
   "id": "cd62146e-5acc-47e9-a0ad-70176faeafee",
   "metadata": {},
   "outputs": [
    {
     "name": "stdout",
     "output_type": "stream",
     "text": [
      "sai is being destroyed.\n"
     ]
    }
   ],
   "source": [
    "del obj1"
   ]
  },
  {
   "cell_type": "markdown",
   "id": "c97f2889-1ea2-46cc-8269-6e85ccbbfc00",
   "metadata": {},
   "source": [
    "19. Explain the use of constructor chaining in Python. Provide a practical example."
   ]
  },
  {
   "cell_type": "markdown",
   "id": "320cb259-2b0a-4dcd-8aac-d42fd768cfa0",
   "metadata": {},
   "source": [
    "Constructor chaining in Python refers to the practice of one constructor calling another constructor in the same class or in its parent class. This allows for code reuse and helps ensure that common initialization logic is centralized in a single constructor.\n",
    "\n",
    "In Python, constructor chaining is typically achieved using the super() function, which is used to call methods in a superclass. "
   ]
  },
  {
   "cell_type": "code",
   "execution_count": 15,
   "id": "d346f6ed-89b3-4e7e-bb79-db024a9ee303",
   "metadata": {},
   "outputs": [
    {
     "name": "stdout",
     "output_type": "stream",
     "text": [
      "Animal of species Canine created.\n",
      "Dog of breed Labrador created.\n"
     ]
    }
   ],
   "source": [
    "class Animal:\n",
    "    def __init__(self, species):\n",
    "        self.species = species\n",
    "        print(f\"Animal of species {self.species} created.\")\n",
    "\n",
    "class Dog(Animal):\n",
    "    def __init__(self, species, breed):\n",
    "        # Call the constructor of the parent class using super()\n",
    "        super().__init__(species)\n",
    "        self.breed = breed\n",
    "        print(f\"Dog of breed {self.breed} created.\")\n",
    "\n",
    "# Creating an instance of the Dog class\n",
    "my_dog = Dog(species=\"Canine\", breed=\"Labrador\")\n"
   ]
  },
  {
   "cell_type": "markdown",
   "id": "976cb980-e565-46a3-8b34-9545540018c1",
   "metadata": {},
   "source": [
    "20. Create a Python class called `Car` with a default constructor that initializes the `make` and `model`\n",
    "attributes. Provide a method to display car information."
   ]
  },
  {
   "cell_type": "code",
   "execution_count": 16,
   "id": "8185a295-224f-44e5-ba6f-ffbe2761d4b2",
   "metadata": {},
   "outputs": [
    {
     "name": "stdout",
     "output_type": "stream",
     "text": [
      "Car details: make - Kiya, model - 2024\n"
     ]
    }
   ],
   "source": [
    "class Car:\n",
    "    def __init__(self,make,model):\n",
    "        self.make = make\n",
    "        self. model = model\n",
    "        \n",
    "    def display_details(self):\n",
    "        print(f\"Car details: make - {self.make}, model - {self.model}\")\n",
    "        \n",
    "my_car = Car(\"Kiya\", 2024)\n",
    "\n",
    "my_car.display_details()"
   ]
  },
  {
   "cell_type": "markdown",
   "id": "011703c0-6e88-4e91-9418-95926bec4f18",
   "metadata": {},
   "source": [
    "Inheritance:"
   ]
  },
  {
   "cell_type": "markdown",
   "id": "bb7f2e8e-df67-43c6-ba6f-60feebc5bcbd",
   "metadata": {},
   "source": [
    "1. What is inheritance in Python? Explain its significance in object-oriented programming."
   ]
  },
  {
   "cell_type": "markdown",
   "id": "39aaa6a5-651b-4b5f-a8fe-164886f12c6e",
   "metadata": {},
   "source": [
    "Inheritance is a fundamental concept in object-oriented programming (OOP) that allows a new class, called a subclass or derived class, to inherit attributes and methods from an existing class, called a superclass or base class. The subclass can then extend or override the functionality of the superclass.\n",
    "\n",
    "Significance\n",
    "\n",
    "*Code Reusability\n",
    "*Polymorphism\n",
    "*Methodoverriding"
   ]
  },
  {
   "cell_type": "markdown",
   "id": "01c04fce-a337-4d6b-91e0-df5c3b491106",
   "metadata": {},
   "source": [
    "2. Differentiate between single inheritance and multiple inheritance in Python. Provide examples for each."
   ]
  },
  {
   "cell_type": "markdown",
   "id": "09901246-8199-4e1d-bc32-29a4740bdf4a",
   "metadata": {},
   "source": [
    "Single Inheritance: where a class can inherit attributes & methods from only one super class\n",
    "Multiple Inheritance: where a class can inherit attributes & methods from more than one super class"
   ]
  },
  {
   "cell_type": "code",
   "execution_count": 1,
   "id": "28051cea-d464-413c-99fe-eee968137284",
   "metadata": {},
   "outputs": [],
   "source": [
    "class Animal:\n",
    "    def speak(self):\n",
    "        print(\"Animal speaks\")\n",
    "\n",
    "class Dog(Animal):\n",
    "    def bark(self):\n",
    "        print(\"Dog barks\")"
   ]
  },
  {
   "cell_type": "code",
   "execution_count": 2,
   "id": "4eefb649-aec8-45f9-81a9-afe23c76a76d",
   "metadata": {},
   "outputs": [],
   "source": [
    "class Flyable:\n",
    "    def fly(self):\n",
    "        print(\"Can fly\")\n",
    "\n",
    "class Swimmable:\n",
    "    def swim(self):\n",
    "        print(\"Can swim\")\n",
    "\n",
    "class Amphibian(Flyable, Swimmable):\n",
    "    pass"
   ]
  },
  {
   "cell_type": "markdown",
   "id": "c3d03ac7-3069-4849-af57-b749dcdec7db",
   "metadata": {},
   "source": [
    "3. Create a Python class called `Vehicle` with attributes `color` and `speed`. Then, create a child class called\n",
    "`Car` that inherits from `Vehicle` and adds a `brand` attribute. Provide an example of creating a `Car` object."
   ]
  },
  {
   "cell_type": "code",
   "execution_count": 12,
   "id": "abaaefe2-4afc-44a3-ad3a-4c1b0d8d9390",
   "metadata": {},
   "outputs": [],
   "source": [
    "class Vehicle:\n",
    "    def __init__(self,colour,speed):\n",
    "        self.colour = colour\n",
    "        self.speed = speed\n",
    "class Car(Vehicle):\n",
    "    def __init__(self,colour,speed,brand):\n",
    "        super().__init__(colour,speed)\n",
    "        self.brand = brand"
   ]
  },
  {
   "cell_type": "code",
   "execution_count": 13,
   "id": "685861f9-6e14-4f62-a993-53951684862c",
   "metadata": {},
   "outputs": [],
   "source": [
    "car1 = Car(colour=\"Blue\", speed=60, brand=\"Toyota\")"
   ]
  },
  {
   "cell_type": "markdown",
   "id": "7f80e412-3f1e-44d9-9ffd-efc58b68a221",
   "metadata": {
    "tags": []
   },
   "source": [
    "4. Explain the concept of method overriding in inheritance. Provide a practical example."
   ]
  },
  {
   "cell_type": "code",
   "execution_count": 19,
   "id": "5f056216-2f5b-4fee-81a5-888146a4f5df",
   "metadata": {},
   "outputs": [],
   "source": [
    "class Shape:\n",
    "    def area(self):\n",
    "        return 0\n",
    "class Rectangle(Shape):\n",
    "    def __init__(self,length,width):\n",
    "        self.length = length\n",
    "        self.width = width\n",
    "        \n",
    "    def area(self):\n",
    "        return self.length * self.width\n"
   ]
  },
  {
   "cell_type": "code",
   "execution_count": 21,
   "id": "7f71ddd3-cbb2-41f8-be20-d90f139e6ed5",
   "metadata": {},
   "outputs": [],
   "source": [
    "shape = Shape()\n",
    "rectangle = Rectangle(length=5, width=3)\n"
   ]
  },
  {
   "cell_type": "code",
   "execution_count": 22,
   "id": "8df1bde2-24ad-4fa9-bbf0-2e775eaf30a1",
   "metadata": {},
   "outputs": [
    {
     "data": {
      "text/plain": [
       "15"
      ]
     },
     "execution_count": 22,
     "metadata": {},
     "output_type": "execute_result"
    }
   ],
   "source": [
    "rectangle.area()"
   ]
  },
  {
   "cell_type": "code",
   "execution_count": 23,
   "id": "95a442b8-8504-4b73-b3fc-d4d745d2c0b2",
   "metadata": {},
   "outputs": [
    {
     "data": {
      "text/plain": [
       "0"
      ]
     },
     "execution_count": 23,
     "metadata": {},
     "output_type": "execute_result"
    }
   ],
   "source": [
    "shape.area()"
   ]
  },
  {
   "cell_type": "markdown",
   "id": "8c4b3883-cd80-4523-bb7e-3c18265b3bb1",
   "metadata": {},
   "source": [
    "Method overriding is a concept in object-oriented programming where a subclass provides a specific implementation for a method that is already defined in its superclass. The overridden method in the subclass has the same signature (name and parameters) as the method in the superclass."
   ]
  },
  {
   "cell_type": "markdown",
   "id": "bc125686-1b52-4b20-9041-d9e5e1b3bae4",
   "metadata": {},
   "source": [
    "5. How can you access the methods and attributes of a parent class from a child class in Python? Give an\n",
    "example."
   ]
  },
  {
   "cell_type": "code",
   "execution_count": 26,
   "id": "67914c64-674a-495d-a708-98297cdc0e01",
   "metadata": {},
   "outputs": [
    {
     "name": "stdout",
     "output_type": "stream",
     "text": [
      "Parent class - Name: John\n",
      "Child class - Age: 10\n"
     ]
    }
   ],
   "source": [
    "class Parent:\n",
    "    def __init__(self, name):\n",
    "        self.name = name\n",
    "\n",
    "    def show_info(self):\n",
    "        print(f\"Parent class - Name: {self.name}\")\n",
    "\n",
    "class Child(Parent):\n",
    "    def __init__(self, name, age):\n",
    "        # Call the constructor of the parent class using super()\n",
    "        super().__init__(name)\n",
    "        self.age = age\n",
    "\n",
    "    def show_info(self):\n",
    "        # Call the method of the parent class using super()\n",
    "        super().show_info()\n",
    "        print(f\"Child class - Age: {self.age}\")\n",
    "\n",
    "# Creating an instance of the Child class\n",
    "child_obj = Child(name=\"John\", age=10)\n",
    "\n",
    "# Accessing the methods and attributes\n",
    "child_obj.show_info()\n"
   ]
  },
  {
   "cell_type": "markdown",
   "id": "8134a8fb-660c-4ffd-b93d-bed7082c88ca",
   "metadata": {},
   "source": [
    "6. Discuss the use of the `super()` function in Python inheritance. When and why is it used? Provide an\n",
    "example."
   ]
  },
  {
   "cell_type": "markdown",
   "id": "fb38414c-ba0e-435f-a5a5-c9418db2d5ed",
   "metadata": {},
   "source": [
    "The super() function in Python is used in the context of inheritance to call methods or access attributes of the parent class (superclass) from within a subclass. It's particularly useful when you want to extend or override the behavior of the parent class in the child class."
   ]
  },
  {
   "cell_type": "code",
   "execution_count": 27,
   "id": "69bd68e9-269f-4dbb-a239-30e3331f0331",
   "metadata": {},
   "outputs": [
    {
     "name": "stdout",
     "output_type": "stream",
     "text": [
      "Color: Blue, Speed: 120 km/h\n",
      "Brand: Toyota\n"
     ]
    }
   ],
   "source": [
    "class Vehicle:\n",
    "    def __init__(self, color, speed):\n",
    "        self.color = color\n",
    "        self.speed = speed\n",
    "\n",
    "    def display_info(self):\n",
    "        print(f\"Color: {self.color}, Speed: {self.speed} km/h\")\n",
    "\n",
    "class Car(Vehicle):\n",
    "    def __init__(self, color, speed, brand):\n",
    "        # Call the constructor of the parent class using super()\n",
    "        super().__init__(color, speed)\n",
    "        self.brand = brand\n",
    "\n",
    "    def display_info(self):\n",
    "        # Call the display_info method of the parent class using super()\n",
    "        super().display_info()\n",
    "        print(f\"Brand: {self.brand}\")\n",
    "\n",
    "# Creating an instance of the Car class\n",
    "my_car = Car(color=\"Blue\", speed=120, brand=\"Toyota\")\n",
    "\n",
    "# Accessing methods from both Vehicle and Car classes\n",
    "my_car.display_info()"
   ]
  },
  {
   "cell_type": "code",
   "execution_count": null,
   "id": "92dff357-d43f-4041-a3cd-e9e134992034",
   "metadata": {},
   "outputs": [],
   "source": [
    "7. Create a Python class called `Animal` with a method `speak()`. Then, create child classes `Dog` and `Cat`"
   ]
  },
  {
   "cell_type": "code",
   "execution_count": 29,
   "id": "3ce10d81-3772-4c24-804f-4477d35bea1f",
   "metadata": {},
   "outputs": [],
   "source": [
    "class Animal:\n",
    "    def speak(self):\n",
    "        print(f\"Animal Speaks\")\n",
    "        \n",
    "class Dog:\n",
    "    def speak(self):\n",
    "                print(f\"Dog barks\")\n",
    "class Cat:\n",
    "    def speak(self):\n",
    "                print(f\"Cat Shouts\")"
   ]
  },
  {
   "cell_type": "code",
   "execution_count": 31,
   "id": "965ac069-51cb-4eba-9169-153701ecd937",
   "metadata": {},
   "outputs": [],
   "source": [
    "animal = Animal()\n",
    "dog = Dog()\n",
    "cat = Cat()"
   ]
  },
  {
   "cell_type": "code",
   "execution_count": 32,
   "id": "d928e4b3-0c31-4dfa-b47b-df46c01bbeaa",
   "metadata": {},
   "outputs": [
    {
     "name": "stdout",
     "output_type": "stream",
     "text": [
      "Animal Speaks\n"
     ]
    }
   ],
   "source": [
    "animal.speak()"
   ]
  },
  {
   "cell_type": "code",
   "execution_count": 33,
   "id": "43912206-9a9d-41fb-9cef-bc6c347fa84a",
   "metadata": {},
   "outputs": [
    {
     "name": "stdout",
     "output_type": "stream",
     "text": [
      "Dog barks\n"
     ]
    }
   ],
   "source": [
    "dog.speak()"
   ]
  },
  {
   "cell_type": "code",
   "execution_count": 34,
   "id": "647f2ca4-7c85-4c49-a62b-e743ff7f5fc1",
   "metadata": {},
   "outputs": [
    {
     "name": "stdout",
     "output_type": "stream",
     "text": [
      "Cat Shouts\n"
     ]
    }
   ],
   "source": [
    "cat.speak()"
   ]
  },
  {
   "cell_type": "markdown",
   "id": "49d8765f-54c5-477b-9b68-372e253b8314",
   "metadata": {},
   "source": [
    "8. Explain the role of the `isinstance()` function in Python and how it relates to inheritance."
   ]
  },
  {
   "cell_type": "code",
   "execution_count": 35,
   "id": "de21530c-c407-4541-9493-5a46dd25e69e",
   "metadata": {},
   "outputs": [],
   "source": [
    "class Animal:\n",
    "    pass\n",
    "class Dog(Animal):\n",
    "    pass\n",
    "\n",
    "class Cat(Animal):\n",
    "    pass\n"
   ]
  },
  {
   "cell_type": "code",
   "execution_count": 36,
   "id": "254e8832-4b6d-40e3-bf76-357c50bbd919",
   "metadata": {},
   "outputs": [
    {
     "data": {
      "text/plain": [
       "True"
      ]
     },
     "execution_count": 36,
     "metadata": {},
     "output_type": "execute_result"
    }
   ],
   "source": [
    "animal = Animal()\n",
    "dog = Dog()\n",
    "cat = Cat()\n",
    "\n",
    "isinstance(animal,Animal)"
   ]
  },
  {
   "cell_type": "code",
   "execution_count": 37,
   "id": "6e5923af-323f-4657-9c1a-e7a19beb5cec",
   "metadata": {},
   "outputs": [
    {
     "data": {
      "text/plain": [
       "True"
      ]
     },
     "execution_count": 37,
     "metadata": {},
     "output_type": "execute_result"
    }
   ],
   "source": [
    "isinstance(dog,Animal)"
   ]
  },
  {
   "cell_type": "markdown",
   "id": "6d140e28-4644-4efc-9572-2c6108887794",
   "metadata": {},
   "source": [
    "9. What is the purpose of the `issubclass()` function in Python? Provide an example."
   ]
  },
  {
   "cell_type": "code",
   "execution_count": 38,
   "id": "ac94d73a-947f-44df-aede-8ec736dc84ec",
   "metadata": {},
   "outputs": [
    {
     "name": "stdout",
     "output_type": "stream",
     "text": [
      "True\n",
      "True\n",
      "True\n",
      "False\n"
     ]
    }
   ],
   "source": [
    "class Animal:\n",
    "    pass\n",
    "\n",
    "class Mammal(Animal):\n",
    "    pass\n",
    "\n",
    "class Dog(Mammal):\n",
    "    pass\n",
    "\n",
    "# Checking subclass relationship\n",
    "print(issubclass(Mammal, Animal))  # Output: True\n",
    "print(issubclass(Dog, Mammal))      # Output: True\n",
    "print(issubclass(Dog, Animal))      # Output: True\n",
    "print(issubclass(Animal, Mammal))   # Output: False\n"
   ]
  },
  {
   "cell_type": "markdown",
   "id": "9daae934-3278-4c82-9872-3a6c4530ff9d",
   "metadata": {},
   "source": [
    "10. Discuss the concept of constructor inheritance in Python. How are constructors inherited in child classes?"
   ]
  },
  {
   "cell_type": "code",
   "execution_count": 39,
   "id": "34545339-a76c-4c11-aaa2-2b1c52ba9d73",
   "metadata": {},
   "outputs": [
    {
     "name": "stdout",
     "output_type": "stream",
     "text": [
      "Parent constructor called. Name: John\n",
      "Child constructor called. Age: 10\n"
     ]
    }
   ],
   "source": [
    "class Parent:\n",
    "    def __init__(self, name):\n",
    "        self.name = name\n",
    "        print(f\"Parent constructor called. Name: {self.name}\")\n",
    "\n",
    "class Child(Parent):\n",
    "    def __init__(self, name, age):\n",
    "        # Call the constructor of the parent class using super()\n",
    "        super().__init__(name)\n",
    "        self.age = age\n",
    "        print(f\"Child constructor called. Age: {self.age}\")\n",
    "\n",
    "# Creating an instance of the Child class\n",
    "child_obj = Child(name=\"John\", age=10)\n"
   ]
  },
  {
   "cell_type": "markdown",
   "id": "706820e1-f8e6-4f57-809f-12b8270ae945",
   "metadata": {},
   "source": [
    "11. Create a Python class called `Shape` with a method `area()` that calculates the area of a shape. Then, create child classes `Circle` and `Rectangle` that inherit from `Shape` and implement the `area()` method\n",
    "accordingly. Provide an example."
   ]
  },
  {
   "cell_type": "code",
   "execution_count": 2,
   "id": "fafe4312-69a9-4770-a2e6-3795699f79c3",
   "metadata": {},
   "outputs": [],
   "source": [
    "class Shape:\n",
    "    def area(self):\n",
    "        pass\n",
    "\n",
    "class Circle(Shape):\n",
    "    def __init__(self, radius):\n",
    "        self.radius = radius\n",
    "\n",
    "    def area(self):\n",
    "        return 3.14 * self.radius**2\n",
    "\n",
    "class Rectangle(Shape):\n",
    "    def __init__(self, length, breadth):\n",
    "        self.length = length\n",
    "        self.breadth = breadth\n",
    "\n",
    "    def area(self):\n",
    "        return self.length * self.breadth\n",
    "\n",
    "\n",
    "circle = Circle(radius=5)\n",
    "rectangle = Rectangle(length=4, breadth=6)\n",
    "\n"
   ]
  },
  {
   "cell_type": "markdown",
   "id": "fb7e76d1-57db-4e72-aba6-2272ac60d295",
   "metadata": {},
   "source": [
    "12. Explain the use of abstract base classes (ABCs) in Python and how they relate to inheritance. Provide an\n",
    "example using the `abc` module."
   ]
  },
  {
   "cell_type": "code",
   "execution_count": 4,
   "id": "20ecf558-5546-47a8-b893-e24ceddadaab",
   "metadata": {},
   "outputs": [],
   "source": [
    "from abc import ABC, abstractmethod\n",
    "import math\n",
    "\n",
    "class Shape(ABC):\n",
    "    def area(self):\n",
    "        pass\n",
    "class Circle(Shape):\n",
    "    def __init__(self,radius):\n",
    "        self.radius = radius\n",
    "    \n",
    "    def area(self):\n",
    "        return math.pi * self.radius**2"
   ]
  },
  {
   "cell_type": "code",
   "execution_count": 5,
   "id": "a9ad3994-a54a-442b-9d30-f4a87eebd1b1",
   "metadata": {},
   "outputs": [],
   "source": [
    "circle = Circle(2)"
   ]
  },
  {
   "cell_type": "code",
   "execution_count": 9,
   "id": "ca3ce4b1-f11c-4bcf-8dca-0a140ba5b45d",
   "metadata": {},
   "outputs": [
    {
     "data": {
      "text/plain": [
       "12.566370614359172"
      ]
     },
     "execution_count": 9,
     "metadata": {},
     "output_type": "execute_result"
    }
   ],
   "source": [
    "circle.area()"
   ]
  },
  {
   "cell_type": "markdown",
   "id": "ca7a9d7e-6f17-4191-b1ba-29adb2dc8c76",
   "metadata": {},
   "source": [
    "An abstract class is a class that cannot be instantiated on its own and is meant to be subclassed by other classes. Abstract methods declared in an abstract class must be implemented by its concrete subclasses."
   ]
  },
  {
   "cell_type": "markdown",
   "id": "b9a371fc-0682-42c9-9da0-b6dc0963e396",
   "metadata": {},
   "source": [
    "13. How can you prevent a child class from modifying certain attributes or methods inherited from a parent\n",
    "class in Python?"
   ]
  },
  {
   "cell_type": "code",
   "execution_count": 13,
   "id": "dfa98d96-5dea-49cc-a73d-92fa8baa33dd",
   "metadata": {},
   "outputs": [],
   "source": [
    "class Parent:\n",
    "    \n",
    "    def __init__(self):\n",
    "        self._protected_attribute = 40\n",
    "        self.__private_attribute = \"This is private\"\n",
    "    def _protected_method(self):\n",
    "        print(\"This is a protected method\")\n",
    "    def __private_method(self):\n",
    "        print(\"This is a private method\")\n",
    "        \n",
    "class Child(Parent):\n",
    "    \n",
    "    def modify_attributes(self):\n",
    "        \n",
    "        self._protected_attribute = 100\n",
    "        \n",
    "        try:\n",
    "            self.__private_attribute = \"Trying to modify private attribute\"\n",
    "        except AttributeError as e:\n",
    "                print(f\"AttributeError: {e}\")\n",
    "    def access_methods(self):\n",
    "        \n",
    "        self._protected_method()\n",
    "        \n",
    "        try:\n",
    "            self.__private_method()\n",
    "        except AttributeError as e:\n",
    "            print(f\"AttributeError: {e}\")\n",
    "        "
   ]
  },
  {
   "cell_type": "code",
   "execution_count": 14,
   "id": "9c61960c-1400-4bb0-b1e9-b984aaf1482f",
   "metadata": {},
   "outputs": [],
   "source": [
    "parent_instance = Parent()\n",
    "child_instance = Child()"
   ]
  },
  {
   "cell_type": "code",
   "execution_count": 15,
   "id": "cf0221ee-f332-4532-92d4-9009fec9280b",
   "metadata": {},
   "outputs": [],
   "source": [
    "child_instance.modify_attributes()"
   ]
  },
  {
   "cell_type": "code",
   "execution_count": 16,
   "id": "3aa523e3-4ce3-4355-9480-e660fb7bef28",
   "metadata": {},
   "outputs": [
    {
     "name": "stdout",
     "output_type": "stream",
     "text": [
      "This is a protected method\n",
      "AttributeError: 'Child' object has no attribute '_Child__private_method'\n"
     ]
    }
   ],
   "source": [
    "child_instance.access_methods()"
   ]
  },
  {
   "cell_type": "markdown",
   "id": "3b29ba58-aeb7-4e4a-9e98-62b39b8ef621",
   "metadata": {},
   "source": [
    "14. Create a Python class called `Employee` with attributes `name` and `salary`. Then, create a child class\n",
    "`Manager` that inherits from `Employee` and adds an attribute `department`. Provide an example."
   ]
  },
  {
   "cell_type": "code",
   "execution_count": 18,
   "id": "16530028-fcc3-40d6-ae91-57f7ea63b2dd",
   "metadata": {},
   "outputs": [],
   "source": [
    "class Employee:\n",
    "    def __init__(self,name,salary):\n",
    "        self.name = name\n",
    "        self.salary = salary\n",
    "class Manager(Employee):\n",
    "    def __init__(self,name,salary,department):\n",
    "        super().__init__(name,salary)\n",
    "        self.department = department"
   ]
  },
  {
   "cell_type": "code",
   "execution_count": 19,
   "id": "21443a89-a4f5-40f2-82c0-f34f76807c58",
   "metadata": {},
   "outputs": [],
   "source": [
    "manager = Manager(\"sai\", 1000000, \"PPC\")"
   ]
  },
  {
   "cell_type": "code",
   "execution_count": 20,
   "id": "454ff08e-c8b9-4b78-8d3c-fa61d6df4217",
   "metadata": {},
   "outputs": [
    {
     "data": {
      "text/plain": [
       "'PPC'"
      ]
     },
     "execution_count": 20,
     "metadata": {},
     "output_type": "execute_result"
    }
   ],
   "source": [
    "manager.department"
   ]
  },
  {
   "cell_type": "markdown",
   "id": "bc90c682-460f-4e49-b82d-2734f3d67a3a",
   "metadata": {},
   "source": [
    "15. Discuss the concept of method overloading in Python inheritance. How does it differ from method\n",
    "overriding?"
   ]
  },
  {
   "cell_type": "markdown",
   "id": "a3e37db0-4ae8-4e9f-8aa2-0c25e1ac6773",
   "metadata": {},
   "source": [
    "Method overloading is more about having multiple methods with the same name in the same class or its subclasses. It is not a strict requirement of inheritance. On the other hand, method overriding specifically deals with providing a new implementation for a method in a child class that already exists in the parent class."
   ]
  },
  {
   "cell_type": "markdown",
   "id": "65701bc4-4c6d-4ed8-93bd-8d9491114cc2",
   "metadata": {},
   "source": [
    "16. Explain the purpose of the `__init__()` method in Python inheritance and how it is utilized in child classes."
   ]
  },
  {
   "cell_type": "markdown",
   "id": "456697a4-14f0-4d60-b13b-9f3a7ceec961",
   "metadata": {},
   "source": [
    "Initialization of Attributes:\n",
    "\n",
    "The primary purpose of the __init__() method is to initialize the attributes of an object. This includes setting default values or accepting initial values as parameters.\n",
    "Inheritance Chain:\n",
    "\n",
    "In the case of inheritance, when a child class is instantiated, the __init__() method of both the parent and child classes is often called. This ensures that attributes from both the parent and child classes are properly initialized.\n",
    "Access to Parent Class Attributes:\n",
    "\n",
    "The super() function is commonly used within the __init__() method of a child class to call the constructor of the parent class. This allows the child class to inherit and initialize attributes from the parent class."
   ]
  },
  {
   "cell_type": "markdown",
   "id": "5757246b-00b7-43f5-9412-ae85bf75a778",
   "metadata": {},
   "source": [
    "17. Create a Python class called `Bird` with a method `fly()`. Then, create child classes `Eagle` and `Sparrow` that inherit from `Bird` and implement the `fly()` method differently. Provide an example of using these\n",
    "classes."
   ]
  },
  {
   "cell_type": "code",
   "execution_count": 21,
   "id": "540bc64d-c412-43e1-bcf8-302c901060f3",
   "metadata": {},
   "outputs": [],
   "source": [
    "class Bird:\n",
    "    def fly(self):\n",
    "        return \"Bird Flies\"\n",
    "    \n",
    "class Eagle(Bird):\n",
    "    def fly(self):\n",
    "        return \"Eagle Flies\"\n",
    "\n",
    "class Sparrow(Bird):\n",
    "    def fly(self):\n",
    "        return \"Sparrow Flies\"\n"
   ]
  },
  {
   "cell_type": "markdown",
   "id": "1fe67eaa-a751-4572-bb1e-17dc279faa48",
   "metadata": {},
   "source": [
    "18. What is the \"diamond problem\" in multiple inheritance, and how does Python address it?"
   ]
  },
  {
   "cell_type": "markdown",
   "id": "0579a881-8f2d-4898-b664-90e8518e8659",
   "metadata": {},
   "source": [
    "The \"diamond problem\" is a term used in the context of multiple inheritance in object-oriented programming, and it arises when a class inherits from two classes that have a common ancestor. This can lead to ambiguity and challenges in determining which version of a method or attribute should be used.\n",
    "Python addresses the diamond problem using a mechanism called \"C3 linearization\" or the C3 superclass linearization algorithm. This algorithm ensures a consistent and predictable order in which classes are searched for attributes and methods during multiple inheritance.\n",
    "\n",
    "The C3 linearization algorithm follows these principles:\n",
    "\n",
    "Depth-First, Left-to-Right (DFO):\n",
    "\n",
    "It follows a depth-first, left-to-right traversal of the inheritance hierarchy. When there are multiple paths to reach a common ancestor, it prioritizes the leftmost path.\n",
    "Preserving Local Precedence Order:\n",
    "\n",
    "It preserves the order of classes as they are listed in the inheritance declaration. This ensures that the attributes and methods of the most recent class in the declaration take precedence."
   ]
  },
  {
   "cell_type": "markdown",
   "id": "68945750-ff16-4bfe-930c-2ca2b046a7ed",
   "metadata": {},
   "source": [
    "19. Discuss the concept of \"is-a\" and \"has-a\" relationships in inheritance, and provide examples of each."
   ]
  },
  {
   "cell_type": "code",
   "execution_count": 22,
   "id": "69dcd9bf-d37e-4729-82d6-0c5f79d52527",
   "metadata": {},
   "outputs": [
    {
     "name": "stdout",
     "output_type": "stream",
     "text": [
      "Woof! Woof!\n",
      "Meow\n"
     ]
    }
   ],
   "source": [
    "# \"is-a\" relationship example\n",
    "\n",
    "class Animal:\n",
    "    def make_sound(self):\n",
    "        pass\n",
    "\n",
    "class Dog(Animal):  # Dog \"is-a\" type of Animal\n",
    "    def make_sound(self):\n",
    "        print(\"Woof! Woof!\")\n",
    "\n",
    "class Cat(Animal):  # Cat \"is-a\" type of Animal\n",
    "    def make_sound(self):\n",
    "        print(\"Meow\")\n",
    "\n",
    "# Example usage:\n",
    "dog = Dog()\n",
    "cat = Cat()\n",
    "\n",
    "dog.make_sound()  # Output: Woof! Woof!\n",
    "cat.make_sound()  # Output: Meow\n"
   ]
  },
  {
   "cell_type": "code",
   "execution_count": 23,
   "id": "dacd3ea4-2829-4f26-9990-710a10a59849",
   "metadata": {},
   "outputs": [
    {
     "name": "stdout",
     "output_type": "stream",
     "text": [
      "Car is driving\n",
      "Engine started\n"
     ]
    }
   ],
   "source": [
    "# \"has-a\" relationship example\n",
    "\n",
    "class Engine:\n",
    "    def start(self):\n",
    "        print(\"Engine started\")\n",
    "\n",
    "class Car:\n",
    "    def __init__(self):\n",
    "        self.engine = Engine()  # Car \"has-a\" Engine\n",
    "\n",
    "    def drive(self):\n",
    "        print(\"Car is driving\")\n",
    "\n",
    "# Example usage:\n",
    "my_car = Car()\n",
    "my_car.drive()  # Output: Car is driving\n",
    "my_car.engine.start()  # Output: Engine started\n"
   ]
  },
  {
   "cell_type": "markdown",
   "id": "61c454dd-972a-4134-b2f4-a2e796bbdcc1",
   "metadata": {},
   "source": [
    "20. Create a Python class hierarchy for a university system. Start with a base class `Person` and create child\n",
    "classes `Student` and `Professor`, each with their own attributes and methods. Provide an example of using\n",
    "these classes in a university context."
   ]
  },
  {
   "cell_type": "code",
   "execution_count": 25,
   "id": "dce3eafc-98b2-475b-b4fe-867fba6902e5",
   "metadata": {},
   "outputs": [
    {
     "name": "stdout",
     "output_type": "stream",
     "text": [
      "Name: Sai, Age: 30\n",
      "Kumar is enrolled in Maths\n",
      "Kumar is enrolled in SOM\n",
      "Name: Kumar, Age: 24\n",
      "Student ID: 12345, Enrolled Courses: Maths, SOM\n",
      "Dr. Ravi is assigned to teach Computer Science\n",
      "Dr. Ravi is assigned to teach Mechanical\n",
      "Name: Dr. Ravi, Age: 50\n",
      "Employee ID: 98765, Courses Taught: Computer Science, Mechanical\n"
     ]
    }
   ],
   "source": [
    "class Person:\n",
    "    def __init__(self, name, age):\n",
    "        self.name = name\n",
    "        self.age = age\n",
    "\n",
    "    def display_info(self):\n",
    "        print(f\"Name: {self.name}, Age: {self.age}\")\n",
    "\n",
    "\n",
    "class Student(Person):\n",
    "    def __init__(self, name, age, student_id):\n",
    "        super().__init__(name, age)\n",
    "        self.student_id = student_id\n",
    "        self.courses = []\n",
    "\n",
    "    def enroll_course(self, course):\n",
    "        self.courses.append(course)\n",
    "        print(f\"{self.name} is enrolled in {course}\")\n",
    "\n",
    "    def display_info(self):\n",
    "        super().display_info()\n",
    "        print(f\"Student ID: {self.student_id}, Enrolled Courses: {', '.join(self.courses)}\")\n",
    "\n",
    "\n",
    "class Professor(Person):\n",
    "    def __init__(self, name, age, employee_id):\n",
    "        super().__init__(name, age)\n",
    "        self.employee_id = employee_id\n",
    "        self.courses_taught = []\n",
    "\n",
    "    def assign_course(self, course):\n",
    "        self.courses_taught.append(course)\n",
    "        print(f\"{self.name} is assigned to teach {course}\")\n",
    "\n",
    "    def display_info(self):\n",
    "        super().display_info()\n",
    "        print(f\"Employee ID: {self.employee_id}, Courses Taught: {', '.join(self.courses_taught)}\")\n",
    "\n",
    "\n",
    "# Example usage in a university context:\n",
    "\n",
    "# Create instances of Person, Student, and Professor\n",
    "person1 = Person(name=\"Sai\", age=30)\n",
    "student1 = Student(name=\"Kumar\", age=24, student_id=\"12345\")\n",
    "professor1 = Professor(name=\"Dr. Ravi\", age=50, employee_id=\"98765\")\n",
    "\n",
    "# Display information for each person\n",
    "person1.display_info()\n",
    "\n",
    "# Enroll student in courses\n",
    "student1.enroll_course(\"Maths\")\n",
    "student1.enroll_course(\"SOM\")\n",
    "\n",
    "# Display student information\n",
    "student1.display_info()\n",
    "\n",
    "# Assign courses to professor\n",
    "professor1.assign_course(\"Computer Science\")\n",
    "professor1.assign_course(\"Mechanical\")\n",
    "\n",
    "# Display professor information\n",
    "professor1.display_info()\n"
   ]
  },
  {
   "cell_type": "markdown",
   "id": "331ced92-e47d-4003-ba1f-83ee6f0a98ca",
   "metadata": {},
   "source": [
    "Encapsulation:"
   ]
  },
  {
   "cell_type": "markdown",
   "id": "b58477b6-f4fc-45a1-a569-e433311a09bb",
   "metadata": {},
   "source": [
    "1. Explain the concept of encapsulation in Python. What is its role in object-oriented programming?"
   ]
  },
  {
   "cell_type": "markdown",
   "id": "c91c3cb2-f419-44cf-9e3e-3bc80a21888f",
   "metadata": {},
   "source": [
    "Encapsulation is a way of organizing code in object-oriented programming. It involves bundling the data (attributes) and the methods (functions) that operate on the data into a single unit known as a class.\n",
    "Data Protection:\n",
    "\n",
    "Encapsulation helps protect the internal state of an object by hiding its details. This prevents unintended modification of data by external code, making the code more robust.\n",
    "Abstraction:\n",
    "\n",
    "Encapsulation allows the class to hide complex implementation details and expose only what is necessary. Users of the class interact with a simplified interface, making the code more understandable.\n",
    "Modularity:\n",
    "\n",
    "Objects encapsulate data and behavior within a single unit. This modularity makes it easier to organize and maintain code. Changes to the internal implementation of a class do not affect the code that uses the class."
   ]
  },
  {
   "cell_type": "markdown",
   "id": "a9ecc357-55a2-4e70-98b9-5948748faa69",
   "metadata": {},
   "source": [
    "2. Describe the key principles of encapsulation, including access control and data hiding."
   ]
  },
  {
   "cell_type": "markdown",
   "id": "98c3d8c7-2d49-446c-888f-15d9ee3baa47",
   "metadata": {},
   "source": [
    "Access Control: Public(can be accessed ouside the class using object), Private(__):can be accessed within the class only,protected(_):can be accessed within the class & its subclasses."
   ]
  },
  {
   "cell_type": "markdown",
   "id": "f37a64c2-bd53-4e86-91d5-dde7daf5d6cd",
   "metadata": {},
   "source": [
    "Data Hiding: Using Private variable, can be accessed through getter & setter methods"
   ]
  },
  {
   "cell_type": "markdown",
   "id": "7d548ce5-7180-4949-84b4-5ea218f3bb03",
   "metadata": {},
   "source": [
    "3. How can you achieve encapsulation in Python classes? Provide an example."
   ]
  },
  {
   "cell_type": "markdown",
   "id": "1f653454-94a2-4570-80b0-373eb760f040",
   "metadata": {},
   "source": [
    "Encapsulation in Python classes can be achieved by using access modifiers to control the visibility of attributes and methods. The two common access modifiers in Python are single underscore (_) for protected members and double underscore (__) for private members. Additionally, the use of getter and setter methods allows controlled access to the attributes, providing a level of data hiding."
   ]
  },
  {
   "cell_type": "code",
   "execution_count": null,
   "id": "868081aa-2084-4402-a12a-c83dde7eb8cc",
   "metadata": {},
   "outputs": [],
   "source": [
    "class BankAccount:\n",
    "    \n",
    "    def __init__(self,accholder,balance):\n",
    "        self._accholder = accholder\n",
    "        self.__balance = balance\n",
    "        \n",
    "    def get_balance(self):\n",
    "        return self.__balance\n",
    "    \n",
    "    def set_balance(self,new_balance):\n",
    "        self.__balance = new_balance\n",
    "        \n",
    "    def deposit(self,amount):\n",
    "        \n",
    "        if amount > 0:\n",
    "            \n",
    "            self.__balance += amount\n",
    "            \n",
    "    def withdrawl(self,amount):\n",
    "        if amount > 0 & amount < self.__balance:\n",
    "            self.__balance -= amount\n",
    "\n",
    "\n",
    "        "
   ]
  },
  {
   "cell_type": "code",
   "execution_count": null,
   "id": "c6236109-f9b5-4bc7-bc3d-d956b27473b5",
   "metadata": {},
   "outputs": [],
   "source": []
  },
  {
   "cell_type": "markdown",
   "id": "5e0ee43a-3594-42b3-bdd7-8c0af839f680",
   "metadata": {},
   "source": [
    "4. Discuss the difference between public, private, and protected access modifiers in Python."
   ]
  },
  {
   "cell_type": "markdown",
   "id": "7647e2bc-4293-4cea-b818-abbb3050e43e",
   "metadata": {},
   "source": [
    "Public:\n",
    "\n",
    "Marked with no special syntax.\n",
    "Accessible from anywhere, both inside and outside the class.\n",
    "Protected:\n",
    "\n",
    "Denoted by a single underscore (_) before the name.\n",
    "Accessible within the class and its subclasses.\n",
    "Convention for signaling intended usage rather than strict enforcement.\n",
    "Private:\n",
    "\n",
    "Denoted by a double underscore (__) before the name.\n",
    "Accessible only within the class.\n",
    "Requires name mangling (_ClassName__private_member) to access from outside the class."
   ]
  },
  {
   "cell_type": "markdown",
   "id": "1f9e5d41-18b6-4519-b6c5-1503acc43aae",
   "metadata": {},
   "source": [
    "5. Create a Python class called `Person` with a private attribute `__name`. Provide methods to get and set the\n",
    "name attribute."
   ]
  },
  {
   "cell_type": "code",
   "execution_count": 10,
   "id": "d6e44146-9066-4cf3-968a-bca93dc16a19",
   "metadata": {},
   "outputs": [],
   "source": [
    "class Person:\n",
    "    def __init__(self,name):\n",
    "        self.__name = name\n",
    "        \n",
    "    def get_name(self):\n",
    "        return self.__name\n",
    "    \n",
    "    def set_name(self,new_name):\n",
    "        self.__name = new_name\n",
    "        return self.__name"
   ]
  },
  {
   "cell_type": "code",
   "execution_count": 11,
   "id": "85b425b1-61df-4f5a-a578-5445a569ee09",
   "metadata": {},
   "outputs": [],
   "source": [
    "person = Person(\"Sai\")"
   ]
  },
  {
   "cell_type": "code",
   "execution_count": 12,
   "id": "c93d6e48-e67a-4800-852d-e19dddffc0ef",
   "metadata": {},
   "outputs": [
    {
     "data": {
      "text/plain": [
       "'Sai'"
      ]
     },
     "execution_count": 12,
     "metadata": {},
     "output_type": "execute_result"
    }
   ],
   "source": [
    "person.get_name()"
   ]
  },
  {
   "cell_type": "code",
   "execution_count": 13,
   "id": "f0e1a67a-c07c-4fe4-9c36-02d4e4ddeed2",
   "metadata": {},
   "outputs": [
    {
     "data": {
      "text/plain": [
       "'SKY'"
      ]
     },
     "execution_count": 13,
     "metadata": {},
     "output_type": "execute_result"
    }
   ],
   "source": [
    "person.set_name(\"SKY\")"
   ]
  },
  {
   "cell_type": "markdown",
   "id": "362bf00b-509e-449b-b49c-f408e1107857",
   "metadata": {},
   "source": [
    "6. Explain the purpose of getter and setter methods in encapsulation. Provide examples."
   ]
  },
  {
   "cell_type": "markdown",
   "id": "cda5f54c-b89c-4e33-850e-6fa179e6708d",
   "metadata": {},
   "source": [
    "In object-oriented programming, getter and setter methods are used to control access to the attributes (or properties) of a class. They play a key role in encapsulation by providing a controlled interface for reading and modifying the internal state of an object. "
   ]
  },
  {
   "cell_type": "code",
   "execution_count": 14,
   "id": "29c301e8-141b-4a47-962f-c249be775e4b",
   "metadata": {},
   "outputs": [],
   "source": [
    "class Person:\n",
    "    def __init__(self, name):\n",
    "        self.__name = name  # Private attribute\n",
    "\n",
    "    def get_name(self):\n",
    "        return self.__name  # Getter method for accessing the private attribute\n",
    "\n",
    "    def set_name(self, new_name):\n",
    "        self.__name = new_name  # Setter method for modifying the private attribute\n",
    "        return self.__name  # Returning the updated name\n"
   ]
  },
  {
   "cell_type": "markdown",
   "id": "22855205-54ed-4876-b0cb-de9275a607f6",
   "metadata": {},
   "source": [
    "7. What is name mangling in Python, and how does it affect encapsulation?"
   ]
  },
  {
   "cell_type": "markdown",
   "id": "e8a49338-0b97-4fa6-8455-eb7e11d48522",
   "metadata": {},
   "source": [
    "Name mangling is a technique used in Python to make the names of attributes in a class more unique by adding a prefix to them. This is done to avoid accidental name clashes in subclasses or during inheritance. Name mangling is applied to attributes with a double underscore (__) prefix but not ending with a double underscore.\n",
    "\n",
    "When a member is name-mangled, its name is transformed by adding _ClassName as a prefix, where ClassName is the name of the current class. This makes the attribute more challenging to access from outside the class, as the mangled name is not immediately obvious."
   ]
  },
  {
   "cell_type": "markdown",
   "id": "6bfd4959-9067-433d-89a6-322fdda41d3e",
   "metadata": {},
   "source": [
    "8. Create a Python class called `BankAccount` with private attributes for the account balance (`__balance`)"
   ]
  },
  {
   "cell_type": "code",
   "execution_count": 15,
   "id": "b258bae2-aa8e-4b2b-bb15-3cc2cd6be311",
   "metadata": {},
   "outputs": [],
   "source": [
    "class BankAccount:\n",
    "    \n",
    "    def __init__(self,accholder,balance):\n",
    "        self._accholder = accholder\n",
    "        self.__balance = balance\n",
    "        \n",
    "    def get_balance(self):\n",
    "        return self.__balance\n",
    "    \n",
    "    def set_balance(self,new_balance):\n",
    "        self.__balance = new_balance\n",
    "        \n",
    "    def deposit(self,amount):\n",
    "        \n",
    "        if amount > 0:\n",
    "            \n",
    "            self.__balance += amount\n",
    "            \n",
    "    def withdrawl(self,amount):\n",
    "        if amount > 0 & amount < self.__balance:\n",
    "            self.__balance -= amount\n",
    "\n",
    "\n",
    "        "
   ]
  },
  {
   "cell_type": "markdown",
   "id": "e6d1feac-3f81-4eb1-ad5a-01147f0e4501",
   "metadata": {},
   "source": [
    "9. Discuss the advantages of encapsulation in terms of code maintainability and security."
   ]
  },
  {
   "cell_type": "markdown",
   "id": "1e1b0802-f32f-4b38-ba3c-ed2954332d71",
   "metadata": {},
   "source": [
    "Encapsulation provides access control through visibility modifiers (public, private, and protected). Private attributes and methods are not directly accessible from outside the class, promoting data security and preventing unintended modifications.\n"
   ]
  },
  {
   "cell_type": "markdown",
   "id": "15273b48-8dfa-45cd-b545-900e9f7014b8",
   "metadata": {},
   "source": [
    "10. How can you access private attributes in Python? Provide an example demonstrating the use of name\n",
    "mangling."
   ]
  },
  {
   "cell_type": "markdown",
   "id": "c765aee0-3832-4250-b3c2-eda6b75cbcab",
   "metadata": {},
   "source": [
    "to access private attributes from outside the class using a technique called name mangling. Name mangling involves adding a prefix to the private attribute's name to make it less straightforward to access. The syntax for name mangling is adding _ClassName (where ClassName is the name of the class) before the private attribute."
   ]
  },
  {
   "cell_type": "code",
   "execution_count": 16,
   "id": "bc62cdcf-3307-4b69-a4bb-6a2b25544586",
   "metadata": {},
   "outputs": [],
   "source": [
    "class Person:\n",
    "    def __init__(self, name):\n",
    "        self.__name = name  # Private attribute"
   ]
  },
  {
   "cell_type": "code",
   "execution_count": 17,
   "id": "6e68cd5b-c06d-46f6-84b7-12dd3145c5db",
   "metadata": {},
   "outputs": [],
   "source": [
    "person = Person(\"Sai\")"
   ]
  },
  {
   "cell_type": "code",
   "execution_count": 18,
   "id": "97e4813a-a8e2-4776-a5ed-2a2642ddb458",
   "metadata": {},
   "outputs": [
    {
     "data": {
      "text/plain": [
       "'Sai'"
      ]
     },
     "execution_count": 18,
     "metadata": {},
     "output_type": "execute_result"
    }
   ],
   "source": [
    "person._Person__name"
   ]
  },
  {
   "cell_type": "markdown",
   "id": "89d7570d-7cf9-46b3-98aa-5255cf4a7152",
   "metadata": {},
   "source": [
    "10. How can you access private attributes in Python? Provide an example demonstrating the use of name\n",
    "mangling."
   ]
  },
  {
   "cell_type": "markdown",
   "id": "9bdd3475-c1d3-4494-8468-ca446699a32a",
   "metadata": {},
   "source": [
    "In Python, private attributes are conventionally denoted by a double underscore prefix (e.g., __my_private_attribute).\n",
    "Name mangling involves modifying the name of the variable in a way that makes it harder to create collisions with other attributes. To access a private attribute outside its class, you can use the _classname__attribute syntax"
   ]
  },
  {
   "cell_type": "code",
   "execution_count": 1,
   "id": "e11ef23f-a325-4686-ab36-40382ebeb086",
   "metadata": {},
   "outputs": [],
   "source": [
    "class MyClass:\n",
    "    def __init__(self):\n",
    "        self.__private_attribute = 42\n",
    "\n",
    "    def get_private_attribute(self):\n",
    "        return self.__private_attribute"
   ]
  },
  {
   "cell_type": "code",
   "execution_count": 2,
   "id": "85bcca2a-4c0a-4334-a5be-03facd40647d",
   "metadata": {},
   "outputs": [],
   "source": [
    "# Create an instance of MyClass\n",
    "obj = MyClass()"
   ]
  },
  {
   "cell_type": "code",
   "execution_count": 3,
   "id": "811b10a9-8113-4025-989b-1130d10312e1",
   "metadata": {},
   "outputs": [
    {
     "data": {
      "text/plain": [
       "42"
      ]
     },
     "execution_count": 3,
     "metadata": {},
     "output_type": "execute_result"
    }
   ],
   "source": [
    "obj._MyClass__private_attribute"
   ]
  },
  {
   "cell_type": "markdown",
   "id": "b74779da-dcf1-45e4-9546-321664457f43",
   "metadata": {},
   "source": [
    "11. Create a Python class hierarchy for a school system, including classes for students, teachers, and courses,\n",
    "and implement encapsulation principles to protect sensitive information."
   ]
  },
  {
   "cell_type": "code",
   "execution_count": 4,
   "id": "036c216b-37bc-4240-b979-aa69f34ed936",
   "metadata": {},
   "outputs": [],
   "source": [
    "class Person:\n",
    "    \n",
    "    def __init__(self,name,age,address):\n",
    "        self._name = name\n",
    "        self._age = age\n",
    "        self._address = address\n",
    "        \n",
    "    def get_name(self):\n",
    "        return self._name\n",
    "    \n",
    "    def get_age(self):\n",
    "        return self._age\n",
    "\n",
    "    def get_address(self):\n",
    "        return self._address\n",
    "\n",
    "class Student(Person):\n",
    "    def __init__(self,name,age,address,stu_id):\n",
    "        \n",
    "        super().__init__(name,age,address)\n",
    "        \n",
    "        self._stu_id = stu_id\n",
    "        \n",
    "        self._courses = []\n",
    "        \n",
    "    def enrol_course(self,course):\n",
    "        self._courses.append(course)\n",
    "        \n",
    "    def get_course(self):\n",
    "        return self._courses\n",
    "    \n",
    "class Teacher(Person):\n",
    "    def __init__(self, name, age, address, employee_id):\n",
    "        super().__init__(name, age, address)\n",
    "        self._employee_id = employee_id  # Protected attribute\n",
    "        self._courses_taught = []  # Encapsulated list of courses\n",
    "\n",
    "    def assign_course(self, course):\n",
    "        self._courses_taught.append(course)\n",
    "\n",
    "    def get_courses_taught(self):\n",
    "        return self._courses_taught"
   ]
  },
  {
   "cell_type": "code",
   "execution_count": 5,
   "id": "23518088-1884-48d8-9213-0eb84f6b06c5",
   "metadata": {},
   "outputs": [],
   "source": [
    "student1 = Student(\"Alice\", 18, \"123 Main St\", \"S12345\")"
   ]
  },
  {
   "cell_type": "code",
   "execution_count": 6,
   "id": "ecbce990-2967-4331-9147-88e9040afabb",
   "metadata": {},
   "outputs": [
    {
     "data": {
      "text/plain": [
       "'Alice'"
      ]
     },
     "execution_count": 6,
     "metadata": {},
     "output_type": "execute_result"
    }
   ],
   "source": [
    "student1._name"
   ]
  },
  {
   "cell_type": "markdown",
   "id": "1dba8a56-1564-4f79-b900-5b37957f9312",
   "metadata": {},
   "source": [
    "12. Explain the concept of property decorators in Python and how they relate to encapsulation."
   ]
  },
  {
   "cell_type": "markdown",
   "id": "71e44f34-f199-4019-b67a-baf4cee8b16c",
   "metadata": {},
   "source": [
    "In Python, property decorators are a way to implement getter, setter, and deleter methods for class attributes. They are used to define special methods that allow controlled access to the attributes of a class. Property decorators are part of the broader concept of encapsulation, which is one of the pillars of object-oriented programming."
   ]
  },
  {
   "cell_type": "code",
   "execution_count": 1,
   "id": "3f2faeaa-087e-49b7-8ebe-859cdc8965fe",
   "metadata": {},
   "outputs": [],
   "source": [
    "class A:\n",
    "    def __init__(self,x):\n",
    "        self._x = x\n",
    "        \n",
    "    @property\n",
    "    def x(self):\n",
    "        return self._x\n",
    "    @x.setter\n",
    "    def x(self,value):\n",
    "        self._x = value"
   ]
  },
  {
   "cell_type": "code",
   "execution_count": 2,
   "id": "21549ea1-113c-45ae-bf9b-cf59d96c1bcc",
   "metadata": {},
   "outputs": [],
   "source": [
    "a = A(12)"
   ]
  },
  {
   "cell_type": "code",
   "execution_count": 4,
   "id": "e2324310-e7f7-4091-9c4f-bc64acd7e693",
   "metadata": {},
   "outputs": [
    {
     "data": {
      "text/plain": [
       "12"
      ]
     },
     "execution_count": 4,
     "metadata": {},
     "output_type": "execute_result"
    }
   ],
   "source": [
    "a.x"
   ]
  },
  {
   "cell_type": "code",
   "execution_count": 5,
   "id": "1a159d75-67e2-4ce3-a268-866fb7796c8c",
   "metadata": {},
   "outputs": [],
   "source": [
    "a.x = 100"
   ]
  },
  {
   "cell_type": "code",
   "execution_count": 6,
   "id": "8bbbe411-37bd-465f-83b9-848fd6734801",
   "metadata": {},
   "outputs": [
    {
     "data": {
      "text/plain": [
       "100"
      ]
     },
     "execution_count": 6,
     "metadata": {},
     "output_type": "execute_result"
    }
   ],
   "source": [
    "a.x"
   ]
  },
  {
   "cell_type": "markdown",
   "id": "968ef273-78ee-4d99-b82f-ba5af8962f6f",
   "metadata": {},
   "source": [
    "13. What is data hiding, and why is it important in encapsulation? Provide examples."
   ]
  },
  {
   "cell_type": "markdown",
   "id": "5d4eda31-3a99-4926-9ad6-c8966bcdea40",
   "metadata": {},
   "source": [
    "Data hiding is a fundamental concept in object-oriented programming (OOP) that involves restricting access to certain details of an object and only exposing what is necessary. The idea is to hide the implementation details and internal state of an object from the outside world. This is crucial for maintaining the integrity of the object and ensuring that it is used in a controlled and predictable manner."
   ]
  },
  {
   "cell_type": "code",
   "execution_count": 7,
   "id": "50b3eeed-6b93-4197-aff1-7413af527d72",
   "metadata": {},
   "outputs": [],
   "source": [
    "class BankAccount:\n",
    "    def __init__(self, balance):\n",
    "        self._balance = balance  # Protected attribute\n",
    "\n",
    "    def deposit(self, amount):\n",
    "        self._balance += amount\n",
    "\n",
    "    # Without data hiding\n",
    "    # def set_balance(self, new_balance):\n",
    "    #     self._balance = new_balance\n",
    "\n"
   ]
  },
  {
   "cell_type": "code",
   "execution_count": 8,
   "id": "180fd57f-3725-4561-87d1-a7281aad62f2",
   "metadata": {},
   "outputs": [],
   "source": [
    "account = BankAccount(1000)\n"
   ]
  },
  {
   "cell_type": "code",
   "execution_count": 9,
   "id": "10b726b4-c949-4990-a927-3ebe5e7bf252",
   "metadata": {},
   "outputs": [],
   "source": [
    "account._balance = 50000  # Risky operation without data hiding"
   ]
  },
  {
   "cell_type": "code",
   "execution_count": 10,
   "id": "af41e7a6-1c00-44ab-8a63-9c974234764e",
   "metadata": {},
   "outputs": [],
   "source": [
    "class Car:\n",
    "    def __init__(self):\n",
    "        self._fuel = 100  # Protected attribute\n",
    "\n",
    "    def drive(self):\n",
    "        self._consume_fuel()\n",
    "\n",
    "    def _consume_fuel(self):  # Private method\n",
    "        self._fuel -= 10\n"
   ]
  },
  {
   "cell_type": "code",
   "execution_count": 11,
   "id": "eb9e7947-e1d4-4c09-b050-767eed8eb2ab",
   "metadata": {},
   "outputs": [],
   "source": [
    "\n",
    "my_car = Car()\n",
    "my_car.drive()  # Users interact with the public method, not _consume_fuel"
   ]
  },
  {
   "cell_type": "markdown",
   "id": "80a3b42c-261a-477c-a3fb-25d8308b0eed",
   "metadata": {},
   "source": [
    "14. Create a Python class called `Employee` with private attributes for salary (`__salary`) and employee ID (`__employee_id`). Provide a method to calculate yearly bonuses."
   ]
  },
  {
   "cell_type": "code",
   "execution_count": 15,
   "id": "1c3b748c-32d4-4345-90e1-7ae1eec6cadd",
   "metadata": {},
   "outputs": [],
   "source": [
    "class Employee:\n",
    "    def __init__(self,salary,employee_id):\n",
    "        self.__salary = salary\n",
    "        self.__employee_id = employee_id\n",
    "    def calculate_yearly_bonus(self, bonus_percentage):\n",
    "        if not 0 <= bonus_percentage <= 100:\n",
    "            raise ValueError(\"Bonus percentage must be between 0 and 100\")\n",
    "\n",
    "        bonus_amount = (bonus_percentage / 100) * self.__salary\n",
    "        return bonus_amount\n",
    "    \n",
    "        # Getter methods to access private attributes\n",
    "    def get_employee_id(self):\n",
    "        return self.__employee_id\n",
    "\n",
    "    def get_salary(self):\n",
    "        return self.__salary\n",
    "    "
   ]
  },
  {
   "cell_type": "code",
   "execution_count": 16,
   "id": "8a10cd67-06bb-4b05-9e0b-beefe51e6b92",
   "metadata": {},
   "outputs": [],
   "source": [
    "employee1 = Employee(employee_id=1, salary=50000)\n",
    "bonus_percentage = 10  # 10% bonus\n",
    "yearly_bonus = employee1.calculate_yearly_bonus(bonus_percentage)"
   ]
  },
  {
   "cell_type": "code",
   "execution_count": 17,
   "id": "d779a8d4-03de-4f64-ade9-8a20d98fe0d6",
   "metadata": {},
   "outputs": [
    {
     "data": {
      "text/plain": [
       "5000.0"
      ]
     },
     "execution_count": 17,
     "metadata": {},
     "output_type": "execute_result"
    }
   ],
   "source": [
    "yearly_bonus"
   ]
  },
  {
   "cell_type": "markdown",
   "id": "386b4a7e-7a31-44ae-89a4-2d9fd0b5f11f",
   "metadata": {},
   "source": [
    "15. Discuss the use of accessors and mutators in encapsulation. How do they help maintain control over\n",
    "attribute access?"
   ]
  },
  {
   "cell_type": "markdown",
   "id": "c06234b5-3050-47f4-bb12-9af49e0fc074",
   "metadata": {},
   "source": [
    "Accessors and mutators, also known as getter and setter methods, play a crucial role in encapsulation by providing controlled access to the attributes of a class.\n",
    "Accessors (Getters):\n",
    "\n",
    "Role: Accessors are methods that provide a way to retrieve the values of private attributes.\n",
    "Naming Convention: Accessor methods are typically named with a prefix like \"get_\" followed by the attribute name.\n",
    "\n",
    "Mutators (Setters):\n",
    "\n",
    "Role: Mutators are methods that provide a way to modify the values of private attributes.\n",
    "Naming Convention: Mutator methods are typically named with a prefix like \"set_\" followed by the attribute name."
   ]
  },
  {
   "cell_type": "markdown",
   "id": "c258be3c-8ac1-4366-85ec-5910509dabfb",
   "metadata": {},
   "source": [
    "16. What are the potential drawbacks or disadvantages of using encapsulation in Python?"
   ]
  },
  {
   "cell_type": "raw",
   "id": "bfa8b32e-9128-4f9e-8eeb-c8191125f076",
   "metadata": {},
   "source": [
    "Complexity and Boilerplate Code\n",
    "Performance Overhead\n",
    "Limited Flexibility\n",
    "False Sense of Security\n",
    "Difficulty in Debugging"
   ]
  },
  {
   "cell_type": "markdown",
   "id": "60116f21-759d-4c48-bb45-62d7f48a0639",
   "metadata": {},
   "source": [
    "17. Create a Python class for a library system that encapsulates book information, including titles, authors,\n",
    "and availability status."
   ]
  },
  {
   "cell_type": "code",
   "execution_count": 20,
   "id": "1f0f475b-3e5b-49c2-8d51-9bdf7b8d33e3",
   "metadata": {},
   "outputs": [],
   "source": [
    "class Book:\n",
    "    def __init__(self, title, author, available=True):\n",
    "        self.__title = title  # Private attribute for the book title\n",
    "        self.__author = author  # Private attribute for the author\n",
    "        self.__available = available  # Private attribute for availability status\n",
    "\n",
    "    def get_title(self):\n",
    "        return self.__title\n",
    "\n",
    "    def get_author(self):\n",
    "        return self.__author\n",
    "\n",
    "    def is_available(self):\n",
    "        return self.__available\n",
    "\n",
    "    def set_available(self, status):\n",
    "        \"\"\"\n",
    "        Set the availability status of the book.\n",
    "\n",
    "        Parameters:\n",
    "        - status (bool): True if the book is available, False otherwise.\n",
    "        \"\"\"\n",
    "        self.__available = status\n",
    "\n",
    "    def display_info(self):\n",
    "        \"\"\"\n",
    "        Display information about the book.\n",
    "        \"\"\"\n",
    "        status = \"Available\" if self.__available else \"Not Available\"\n",
    "        print(f\"Title: {self.__title}\\nAuthor: {self.__author}\\nStatus: {status}\\n\")"
   ]
  },
  {
   "cell_type": "code",
   "execution_count": 22,
   "id": "98e723f2-1595-463a-b989-de5e846cf413",
   "metadata": {},
   "outputs": [
    {
     "name": "stdout",
     "output_type": "stream",
     "text": [
      "Title: The Great Gatsby\n",
      "Author: F. Scott Fitzgerald\n",
      "Status: Available\n",
      "\n",
      "Title: To Kill a Mockingbird\n",
      "Author: Harper Lee\n",
      "Status: Not Available\n",
      "\n"
     ]
    }
   ],
   "source": [
    "book1 = Book(title=\"The Great Gatsby\", author=\"F. Scott Fitzgerald\")\n",
    "book2 = Book(title=\"To Kill a Mockingbird\", author=\"Harper Lee\", available=False)\n",
    "\n",
    "# Display information about the books\n",
    "book1.display_info()\n",
    "book2.display_info()\n"
   ]
  },
  {
   "cell_type": "markdown",
   "id": "a7cdb5a4-9575-4c1a-9c7d-3232c33618a5",
   "metadata": {},
   "source": [
    "18. Explain how encapsulation enhances code reusability and modularity in Python programs."
   ]
  },
  {
   "cell_type": "markdown",
   "id": "c09d7d6e-d911-4498-ad8a-2bee0a1c3fcf",
   "metadata": {},
   "source": [
    " encapsulation enhances code reusability and modularity in Python programs by isolating implementation details, providing clear interfaces, promoting code organization, facilitating the reuse of classes, and reducing code duplication."
   ]
  },
  {
   "cell_type": "markdown",
   "id": "de9f49ab-6f5b-496d-a513-297c7696dd4b",
   "metadata": {},
   "source": [
    "19. Describe the concept of information hiding in encapsulation. Why is it essential in software development?"
   ]
  },
  {
   "cell_type": "markdown",
   "id": "f71fefd7-2808-4656-85ed-558a6dadff41",
   "metadata": {},
   "source": [
    "information hiding in encapsulation is essential in software development because it promotes abstraction, simplifies interaction, reduces complexity, encapsulates changes, enhances security, supports modularity, facilitates maintenance, and promotes code reusability. It is a key principle in creating robust, maintainable, and scalable software systems."
   ]
  },
  {
   "cell_type": "markdown",
   "id": "40b8b207-f5fb-4cef-bee8-f534660ad466",
   "metadata": {},
   "source": [
    "20. Create a Python class called `Customer` with private attributes for customer details like name, address,\n",
    "and contact information. Implement encapsulation to ensure data integrity and security."
   ]
  },
  {
   "cell_type": "code",
   "execution_count": 23,
   "id": "5bb12be7-c555-4574-9545-dfb3abc3ed57",
   "metadata": {},
   "outputs": [],
   "source": [
    "class Customer:\n",
    "    def __init__(self, name, address, contact_info):\n",
    "        self.__name = name  # Private attribute for customer name\n",
    "        self.__address = address  # Private attribute for customer address\n",
    "        self.__contact_info = contact_info  # Private attribute for contact information\n",
    "\n",
    "    def get_name(self):\n",
    "        return self.__name\n",
    "\n",
    "    def get_address(self):\n",
    "        return self.__address\n",
    "\n",
    "    def get_contact_info(self):\n",
    "        return self.__contact_info\n",
    "\n",
    "    def set_name(self, new_name):\n",
    "      \n",
    "        # Add validation logic if needed\n",
    "        self.__name = new_name\n",
    "\n",
    "    def set_address(self, new_address):\n",
    "    \n",
    "        # Add validation logic if needed\n",
    "        self.__address = new_address\n",
    "\n",
    "    def set_contact_info(self, new_contact_info):\n",
    "     \n",
    "        # Add validation logic if needed\n",
    "        self.__contact_info = new_contact_info\n",
    "\n",
    "    def display_info(self):\n",
    "        print(f\"Customer Name: {self.__name}\")\n",
    "        print(f\"Address: {self.__address}\")\n",
    "        print(f\"Contact Information: {self.__contact_info}\\n\")\n"
   ]
  },
  {
   "cell_type": "code",
   "execution_count": 26,
   "id": "0d142744-aa7b-41ae-a462-cb37e779157c",
   "metadata": {},
   "outputs": [
    {
     "name": "stdout",
     "output_type": "stream",
     "text": [
      "Customer Name: sai\n",
      "Address: 123 Main St\n",
      "Contact Information: john@example.com\n",
      "\n",
      "Customer Name: sky\n",
      "Address: 456 Oak St\n",
      "Contact Information: jane@example.com\n",
      "\n",
      "Updated Information:\n",
      "Customer Name: sai\n",
      "Address: 789 Pine St\n",
      "Contact Information: john@example.com\n",
      "\n"
     ]
    }
   ],
   "source": [
    "customer1 = Customer(name=\"sai\", address=\"123 Main St\", contact_info=\"john@example.com\")\n",
    "customer2 = Customer(name=\"sky\", address=\"456 Oak St\", contact_info=\"jane@example.com\")\n",
    "\n",
    "# Display information about the customers\n",
    "customer1.display_info()\n",
    "customer2.display_info()\n",
    "\n",
    "# Update customer information using setter methods\n",
    "customer1.set_address(\"789 Pine St\")\n",
    "customer2.set_contact_info(\"sky@gmail.com\")\n",
    "\n",
    "# Display updated information\n",
    "print(\"Updated Information:\")\n",
    "customer1.display_info()"
   ]
  },
  {
   "cell_type": "markdown",
   "id": "93d67513-99b1-4a72-b3b8-ffdf8208d4e5",
   "metadata": {},
   "source": [
    "Polymorphism:"
   ]
  },
  {
   "cell_type": "markdown",
   "id": "0f0ec107-2745-41df-9fbe-ffc491e46b0e",
   "metadata": {},
   "source": [
    "1. What is polymorphism in Python? Explain how it is related to object-oriented programming."
   ]
  },
  {
   "cell_type": "markdown",
   "id": "f42798cc-7514-4a21-a62d-fb5504d33750",
   "metadata": {},
   "source": [
    "Polymorphism is a fundamental concept in object-oriented programming (OOP) that allows objects of different types to be treated as objects of a common type. In Python, polymorphism is closely related to the concept of interfaces and the ability of objects to exhibit multiple forms."
   ]
  },
  {
   "cell_type": "markdown",
   "id": "a4e79e0f-9b27-455b-a46d-6851a3adfffd",
   "metadata": {},
   "source": [
    "2. Describe the difference between compile-time polymorphism and runtime polymorphism in Python."
   ]
  },
  {
   "cell_type": "markdown",
   "id": "8e6377c6-19ee-4f31-9323-2aeea2e9be7e",
   "metadata": {},
   "source": [
    "Compile-time polymorphism: The decision about which method to call is made by the compiler during the compilation phase based on the method signature.\n",
    "\n",
    "Runtime polymorphism: The decision about which method to call is made at runtime based on the actual type of the object."
   ]
  },
  {
   "cell_type": "markdown",
   "id": "65c3c173-49bf-46da-85a5-10a5739638da",
   "metadata": {},
   "source": [
    "3. Create a Python class hierarchy for shapes (e.g., circle, square, triangle) and demonstrate polymorphism\n",
    "through a common method, such as `calculate_area()`."
   ]
  },
  {
   "cell_type": "code",
   "execution_count": 1,
   "id": "a2d3aa09-8fa6-4eec-a1cd-f76633612f3a",
   "metadata": {},
   "outputs": [],
   "source": [
    "import math\n",
    "\n",
    "class Shape:\n",
    "    def calculate_area(self):\n",
    "        pass\n",
    "\n",
    "class Circle(Shape):\n",
    "    def __init__(self, radius):\n",
    "        self.radius = radius\n",
    "\n",
    "    def calculate_area(self):\n",
    "        return math.pi * self.radius ** 2\n",
    "\n",
    "class Square(Shape):\n",
    "    def __init__(self, side_length):\n",
    "        self.side_length = side_length\n",
    "\n",
    "    def calculate_area(self):\n",
    "        return self.side_length ** 2\n",
    "\n",
    "class Triangle(Shape):\n",
    "    def __init__(self, base, height):\n",
    "        self.base = base\n",
    "        self.height = height\n",
    "\n",
    "    def calculate_area(self):\n",
    "        return 0.5 * self.base * self.height"
   ]
  },
  {
   "cell_type": "markdown",
   "id": "17366f6a-a188-4283-b2b9-0f76329fa470",
   "metadata": {},
   "source": [
    "4. Explain the concept of method overriding in polymorphism. Provide an example."
   ]
  },
  {
   "cell_type": "code",
   "execution_count": 2,
   "id": "a00d074d-b76e-488b-9022-5bbffe41b2da",
   "metadata": {},
   "outputs": [],
   "source": [
    "class Animal:\n",
    "    \n",
    "    def make_sound(self):\n",
    "        pass\n",
    "class Dog(Animal):\n",
    "    \n",
    "    def make_sound(self):\n",
    "        return \"meow\""
   ]
  },
  {
   "cell_type": "code",
   "execution_count": 3,
   "id": "0066ad15-b3e9-4984-8094-f579cf9f7539",
   "metadata": {},
   "outputs": [],
   "source": [
    "dog = Dog()"
   ]
  },
  {
   "cell_type": "code",
   "execution_count": 4,
   "id": "c8230af9-2d32-4f30-abe4-ef890aa3358c",
   "metadata": {},
   "outputs": [
    {
     "data": {
      "text/plain": [
       "'meow'"
      ]
     },
     "execution_count": 4,
     "metadata": {},
     "output_type": "execute_result"
    }
   ],
   "source": [
    "dog.make_sound()"
   ]
  },
  {
   "cell_type": "markdown",
   "id": "d68c421c-518d-43c7-8c35-d56b5487ddcd",
   "metadata": {},
   "source": [
    "5. How is polymorphism different from method overloading in Python? Provide examples for both."
   ]
  },
  {
   "cell_type": "markdown",
   "id": "49078c69-442e-4197-803a-b54ef85f5fe5",
   "metadata": {},
   "source": [
    "Polymorphism is a concept in object-oriented programming that allows objects of different types to be treated as objects of a common type."
   ]
  },
  {
   "cell_type": "markdown",
   "id": "2c641a23-3736-4409-9a76-78ec93716e65",
   "metadata": {},
   "source": [
    "Method overloading involves defining multiple methods in the same class with the same name but different parameters."
   ]
  },
  {
   "cell_type": "code",
   "execution_count": 5,
   "id": "c610b40d-9cca-46d7-a59f-201cb34855f5",
   "metadata": {},
   "outputs": [],
   "source": [
    "class MathOperations:\n",
    "    def add(self, a, b=0, c=0):\n",
    "        return a + b + c\n"
   ]
  },
  {
   "cell_type": "code",
   "execution_count": 6,
   "id": "d657adb6-cfd7-4a78-a66d-d1bb55a48f25",
   "metadata": {},
   "outputs": [],
   "source": [
    "obj = MathOperations()\n"
   ]
  },
  {
   "cell_type": "code",
   "execution_count": 7,
   "id": "9e5ce6e7-1c34-4995-9aec-585bd44592cb",
   "metadata": {},
   "outputs": [
    {
     "data": {
      "text/plain": [
       "3"
      ]
     },
     "execution_count": 7,
     "metadata": {},
     "output_type": "execute_result"
    }
   ],
   "source": [
    "obj.add(1, 2)  "
   ]
  },
  {
   "cell_type": "markdown",
   "id": "ea009176-f82c-4d18-a2e9-700445f4a785",
   "metadata": {},
   "source": [
    "6. Create a Python class called `Animal` with a method `speak()`. Then, create child classes like `Dog`, `Cat`, and `Bird`, each with their own `speak()` method. Demonstrate polymorphism by calling the `speak()` method\n",
    "on objects of different subclasses."
   ]
  },
  {
   "cell_type": "code",
   "execution_count": 1,
   "id": "03a134cf-9eb9-4d89-ab52-f60c515d1981",
   "metadata": {},
   "outputs": [],
   "source": [
    "class Animal:\n",
    "    \n",
    "    def make_sound(self):\n",
    "        pass\n",
    "class Dog(Animal):\n",
    "    \n",
    "    def make_sound(self):\n",
    "        return \"bow-bow\"\n",
    "class Cat(Animal):\n",
    "    \n",
    "    def make_sound(self):\n",
    "        return \"meow\"\n",
    "class Bird(Animal):\n",
    "    \n",
    "    def make_sound(self):\n",
    "        return \"chir-chir\"\n"
   ]
  },
  {
   "cell_type": "code",
   "execution_count": 2,
   "id": "98ab447b-1a0b-49fa-a064-166acb019482",
   "metadata": {},
   "outputs": [],
   "source": [
    "dog = Dog()"
   ]
  },
  {
   "cell_type": "code",
   "execution_count": 3,
   "id": "6b5582c6-3d75-4de3-bb19-cf78308091e5",
   "metadata": {},
   "outputs": [
    {
     "data": {
      "text/plain": [
       "'bow-bow'"
      ]
     },
     "execution_count": 3,
     "metadata": {},
     "output_type": "execute_result"
    }
   ],
   "source": [
    "dog.make_sound()"
   ]
  },
  {
   "cell_type": "markdown",
   "id": "41ad91de-4b92-4a21-bea2-a845baa25538",
   "metadata": {},
   "source": [
    "7. Discuss the use of abstract methods and classes in achieving polymorphism in Python. Provide an example\n",
    "using the `abc` module."
   ]
  },
  {
   "cell_type": "code",
   "execution_count": 4,
   "id": "b177ea20-1880-4021-88ed-2308d1e7a917",
   "metadata": {},
   "outputs": [],
   "source": [
    "from abc import ABC, abstractmethod\n",
    "import math\n",
    "class Shape(ABC):\n",
    "    \n",
    "    @abstractmethod\n",
    "    def area(self):\n",
    "        pass\n",
    "    \n",
    "class Circle(Shape):\n",
    "    \n",
    "    def __init__(self,r):\n",
    "        self.radius = r\n",
    "        \n",
    "    def area(self):\n",
    "        return math.pi * r * r\n",
    "\n",
    "\n"
   ]
  },
  {
   "cell_type": "markdown",
   "id": "58f5788e-6c54-4870-b143-412a37b35ef2",
   "metadata": {},
   "source": [
    "Python provides the abc (Abstract Base Classes) module for working with abstract classes and methods. An abstract class is a class that cannot be instantiated and is meant to be subclassed by concrete (non-abstract) classes. Abstract methods are methods declared in an abstract class but have no implementation in the abstract class itself. Subclasses must provide concrete implementations for these abstract methods."
   ]
  },
  {
   "cell_type": "markdown",
   "id": "d2a22721-ca73-41ed-9dfe-446b01c8e79d",
   "metadata": {},
   "source": [
    "8. Create a Python class hierarchy for a vehicle system (e.g., car, bicycle, boat) and implement a polymorphic `start()` method that prints a message specific to each vehicle type."
   ]
  },
  {
   "cell_type": "code",
   "execution_count": 5,
   "id": "644b0f77-6470-4462-9b04-231d926a2de4",
   "metadata": {},
   "outputs": [],
   "source": [
    "from abc import ABC, abstractmethod\n",
    "\n",
    "class Vehicle(ABC):\n",
    "    def __init__(self, brand, model):\n",
    "        self.brand = brand\n",
    "        self.model = model\n",
    "\n",
    "    @abstractmethod\n",
    "    def start(self):\n",
    "        pass  # Abstract method, to be overridden by subclasses\n",
    "\n",
    "class Car(Vehicle):\n",
    "    def __init__(self, brand, model, fuel_type):\n",
    "        super().__init__(brand, model)\n",
    "        self.fuel_type = fuel_type\n",
    "\n",
    "    def start(self):\n",
    "        return f\"The {self.brand} {self.model} car with {self.fuel_type} fuel is starting.\"\n",
    "\n",
    "class Bicycle(Vehicle):\n",
    "    def __init__(self, brand, model):\n",
    "        super().__init__(brand, model)\n",
    "\n",
    "    def start(self):\n",
    "        return f\"The {self.brand} {self.model} bicycle is ready to ride.\"\n",
    "\n",
    "class Boat(Vehicle):\n",
    "    def __init__(self, brand, model, propulsion):\n",
    "        super().__init__(brand, model)\n",
    "        self.propulsion = propulsion\n",
    "\n",
    "    def start(self):\n",
    "        return f\"The {self.brand} {self.model} boat with {self.propulsion} is setting sail.\""
   ]
  },
  {
   "cell_type": "markdown",
   "id": "04bae8d4-6cf8-482e-a14f-faa6ef977517",
   "metadata": {},
   "source": [
    "9. Explain the significance of the `isinstance()` and `issubclass()` functions in Python polymorphism."
   ]
  },
  {
   "cell_type": "code",
   "execution_count": 7,
   "id": "f308c903-35c0-42b3-9e49-fe18c1444e5c",
   "metadata": {},
   "outputs": [],
   "source": [
    "class Bird:\n",
    "    \n",
    "    def sound(self):\n",
    "        pass\n",
    "    "
   ]
  },
  {
   "cell_type": "code",
   "execution_count": 8,
   "id": "c503aba9-4098-43a8-9795-c0058d60b119",
   "metadata": {},
   "outputs": [],
   "source": [
    "bird = Bird()"
   ]
  },
  {
   "cell_type": "code",
   "execution_count": 9,
   "id": "b97b805c-0e6b-4e73-9688-a0035ea388ad",
   "metadata": {},
   "outputs": [
    {
     "name": "stdout",
     "output_type": "stream",
     "text": [
      "True\n"
     ]
    }
   ],
   "source": [
    "print(isinstance(bird,Bird))"
   ]
  },
  {
   "cell_type": "code",
   "execution_count": 10,
   "id": "c694b23c-5b19-4f79-a6fc-40401086ddee",
   "metadata": {},
   "outputs": [],
   "source": [
    "class Animal:\n",
    "    def attr(self):\n",
    "        pass\n",
    "class Dog(Animal):\n",
    "    def attr(self):\n",
    "        pass"
   ]
  },
  {
   "cell_type": "code",
   "execution_count": 11,
   "id": "a117bd1c-c75a-42ad-b5b9-8ea7a1fe60c9",
   "metadata": {},
   "outputs": [
    {
     "name": "stdout",
     "output_type": "stream",
     "text": [
      "True\n"
     ]
    }
   ],
   "source": [
    "print(issubclass(Dog,Animal))"
   ]
  },
  {
   "cell_type": "markdown",
   "id": "e39da127-ec2c-466c-af21-58a3eb455186",
   "metadata": {},
   "source": [
    "10. What is the role of the `@abstractmethod` decorator in achieving polymorphism in Python? Provide an\n",
    "example."
   ]
  },
  {
   "cell_type": "code",
   "execution_count": 12,
   "id": "3d23bb73-4401-4e25-b727-7273927c6302",
   "metadata": {},
   "outputs": [],
   "source": [
    "from abc import ABC, abstractmethod\n",
    "\n",
    "class Animal(ABC):\n",
    "    \n",
    "    @abstractmethod\n",
    "    def speak(self):\n",
    "        pass"
   ]
  },
  {
   "cell_type": "markdown",
   "id": "1cfc5c6d-5aa4-41c7-b67d-7ad957863fdd",
   "metadata": {},
   "source": [
    "The @abstractmethod decorator in Python is part of the abc (Abstract Base Classes) module, and it is used to define abstract methods within abstract classes. Abstract methods are methods that are declared in the abstract class but have no implementation in that class. Subclasses must provide concrete implementations for these abstract methods."
   ]
  },
  {
   "cell_type": "markdown",
   "id": "f95c0bf8-bc3e-4b02-b002-3f5e725343d4",
   "metadata": {},
   "source": [
    "11. Create a Python class called `Shape` with a polymorphic method `area()` that calculates the area of different shapes (e.g., circle, rectangle, triangle)."
   ]
  },
  {
   "cell_type": "code",
   "execution_count": 13,
   "id": "313a0335-bacd-438a-b6ee-47ca906901d4",
   "metadata": {},
   "outputs": [],
   "source": [
    "from abc import ABC, abstractmethod\n",
    "\n",
    "class Shape(ABC):\n",
    "    @abstractmethod\n",
    "    def area(self):\n",
    "        pass  # Abstract method to be overridden by subclasses\n",
    "\n",
    "class Circle(Shape):\n",
    "    def __init__(self, radius):\n",
    "        self.radius = radius\n",
    "\n",
    "    def area(self):\n",
    "        return 3.14 * self.radius**2\n",
    "\n",
    "class Rectangle(Shape):\n",
    "    def __init__(self, length, width):\n",
    "        self.length = length\n",
    "        self.width = width\n",
    "\n",
    "    def area(self):\n",
    "        return self.length * self.width\n",
    "\n",
    "class Triangle(Shape):\n",
    "    def __init__(self, base, height):\n",
    "        self.base = base\n",
    "        self.height = height\n",
    "\n",
    "    def area(self):\n",
    "        return 0.5 * self.base * self.height\n"
   ]
  },
  {
   "cell_type": "markdown",
   "id": "987526a9-b9a4-4938-9458-ba61ec79cb33",
   "metadata": {},
   "source": [
    "12. Discuss the benefits of polymorphism in terms of code reusability and flexibility in Python programs."
   ]
  },
  {
   "cell_type": "markdown",
   "id": "030e6515-5827-4798-ad95-5c546e9fb336",
   "metadata": {},
   "source": [
    "polymorphism enhances code reusability and flexibility by allowing code to work with objects of different types through a common interface. This leads to more modular, extensible, and maintainable code, making it easier to adapt to changing requirements"
   ]
  },
  {
   "cell_type": "markdown",
   "id": "a16741cf-3f8c-4281-8acc-623a3b1228e9",
   "metadata": {},
   "source": [
    "13. Explain the use of the `super()` function in Python polymorphism. How does it help call methods of parent\n",
    "classes?"
   ]
  },
  {
   "cell_type": "markdown",
   "id": "8068a68d-1559-403a-9dd0-103b2ec3ea16",
   "metadata": {},
   "source": [
    "In Python, the super() function is used to call a method from a parent or superclass within a subclass. It is particularly useful in the context of polymorphism when you want to extend the functionality of a method in a subclass while still retaining and invoking the behavior of the same method in the superclass."
   ]
  },
  {
   "cell_type": "markdown",
   "id": "7b8168c4-9a82-4192-94f9-bca26ceb8370",
   "metadata": {},
   "source": [
    "14. Create a Python class hierarchy for a banking system with various account types (e.g., savings, checking, credit card) and demonstrate polymorphism by implementing a common `withdraw()` method."
   ]
  },
  {
   "cell_type": "code",
   "execution_count": 15,
   "id": "20c0e9e1-5620-44e0-ba28-b77582eb7e93",
   "metadata": {},
   "outputs": [],
   "source": [
    "from abc import ABC, abstractmethod\n",
    "\n",
    "class BankAccount(ABC):\n",
    "    def __init__(self, account_number, balance):\n",
    "        self.account_number = account_number\n",
    "        self.balance = balance\n",
    "\n",
    "    @abstractmethod\n",
    "    def withdraw(self, amount):\n",
    "        pass  # Abstract method to be overridden by subclasses\n",
    "\n",
    "    def deposit(self, amount):\n",
    "        self.balance += amount\n",
    "        return f\"Deposited ${amount}. New balance: ${self.balance}\"\n",
    "\n",
    "    def get_balance(self):\n",
    "        return f\"Account {self.account_number} balance: ${self.balance}\"\n",
    "\n",
    "class SavingsAccount(BankAccount):\n",
    "    def __init__(self, account_number, balance, interest_rate):\n",
    "        super().__init__(account_number, balance)\n",
    "        self.interest_rate = interest_rate\n",
    "\n",
    "    def withdraw(self, amount):\n",
    "        if amount <= self.balance:\n",
    "            self.balance -= amount\n",
    "            return f\"Withdrew ${amount} from savings account. New balance: ${self.balance}\"\n",
    "        else:\n",
    "            return \"Insufficient funds for withdrawal.\"\n",
    "\n",
    "class CheckingAccount(BankAccount):\n",
    "    def __init__(self, account_number, balance, overdraft_limit):\n",
    "        super().__init__(account_number, balance)\n",
    "        self.overdraft_limit = overdraft_limit\n",
    "\n",
    "    def withdraw(self, amount):\n",
    "        if amount <= self.balance + self.overdraft_limit:\n",
    "            self.balance -= amount\n",
    "            return f\"Withdrew ${amount} from checking account. New balance: ${self.balance}\"\n",
    "        else:\n",
    "            return \"Insufficient funds for withdrawal.\"\n",
    "\n",
    "class CreditCardAccount(BankAccount):\n",
    "    def __init__(self, account_number, balance, credit_limit):\n",
    "        super().__init__(account_number, balance)\n",
    "        self.credit_limit = credit_limit\n",
    "\n",
    "    def withdraw(self, amount):\n",
    "        if amount <= self.balance + self.credit_limit:\n",
    "            self.balance -= amount\n",
    "            return f\"Withdrew ${amount} from credit card account. New balance: ${self.balance}\"\n",
    "        else:\n",
    "            return \"Exceeded credit limit for withdrawal.\""
   ]
  },
  {
   "cell_type": "code",
   "execution_count": 17,
   "id": "a32e9d8e-c132-4bc7-84cd-e074a0adc589",
   "metadata": {},
   "outputs": [],
   "source": [
    "savings_account = SavingsAccount(account_number=\"SA123\", balance=1000, interest_rate=0.02)\n",
    "checking_account = CheckingAccount(account_number=\"CA456\", balance=2000, overdraft_limit=500)\n",
    "credit_card_account = CreditCardAccount(account_number=\"CC789\", balance=500, credit_limit=1000)"
   ]
  },
  {
   "cell_type": "markdown",
   "id": "d8b06462-c4fa-4615-b634-738fd66e9cb7",
   "metadata": {},
   "source": [
    "15. Describe the concept of operator overloading in Python and how it relates to polymorphism. Provide\n",
    "examples using operators like `+` and `*`."
   ]
  },
  {
   "cell_type": "markdown",
   "id": "889082e2-a92b-4ade-aacb-c4775442c8cd",
   "metadata": {},
   "source": [
    "Operator overloading in Python refers to the ability to define or redefine the behavior of standard operators for user-defined objects or classes. Python allows you to customize the way operators work by defining special methods in your classes. This allows objects of your class to interact with operators in a way that makes sense for your application."
   ]
  },
  {
   "cell_type": "code",
   "execution_count": 18,
   "id": "bc65642a-e385-485d-8acb-21c59b3f6271",
   "metadata": {},
   "outputs": [],
   "source": [
    "class Point:\n",
    "    def __init__(self, x, y):\n",
    "        self.x = x\n",
    "        self.y = y\n",
    "\n",
    "    def __add__(self, other_point):\n",
    "        if isinstance(other_point, Point):\n",
    "            return Point(self.x + other_point.x, self.y + other_point.y)\n",
    "        else:\n",
    "            raise TypeError(\"Unsupported operand type\")\n"
   ]
  },
  {
   "cell_type": "code",
   "execution_count": 19,
   "id": "7c491d7f-96ed-4f56-ad97-2ea078857aed",
   "metadata": {},
   "outputs": [],
   "source": [
    "class Vector:\n",
    "    def __init__(self, x, y):\n",
    "        self.x = x\n",
    "        self.y = y\n",
    "\n",
    "    def __mul__(self, scalar):\n",
    "        if isinstance(scalar, (int, float)):\n",
    "            return Vector(self.x * scalar, self.y * scalar)\n",
    "        else:\n",
    "            raise TypeError(\"Unsupported operand type\")"
   ]
  },
  {
   "cell_type": "code",
   "execution_count": 25,
   "id": "5a89888f-e323-4faa-8979-630cd95ba200",
   "metadata": {},
   "outputs": [
    {
     "name": "stdout",
     "output_type": "stream",
     "text": [
      "4 6\n"
     ]
    }
   ],
   "source": [
    "class Point:\n",
    "    def __init__(self, x, y):\n",
    "        self.x = x\n",
    "        self.y = y\n",
    "        \n",
    "    def __add__(self, other_point):\n",
    "        if isinstance(other_point, Point):\n",
    "            return Point(self.x + other_point.x, self.y + other_point.y)\n",
    "        else:\n",
    "            raise TypeError(\"Unsupported operand type\")\n",
    "\n",
    "point1 = Point(1, 2)\n",
    "point2 = Point(3, 4)\n",
    "\n",
    "# What if you could do this?\n",
    "result_point = point1 + point2\n",
    "print(result_point.x, result_point.y) "
   ]
  },
  {
   "cell_type": "markdown",
   "id": "89d458fb-4bc7-4d33-9b45-9b4d2ccc3975",
   "metadata": {},
   "source": [
    "16. What is dynamic polymorphism, and how is it achieved in Python?"
   ]
  },
  {
   "cell_type": "markdown",
   "id": "e3e0261c-3a56-4ec0-a9f1-3843006e88e3",
   "metadata": {},
   "source": [
    "dynamic polymorphism is achieved through a mechanism called \"Duck Typing\" and through the use of inheritance, method overriding, and interfaces. "
   ]
  },
  {
   "cell_type": "markdown",
   "id": "c8dc6758-9635-4aaa-bd88-5f687038de09",
   "metadata": {},
   "source": [
    "Dynamic Polymorphism is a fundamental concept in object-oriented programming that allows objects of different types to be treated as objects of a common base type. "
   ]
  },
  {
   "cell_type": "markdown",
   "id": "b1ab3acc-fac6-498c-b5db-0e68f8d73cae",
   "metadata": {},
   "source": [
    "Python follows the principle of \"Duck Typing,\" which means that the type or the class of an object is less important than the methods and properties it exposes.\n",
    "Instead of checking the type of an object explicitly, Python code often relies on the presence of specific methods or attributes. If an object has the required methods or attributes, it is considered of the expected type.\n",
    "This allows different classes to be polymorphic as long as they support the same interface."
   ]
  },
  {
   "cell_type": "markdown",
   "id": "bd7dd44a-b4c0-4ab0-9ffd-1ded8e9f61f2",
   "metadata": {},
   "source": [
    "Dynamic polymorphism is often achieved through inheritance and method overriding. Subclasses can provide their own implementations of methods defined in the superclass."
   ]
  },
  {
   "cell_type": "code",
   "execution_count": 27,
   "id": "c561e386-daea-46e2-b874-b51679449588",
   "metadata": {},
   "outputs": [
    {
     "name": "stdout",
     "output_type": "stream",
     "text": [
      "Woof!\n",
      "Meow!\n"
     ]
    }
   ],
   "source": [
    "class Animal:\n",
    "    def make_sound(self):\n",
    "        pass\n",
    "\n",
    "class Dog(Animal):\n",
    "    def make_sound(self):\n",
    "        return \"Woof!\"\n",
    "\n",
    "class Cat(Animal):\n",
    "    def make_sound(self):\n",
    "        return \"Meow!\"\n",
    "\n",
    "# Dynamic polymorphism in action\n",
    "dog = Dog()\n",
    "cat = Cat()\n",
    "\n",
    "print(dog.make_sound())\n",
    "print(cat.make_sound()) "
   ]
  },
  {
   "cell_type": "markdown",
   "id": "9ae67016-2103-4409-bc37-7f9fea0338c0",
   "metadata": {},
   "source": [
    "17. Create a Python class hierarchy for employees in a company (e.g., manager, developer, designer) and implement polymorphism through a common `calculate_salary()` method."
   ]
  },
  {
   "cell_type": "code",
   "execution_count": 28,
   "id": "a2e43714-c2ab-45da-ab41-81162205c60c",
   "metadata": {},
   "outputs": [],
   "source": [
    "from abc import ABC, abstractmethod\n",
    "\n",
    "class Employee(ABC):\n",
    "    def __init__(self, name, role):\n",
    "        self.name = name\n",
    "        self.role = role\n",
    "\n",
    "    @abstractmethod\n",
    "    def calculate_salary(self):\n",
    "        pass  # Abstract method to be overridden by subclasses\n",
    "\n",
    "class Manager(Employee):\n",
    "    def __init__(self, name, salary, bonus):\n",
    "        super().__init__(name, role=\"Manager\")\n",
    "        self.salary = salary\n",
    "        self.bonus = bonus\n",
    "\n",
    "    def calculate_salary(self):\n",
    "        return self.salary + self.bonus\n",
    "\n",
    "class Developer(Employee):\n",
    "    def __init__(self, name, salary, language):\n",
    "        super().__init__(name, role=\"Developer\")\n",
    "        self.salary = salary\n",
    "        self.language = language\n",
    "\n",
    "    def calculate_salary(self):\n",
    "        return self.salary\n",
    "\n",
    "class Designer(Employee):\n",
    "    def __init__(self, name, salary, experience_years):\n",
    "        super().__init__(name, role=\"Designer\")\n",
    "        self.salary = salary\n",
    "        self.experience_years = experience_years\n",
    "\n",
    "    def calculate_salary(self):\n",
    "        # Designers get a bonus based on experience\n",
    "        return self.salary + (self.experience_years * 1000)"
   ]
  },
  {
   "cell_type": "markdown",
   "id": "a339631e-a4c1-449c-944d-cc88b0c3344d",
   "metadata": {},
   "source": [
    "18. Discuss the concept of function pointers and how they can be used to achieve polymorphism in Python."
   ]
  },
  {
   "cell_type": "markdown",
   "id": "8faadaa5-09b8-47de-9650-19a953626ee0",
   "metadata": {},
   "source": [
    "In Python, the concept of \"function pointers\" is not as explicit as in some other programming languages like C or C++. However, Python achieves a form of polymorphism through functions and their dynamic behavior. Instead of using function pointers directly, Python leverages the fact that functions are first-class citizens, which means they can be assigned to variables, passed as arguments, and returned as values."
   ]
  },
  {
   "cell_type": "markdown",
   "id": "3772f975-2549-44d3-ab9e-30c02fad5744",
   "metadata": {},
   "source": [
    "19. Explain the role of interfaces and abstract classes in polymorphism, drawing comparisons between them."
   ]
  },
  {
   "cell_type": "markdown",
   "id": "12fcbf84-c931-4cab-bcb6-0ff09bdfd5f3",
   "metadata": {},
   "source": [
    "Interfaces and abstract classes are both tools in object-oriented programming that play a significant role in achieving polymorphism. They provide a way to define a common interface for a group of related classes, allowing objects of these classes to be treated uniformly. "
   ]
  },
  {
   "cell_type": "code",
   "execution_count": 29,
   "id": "ef7eb3a7-5def-4af3-b8fe-258a21f81dcf",
   "metadata": {},
   "outputs": [],
   "source": [
    "from abc import ABC, abstractmethod\n",
    "\n",
    "class Shape(ABC):\n",
    "    @abstractmethod\n",
    "    def area(self):\n",
    "        pass\n",
    "\n",
    "class Circle(Shape):\n",
    "    def __init__(self, radius):\n",
    "        self.radius = radius\n",
    "\n",
    "    def area(self):\n",
    "        return 3.14 * self.radius**2"
   ]
  },
  {
   "cell_type": "markdown",
   "id": "06d03bd3-f4d6-4919-ab13-00295c3ba427",
   "metadata": {},
   "source": [
    "20. Create a Python class for a zoo simulation, demonstrating polymorphism with different animal types (e.g., mammals, birds, reptiles) and their behavior (e.g., eating, sleeping, making sounds)."
   ]
  },
  {
   "cell_type": "code",
   "execution_count": 30,
   "id": "d1167bd2-255b-4a5e-9ceb-cdf97c2b7abc",
   "metadata": {},
   "outputs": [],
   "source": [
    "from abc import ABC, abstractmethod\n",
    "\n",
    "class Animal(ABC):\n",
    "    def __init__(self, name):\n",
    "        self.name = name\n",
    "\n",
    "    @abstractmethod\n",
    "    def make_sound(self):\n",
    "        pass  # Abstract method for making sounds\n",
    "\n",
    "    def eat(self):\n",
    "        print(f\"{self.name} is eating.\")\n",
    "\n",
    "    def sleep(self):\n",
    "        print(f\"{self.name} is sleeping.\")\n",
    "\n",
    "class Mammal(Animal):\n",
    "    def give_birth(self):\n",
    "        print(f\"{self.name} is giving birth to live young.\")\n",
    "\n",
    "    def make_sound(self):\n",
    "        print(f\"{self.name} makes a mammal sound.\")\n",
    "\n",
    "class Bird(Animal):\n",
    "    def lay_eggs(self):\n",
    "        print(f\"{self.name} is laying eggs.\")\n",
    "\n",
    "    def make_sound(self):\n",
    "        print(f\"{self.name} makes a bird sound.\")\n",
    "\n",
    "class Reptile(Animal):\n",
    "    def lay_eggs(self):\n",
    "        print(f\"{self.name} is laying eggs.\")\n",
    "\n",
    "    def make_sound(self):\n",
    "        print(f\"{self.name} makes a reptile sound.\")\n"
   ]
  },
  {
   "cell_type": "markdown",
   "id": "185c15ba-4b36-4522-9c3d-3339eea51605",
   "metadata": {},
   "source": [
    "Abstraction:"
   ]
  },
  {
   "cell_type": "markdown",
   "id": "340cb8ca-79b8-4d23-95f1-52859bab5a96",
   "metadata": {},
   "source": [
    "1. What is abstraction in Python, and how does it relate to object-oriented programming?"
   ]
  },
  {
   "cell_type": "markdown",
   "id": "353c9300-a64f-47cd-aa9e-585d3d68c296",
   "metadata": {},
   "source": [
    " abstraction in Python is about simplifying complex systems by modeling them at a higher, more understandable level. It allows you to create classes and objects that represent real-world entities, hiding the implementation details and making your code more manageable and intuitive."
   ]
  },
  {
   "cell_type": "markdown",
   "id": "4e44ca55-783a-4fec-aee5-37eac1cba1e3",
   "metadata": {},
   "source": [
    "2. Describe the benefits of abstraction in terms of code organization and complexity reduction."
   ]
  },
  {
   "cell_type": "markdown",
   "id": "e3a6d7bc-ba27-4e8c-b18f-72aa51c18cae",
   "metadata": {},
   "source": [
    "Simplifies Understanding\n",
    "Encapsulation of Complexity\n",
    "Modular Design\n",
    "Code Reusability\n",
    "Ease of Maintenance\n",
    "Enhances Readability"
   ]
  },
  {
   "cell_type": "markdown",
   "id": "361cda71-9625-4473-ad9b-0dd1dcf70fa1",
   "metadata": {},
   "source": [
    "3. Create a Python class called `Shape` with an abstract method `calculate_area()`. Then, create child classes (e.g., `Circle`, `Rectangle`) that implement the `calculate_area()` method. Provide an example of\n",
    "using these classes."
   ]
  },
  {
   "cell_type": "code",
   "execution_count": 4,
   "id": "2649e467-6698-4474-afed-9274b67fc0e6",
   "metadata": {},
   "outputs": [],
   "source": [
    "class Shape:\n",
    "    \n",
    "    def cal_area(self):\n",
    "        pass\n",
    "    \n",
    "class Circle:\n",
    "    def __init__(self,radius):\n",
    "        self.radius = radius\n",
    "        \n",
    "    def cal_area(self):\n",
    "        return 3.14* self.radius * self.radius"
   ]
  },
  {
   "cell_type": "code",
   "execution_count": 5,
   "id": "7d33143c-37fb-4089-8b33-076f8633a2f4",
   "metadata": {},
   "outputs": [],
   "source": [
    "circle = Circle(10)"
   ]
  },
  {
   "cell_type": "code",
   "execution_count": 6,
   "id": "fdeb774c-5019-4053-955b-ecac2bec21ed",
   "metadata": {},
   "outputs": [
    {
     "data": {
      "text/plain": [
       "314.0"
      ]
     },
     "execution_count": 6,
     "metadata": {},
     "output_type": "execute_result"
    }
   ],
   "source": [
    "circle.cal_area()"
   ]
  },
  {
   "cell_type": "markdown",
   "id": "83f2054b-dede-4991-ba38-31d6f8f56bc3",
   "metadata": {},
   "source": [
    "4. Explain the concept of abstract classes in Python and how they are defined using the `abc` module. Provide\n",
    "an example."
   ]
  },
  {
   "cell_type": "code",
   "execution_count": null,
   "id": "64303e44-e4cb-45e3-8b38-c1aa4827d745",
   "metadata": {},
   "outputs": [],
   "source": []
  },
  {
   "cell_type": "code",
   "execution_count": 7,
   "id": "5dfd27af-f14b-450d-a12e-7b88453dcfa6",
   "metadata": {},
   "outputs": [],
   "source": [
    "from abc import ABC,abstractmethod\n",
    "\n",
    "class A(ABC):\n",
    "    \n",
    "    @abstractmethod\n",
    "    def abstractmethod(self):\n",
    "        pass"
   ]
  },
  {
   "cell_type": "markdown",
   "id": "fdb6971f-3c43-4db8-a04a-e33f7d71ba2a",
   "metadata": {},
   "source": [
    "In Python, an abstract class is a class that cannot be instantiated on its own and is meant to be subclassed by other classes. Abstract classes often contain one or more abstract methods, which are methods without a specific implementation. The purpose of abstract classes is to provide a common interface for a group of related classes while enforcing that certain methods must be implemented by the subclasses."
   ]
  },
  {
   "cell_type": "markdown",
   "id": "c08bb46b-7d5f-4c25-b86e-c1378acf6f71",
   "metadata": {},
   "source": [
    "5. How do abstract classes differ from regular classes in Python? Discuss their use cases."
   ]
  },
  {
   "cell_type": "markdown",
   "id": "b86476f6-6c37-4082-a01b-9353df0dc119",
   "metadata": {},
   "source": [
    "Abstract Classes:\n",
    "*Cannot be Instantiated:\n",
    "Abstract classes cannot be instantiated on their own. They are meant to be subclassed by other classes.\n",
    "*May Contain Abstract Methods:\n",
    "Abstract classes often contain one or more abstract methods, which are methods without a specific implementation. Subclasses are required to provide concrete implementations for these abstract methods.\n",
    "*Defined Using the abc Module:\n",
    "Abstract classes are typically defined using the ABC metaclass and the abstractmethod decorator from the abc module.\n",
    "*Provide a Blueprint:\n",
    "Abstract classes serve as blueprints or templates for other classes. They define a common interface that must be adhered to by their subclasses.\n",
    "\n",
    "Regular (Concrete) Classes:\n",
    "Can be Instantiated:\n",
    "Regular classes can be instantiated directly. Objects are created from these classes, and they can have attributes and methods with specific implementations.\n",
    "*May Have Inherited Methods:\n",
    "Regular classes can inherit from other classes, both abstract and concrete, and they may override or extend methods inherited from their parent classes.\n",
    "*Defined Without abc Module:\n",
    "Regular classes do not require the use of the abc module. They are defined in a straightforward manner without the need for abstract methods.\n",
    "*Provide Full Implementations:\n",
    "Regular classes provide full implementations for all of their methods. They are not obligated to leave any methods abstract or unimplemented.\n",
    "*Used for Creating Objects:\n",
    "Regular classes are used to create objects with specific attributes and behaviors. They represent concrete entities in the system."
   ]
  },
  {
   "cell_type": "code",
   "execution_count": 9,
   "id": "9f99ea3e-1295-4455-88e2-5c32bcd45c7b",
   "metadata": {},
   "outputs": [
    {
     "name": "stdout",
     "output_type": "stream",
     "text": [
      "Area of the circle: 78.5\n",
      "Perimeter of the circle: 31.400000000000002\n",
      "Area of the rectangle: 12\n",
      "Perimeter of the rectangle: 14\n"
     ]
    }
   ],
   "source": [
    "from abc import ABC, abstractmethod\n",
    "\n",
    "class Shape(ABC):\n",
    "    @abstractmethod\n",
    "    def area(self):\n",
    "        pass\n",
    "\n",
    "    @abstractmethod\n",
    "    def perimeter(self):\n",
    "        pass\n",
    "\n",
    "class Circle(Shape):\n",
    "    def __init__(self, radius):\n",
    "        self.radius = radius\n",
    "\n",
    "    def area(self):\n",
    "        return 3.14 * self.radius ** 2\n",
    "\n",
    "    def perimeter(self):\n",
    "        return 2 * 3.14 * self.radius\n",
    "\n",
    "class Rectangle(Shape):\n",
    "    def __init__(self, length, width):\n",
    "        self.length = length\n",
    "        self.width = width\n",
    "\n",
    "    def area(self):\n",
    "        return self.length * self.width\n",
    "\n",
    "    def perimeter(self):\n",
    "        return 2 * (self.length + self.width)\n",
    "\n",
    "# Creating instances of concrete classes\n",
    "circle = Circle(radius=5)\n",
    "rectangle = Rectangle(length=4, width=3)\n",
    "\n",
    "print(\"Area of the circle:\", circle.area())\n",
    "print(\"Perimeter of the circle:\", circle.perimeter())\n",
    "\n",
    "print(\"Area of the rectangle:\", rectangle.area())\n",
    "print(\"Perimeter of the rectangle:\", rectangle.perimeter())\n"
   ]
  },
  {
   "cell_type": "markdown",
   "id": "44cffba2-d294-4d8e-8658-cc1f32b7465a",
   "metadata": {},
   "source": [
    "6. Create a Python class for a bank account and demonstrate abstraction by hiding the account balance and\n",
    "providing methods to deposit and withdraw funds."
   ]
  },
  {
   "cell_type": "code",
   "execution_count": 11,
   "id": "7d87909c-3207-46fc-a821-cc904de1801e",
   "metadata": {},
   "outputs": [
    {
     "name": "stdout",
     "output_type": "stream",
     "text": [
      "Account holder: John Doe\n",
      "Initial balance: Rs.100.0\n",
      "Deposited Rs.50.0. New balance: Rs.150.0\n",
      "Withdrew Rs.30.0. New balance: Rs.120.0\n",
      "Invalid withdrawal amount or insufficient funds.\n"
     ]
    }
   ],
   "source": [
    "from abc import ABC, abstractmethod\n",
    "\n",
    "class BankAccount(ABC):\n",
    "    def __init__(self, account_holder, initial_balance=0.0):\n",
    "        self.account_holder = account_holder\n",
    "        self._balance = initial_balance  # Prefixing with '_' to indicate it's a \"protected\" attribute\n",
    "\n",
    "    @property\n",
    "    def balance(self):\n",
    "        return self._balance\n",
    "\n",
    "    @abstractmethod\n",
    "    def deposit(self, amount):\n",
    "        pass\n",
    "\n",
    "    @abstractmethod\n",
    "    def withdraw(self, amount):\n",
    "        pass\n",
    "\n",
    "# Concrete implementation of the BankAccount class\n",
    "class SavingsAccount(BankAccount):\n",
    "    def deposit(self, amount):\n",
    "        if amount > 0:\n",
    "            self._balance += amount\n",
    "            print(f\"Deposited Rs.{amount}. New balance: Rs.{self._balance}\")\n",
    "        else:\n",
    "            print(\"Invalid deposit amount. Please deposit a positive amount.\")\n",
    "\n",
    "    def withdraw(self, amount):\n",
    "        if amount > 0 and amount <= self._balance:\n",
    "            self._balance -= amount\n",
    "            print(f\"Withdrew Rs.{amount}. New balance: Rs.{self._balance}\")\n",
    "        else:\n",
    "            print(\"Invalid withdrawal amount or insufficient funds.\")\n",
    "\n",
    "\n",
    "savings_account = SavingsAccount(account_holder=\"John Doe\", initial_balance=100.0)\n",
    "\n",
    "print(f\"Account holder: {savings_account.account_holder}\")\n",
    "print(f\"Initial balance: Rs.{savings_account.balance}\")\n",
    "\n",
    "savings_account.deposit(50.0)\n",
    "savings_account.withdraw(30.0)\n",
    "savings_account.withdraw(150.0)  # Attempting to withdraw more than the balance\n"
   ]
  },
  {
   "cell_type": "markdown",
   "id": "73e87c5d-5d1a-439b-b0e7-8d9804300f58",
   "metadata": {},
   "source": [
    "7. Discuss the concept of interface classes in Python and their role in achieving abstraction."
   ]
  },
  {
   "cell_type": "markdown",
   "id": "ed121066-9eee-4162-bac2-11acf399757d",
   "metadata": {},
   "source": [
    "In Python, interface classes are a way to define a set of methods that must be implemented by any class that adheres to the interface. Although Python doesn't have a formal \"interface\" keyword like some other languages (e.g., Java), the concept of interfaces is achieved through abstract classes or informal agreements."
   ]
  },
  {
   "cell_type": "markdown",
   "id": "1ca0a017-eeb5-49d9-9852-f8267ae7efc7",
   "metadata": {},
   "source": [
    "8. Create a Python class hierarchy for animals and implement abstraction by defining common methods (e.g., `eat()`, `sleep()`) in an abstract base class."
   ]
  },
  {
   "cell_type": "code",
   "execution_count": 12,
   "id": "52ec368f-c781-42c0-b36e-5b85e0f88fa4",
   "metadata": {},
   "outputs": [
    {
     "name": "stdout",
     "output_type": "stream",
     "text": [
      "Leo is a Lion.\n",
      "Leo the Lion is eating.\n",
      "Leo the Lion is sleeping. Zzz...\n",
      "\n",
      "\n",
      "Tweety is a Canary.\n",
      "Tweety the Canary is pecking at seeds.\n",
      "Tweety the Canary is perched and resting.\n"
     ]
    }
   ],
   "source": [
    "from abc import ABC, abstractmethod\n",
    "\n",
    "# Abstract base class for animals\n",
    "class Animal(ABC):\n",
    "    def __init__(self, name, species):\n",
    "        self.name = name\n",
    "        self.species = species\n",
    "\n",
    "    @abstractmethod\n",
    "    def eat(self):\n",
    "        pass\n",
    "\n",
    "    @abstractmethod\n",
    "    def sleep(self):\n",
    "        pass\n",
    "\n",
    "# Concrete subclass for a specific type of animal: Mammal\n",
    "class Mammal(Animal):\n",
    "    def __init__(self, name, species, fur_color):\n",
    "        super().__init__(name, species)\n",
    "        self.fur_color = fur_color\n",
    "\n",
    "    def eat(self):\n",
    "        print(f\"{self.name} the {self.species} is eating.\")\n",
    "\n",
    "    def sleep(self):\n",
    "        print(f\"{self.name} the {self.species} is sleeping. Zzz...\")\n",
    "\n",
    "# Concrete subclass for a specific type of animal: Bird\n",
    "class Bird(Animal):\n",
    "    def __init__(self, name, species, wingspan):\n",
    "        super().__init__(name, species)\n",
    "        self.wingspan = wingspan\n",
    "\n",
    "    def eat(self):\n",
    "        print(f\"{self.name} the {self.species} is pecking at seeds.\")\n",
    "\n",
    "    def sleep(self):\n",
    "        print(f\"{self.name} the {self.species} is perched and resting.\")\n",
    "\n",
    "\n",
    "mammal = Mammal(name=\"Leo\", species=\"Lion\", fur_color=\"golden\")\n",
    "bird = Bird(name=\"Tweety\", species=\"Canary\", wingspan=\"small\")\n",
    "\n",
    "# Using common methods without knowing the specific animal type\n",
    "print(f\"{mammal.name} is a {mammal.species}.\")\n",
    "mammal.eat()\n",
    "mammal.sleep()\n",
    "\n",
    "print(\"\\n\")\n",
    "\n",
    "print(f\"{bird.name} is a {bird.species}.\")\n",
    "bird.eat()\n",
    "bird.sleep()\n"
   ]
  },
  {
   "cell_type": "markdown",
   "id": "79c5f8aa-b150-48e1-8cfe-1185c57acdbd",
   "metadata": {},
   "source": [
    "9. Explain the significance of encapsulation in achieving abstraction. Provide examples."
   ]
  },
  {
   "cell_type": "markdown",
   "id": "f553cc99-e8ab-4432-a145-2642480039f3",
   "metadata": {},
   "source": [
    "The significance of encapsulation lies in achieving abstraction and promoting the principles of information hiding, modularity, and code organization."
   ]
  },
  {
   "cell_type": "code",
   "execution_count": 13,
   "id": "995f9e13-9171-4553-a3fb-370aefbca694",
   "metadata": {},
   "outputs": [],
   "source": [
    "\n",
    "#Information Hiding\n",
    "class BankAccount:\n",
    "    def __init__(self, account_holder, balance):\n",
    "        self._account_holder = account_holder  # Encapsulated attribute\n",
    "        self._balance = balance  # Encapsulated attribute\n",
    "\n",
    "    def get_balance(self):\n",
    "        return self._balance  # Encapsulated method\n",
    "\n",
    "    def deposit(self, amount):\n",
    "        if amount > 0:\n",
    "            self._balance += amount\n",
    "            print(f\"Deposited ${amount}. New balance: ${self._balance}\")\n",
    "        else:\n",
    "            print(\"Invalid deposit amount. Please deposit a positive amount.\")"
   ]
  },
  {
   "cell_type": "code",
   "execution_count": 14,
   "id": "aec02144-b227-43ed-b1c1-7924b0a63ab4",
   "metadata": {},
   "outputs": [],
   "source": [
    "#Modularity\n",
    "class Car:\n",
    "    def __init__(self, make, model):\n",
    "        self._make = make  # Encapsulated attribute\n",
    "        self._model = model  # Encapsulated attribute\n",
    "\n",
    "    def start_engine(self):\n",
    "        print(f\"The {self._make} {self._model}'s engine is running.\")  # Encapsulated method\n"
   ]
  },
  {
   "cell_type": "markdown",
   "id": "7448f6bf-4843-49c3-b15d-b4ebd8caa8f9",
   "metadata": {},
   "source": [
    "10. What is the purpose of abstract methods, and how do they enforce abstraction in Python classes?"
   ]
  },
  {
   "cell_type": "markdown",
   "id": "4dac00a0-77a7-4bc7-809d-4eb9d58e1264",
   "metadata": {},
   "source": [
    "\n",
    "Abstract methods serve a key role in achieving abstraction in Python classes. They are methods declared in an abstract class that do not have a specific implementation in the abstract class itself. Instead, their implementation is deferred to the concrete subclasses. Abstract methods are defined using the @abstractmethod decorator"
   ]
  },
  {
   "cell_type": "code",
   "execution_count": 15,
   "id": "6f1c590c-3d70-4b4f-bf60-7c1c2ed74403",
   "metadata": {},
   "outputs": [
    {
     "name": "stdout",
     "output_type": "stream",
     "text": [
      "Circle:\n",
      "Area: 78.5\n",
      "Perimeter: 31.400000000000002\n",
      "\n",
      "Rectangle:\n",
      "Area: 12\n",
      "Perimeter: 14\n"
     ]
    }
   ],
   "source": [
    "from abc import ABC, abstractmethod\n",
    "\n",
    "# Abstract class defining an interface for a Shape\n",
    "class Shape(ABC):\n",
    "    @abstractmethod\n",
    "    def area(self):\n",
    "        pass\n",
    "\n",
    "    @abstractmethod\n",
    "    def perimeter(self):\n",
    "        pass\n",
    "\n",
    "# Concrete implementation of the Shape interface: Circle\n",
    "class Circle(Shape):\n",
    "    def __init__(self, radius):\n",
    "        self.radius = radius\n",
    "\n",
    "    def area(self):\n",
    "        return 3.14 * self.radius ** 2\n",
    "\n",
    "    def perimeter(self):\n",
    "        return 2 * 3.14 * self.radius\n",
    "\n",
    "# Concrete implementation of the Shape interface: Rectangle\n",
    "class Rectangle(Shape):\n",
    "    def __init__(self, length, width):\n",
    "        self.length = length\n",
    "        self.width = width\n",
    "\n",
    "    def area(self):\n",
    "        return self.length * self.width\n",
    "\n",
    "    def perimeter(self):\n",
    "        return 2 * (self.length + self.width)\n",
    "\n",
    "# Example usage\n",
    "circle = Circle(radius=5)\n",
    "rectangle = Rectangle(length=4, width=3)\n",
    "\n",
    "# Using the common interface provided by the abstract class\n",
    "print(\"Circle:\")\n",
    "print(f\"Area: {circle.area()}\")\n",
    "print(f\"Perimeter: {circle.perimeter()}\")\n",
    "\n",
    "print(\"\\nRectangle:\")\n",
    "print(f\"Area: {rectangle.area()}\")\n",
    "print(f\"Perimeter: {rectangle.perimeter()}\")\n"
   ]
  },
  {
   "cell_type": "markdown",
   "id": "952ccabf-54da-42ef-b888-78306b5603c9",
   "metadata": {},
   "source": [
    "11. Create a Python class for a vehicle system and demonstrate abstraction by defining common methods"
   ]
  },
  {
   "cell_type": "code",
   "execution_count": 2,
   "id": "d9220b05-6859-4375-b734-68b670e5864f",
   "metadata": {},
   "outputs": [
    {
     "name": "stdout",
     "output_type": "stream",
     "text": [
      "2022 Toyota Camry's engine is started.\n",
      "2022 Toyota Camry is honking.\n",
      "2022 Toyota Camry's engine is stopped.\n",
      "\n",
      "\n",
      "2021 Harley-Davidson Sportster's engine is revving.\n",
      "2021 Harley-Davidson Sportster is honking.\n",
      "2021 Harley-Davidson Sportster's engine is turned off.\n"
     ]
    }
   ],
   "source": [
    "from abc import ABC, abstractmethod\n",
    "\n",
    "# Abstract base class for vehicles\n",
    "class Vehicle(ABC):\n",
    "    def __init__(self, make, model, year):\n",
    "        self.make = make\n",
    "        self.model = model\n",
    "        self.year = year\n",
    "        self.engine_started = False  # Encapsulated attribute\n",
    "\n",
    "    @abstractmethod\n",
    "    def start_engine(self):\n",
    "        pass\n",
    "\n",
    "    @abstractmethod\n",
    "    def stop_engine(self):\n",
    "        pass\n",
    "\n",
    "    def honk(self):\n",
    "        print(f\"{self.year} {self.make} {self.model} is honking.\")\n",
    "\n",
    "# Concrete subclass for a car\n",
    "class Car(Vehicle):\n",
    "    def start_engine(self):\n",
    "        if not self.engine_started:\n",
    "            print(f\"{self.year} {self.make} {self.model}'s engine is started.\")\n",
    "            self.engine_started = True\n",
    "        else:\n",
    "            print(\"Engine is already started.\")\n",
    "\n",
    "    def stop_engine(self):\n",
    "        if self.engine_started:\n",
    "            print(f\"{self.year} {self.make} {self.model}'s engine is stopped.\")\n",
    "            self.engine_started = False\n",
    "        else:\n",
    "            print(\"Engine is already stopped.\")\n",
    "\n",
    "# Concrete subclass for a motorcycle\n",
    "class Motorcycle(Vehicle):\n",
    "    def start_engine(self):\n",
    "        if not self.engine_started:\n",
    "            print(f\"{self.year} {self.make} {self.model}'s engine is revving.\")\n",
    "            self.engine_started = True\n",
    "        else:\n",
    "            print(\"Engine is already started.\")\n",
    "\n",
    "    def stop_engine(self):\n",
    "        if self.engine_started:\n",
    "            print(f\"{self.year} {self.make} {self.model}'s engine is turned off.\")\n",
    "            self.engine_started = False\n",
    "        else:\n",
    "            print(\"Engine is already off.\")\n",
    "\n",
    "\n",
    "car = Car(make=\"Toyota\", model=\"Camry\", year=2022)\n",
    "motorcycle = Motorcycle(make=\"Harley-Davidson\", model=\"Sportster\", year=2021)\n",
    "\n",
    "# Using common methods without knowing the specific vehicle type\n",
    "car.start_engine()\n",
    "car.honk()\n",
    "car.stop_engine()\n",
    "\n",
    "print(\"\\n\")\n",
    "\n",
    "motorcycle.start_engine()\n",
    "motorcycle.honk()\n",
    "motorcycle.stop_engine()"
   ]
  },
  {
   "cell_type": "markdown",
   "id": "704d7e9e-3847-4973-9cbd-b959ec7b75af",
   "metadata": {},
   "source": [
    "12. Describe the use of abstract properties in Python and how they can be employed in abstract classes."
   ]
  },
  {
   "cell_type": "markdown",
   "id": "565bfb70-f1e3-4940-9dea-f879227c77a6",
   "metadata": {},
   "source": [
    "abstract properties in Python are a powerful tool for enforcing a contract in abstract classes, promoting a consistent interface, and ensuring that specific properties are implemented by concrete subclasses. They contribute to the principles of abstraction and polymorphism in object-oriented programming."
   ]
  },
  {
   "cell_type": "code",
   "execution_count": 8,
   "id": "a1fbf2cf-d503-4894-8a1f-e1f42aa1a879",
   "metadata": {},
   "outputs": [
    {
     "name": "stdout",
     "output_type": "stream",
     "text": [
      "Circle Area: 78.5\n",
      "Square Area: 16\n"
     ]
    }
   ],
   "source": [
    "from abc import ABC, abstractmethod\n",
    "\n",
    "# Abstract class with an abstract property\n",
    "class Shape(ABC):\n",
    "    @property\n",
    "    @abstractmethod\n",
    "    def area(self):\n",
    "        pass\n",
    "\n",
    "# Concrete subclass implementing the abstract property\n",
    "class Circle(Shape):\n",
    "    def __init__(self, radius):\n",
    "        self._radius = radius\n",
    "\n",
    "    @property\n",
    "    def area(self):\n",
    "        return 3.14 * self._radius ** 2\n",
    "\n",
    "# Concrete subclass implementing the abstract property\n",
    "class Square(Shape):\n",
    "    def __init__(self, side_length):\n",
    "        self._side_length = side_length\n",
    "\n",
    "    @property\n",
    "    def area(self):\n",
    "        return self._side_length ** 2\n",
    "\n",
    "circle = Circle(radius=5)\n",
    "square = Square(side_length=4)\n",
    "\n",
    "# Using the abstract property without knowing the specific shape type\n",
    "print(\"Circle Area:\", circle.area)\n",
    "print(\"Square Area:\", square.area)\n"
   ]
  },
  {
   "cell_type": "markdown",
   "id": "68e50c28-8171-4663-8eb7-ba2450da72f5",
   "metadata": {},
   "source": [
    "13. Create a Python class hierarchy for employees in a company (e.g., manager, developer, designer) and implement abstraction by defining a common `get_salary()` method."
   ]
  },
  {
   "cell_type": "code",
   "execution_count": 9,
   "id": "abb788f3-6839-4451-8341-fe210bd604fb",
   "metadata": {},
   "outputs": [
    {
     "name": "stdout",
     "output_type": "stream",
     "text": [
      "John Doe's Salary: $69000.0\n",
      "Alice Smith's Salary: $70000\n",
      "Bob Johnson's Salary: $60500.0\n"
     ]
    }
   ],
   "source": [
    "from abc import ABC, abstractmethod\n",
    "\n",
    "# Abstract base class for employees\n",
    "class Employee(ABC):\n",
    "    def __init__(self, name, employee_id):\n",
    "        self.name = name\n",
    "        self.employee_id = employee_id\n",
    "\n",
    "    @abstractmethod\n",
    "    def get_salary(self):\n",
    "        pass\n",
    "\n",
    "# Concrete subclass for a manager\n",
    "class Manager(Employee):\n",
    "    def __init__(self, name, employee_id, base_salary, bonus_percentage):\n",
    "        super().__init__(name, employee_id)\n",
    "        self.base_salary = base_salary\n",
    "        self.bonus_percentage = bonus_percentage\n",
    "\n",
    "    def get_salary(self):\n",
    "        bonus_amount = self.base_salary * (self.bonus_percentage / 100)\n",
    "        total_salary = self.base_salary + bonus_amount\n",
    "        return total_salary\n",
    "\n",
    "# Concrete subclass for a developer\n",
    "class Developer(Employee):\n",
    "    def __init__(self, name, employee_id, base_salary, programming_language):\n",
    "        super().__init__(name, employee_id)\n",
    "        self.base_salary = base_salary\n",
    "        self.programming_language = programming_language\n",
    "\n",
    "    def get_salary(self):\n",
    "        # Developers receive a fixed base salary\n",
    "        return self.base_salary\n",
    "\n",
    "# Concrete subclass for a designer\n",
    "class Designer(Employee):\n",
    "    def __init__(self, name, employee_id, base_salary, projects_completed):\n",
    "        super().__init__(name, employee_id)\n",
    "        self.base_salary = base_salary\n",
    "        self.projects_completed = projects_completed\n",
    "\n",
    "    def get_salary(self):\n",
    "        # Designers receive additional bonuses based on the number of projects completed\n",
    "        bonus_percentage = min(self.projects_completed * 2, 10)  # Maximum bonus capped at 10%\n",
    "        bonus_amount = self.base_salary * (bonus_percentage / 100)\n",
    "        total_salary = self.base_salary + bonus_amount\n",
    "        return total_salary\n",
    "\n",
    "manager = Manager(name=\"John Doe\", employee_id=\"M001\", base_salary=60000, bonus_percentage=15)\n",
    "developer = Developer(name=\"Alice Smith\", employee_id=\"D001\", base_salary=70000, programming_language=\"Python\")\n",
    "designer = Designer(name=\"Bob Johnson\", employee_id=\"DS001\", base_salary=55000, projects_completed=5)\n",
    "\n",
    "# Using the common method without knowing the specific employee type\n",
    "print(f\"{manager.name}'s Salary: ${manager.get_salary()}\")\n",
    "print(f\"{developer.name}'s Salary: ${developer.get_salary()}\")\n",
    "print(f\"{designer.name}'s Salary: ${designer.get_salary()}\")\n"
   ]
  },
  {
   "cell_type": "markdown",
   "id": "20bb9741-ae75-49a6-bf57-7be387379a40",
   "metadata": {},
   "source": [
    "14. Discuss the differences between abstract classes and concrete classes in Python, including their\n",
    "instantiation."
   ]
  },
  {
   "cell_type": "markdown",
   "id": "506b813d-74f2-4a67-9541-c1c501945092",
   "metadata": {},
   "source": [
    "Abstract classes are classes that cannot be instantiated on their own. They serve as blueprints or templates for other classes.\n",
    "Abstract classes cannot be instantiated directly. Attempting to create an instance of an abstract class will result in an error.\n",
    "Abstract classes are often defined using the abc (Abstract Base Classes) module in Python.\n",
    "Abstract classes may enforce that certain methods must be implemented by the subclasses. If a subclass fails to provide concrete implementations for all abstract methods, it is also treated as an abstract class.\n"
   ]
  },
  {
   "cell_type": "markdown",
   "id": "91665c61-e609-478d-ba83-6ff73b8e4854",
   "metadata": {},
   "source": [
    "15. Explain the concept of abstract data types (ADTs) and their role in achieving abstraction in Python."
   ]
  },
  {
   "cell_type": "markdown",
   "id": "7f5de8f2-6016-480e-a7d4-60facd4d279b",
   "metadata": {},
   "source": [
    "An Abstract Data Type (ADT) is a way of organizing and representing data and operations on that data in a high-level manner. It defines a set of operations that can be performed on the data without specifying how those operations are implemented. ADTs provide a blueprint or a template for creating data structures, emphasizing what operations can be done rather than how they are done."
   ]
  },
  {
   "cell_type": "code",
   "execution_count": 13,
   "id": "2b9422c2-edac-4610-b88c-f1c4879ad247",
   "metadata": {},
   "outputs": [],
   "source": [
    "class Queue:\n",
    "    def __init__(self):\n",
    "        self.items = []\n",
    "        \n",
    "    def enqueue(self,item):\n",
    "        self.items.append(item)\n",
    "    def dequeue(self):\n",
    "        if not self.is_empty():\n",
    "            return self.items.pop(0)\n",
    "        else:\n",
    "            raise IndexError(\"Queue is empty\")\n",
    "    def is_empty(self):\n",
    "        return len(self.items) == 0\n",
    "    def size(self):\n",
    "        return len(self.items)"
   ]
  },
  {
   "cell_type": "markdown",
   "id": "c70a6910-104a-44aa-a7b8-73c07b33c440",
   "metadata": {},
   "source": [
    "16. Create a Python class for a computer system, demonstrating abstraction by defining common methods"
   ]
  },
  {
   "cell_type": "code",
   "execution_count": 14,
   "id": "c5fb4303-37c5-4525-ac54-8e55fff21e8b",
   "metadata": {},
   "outputs": [
    {
     "name": "stdout",
     "output_type": "stream",
     "text": [
      "XYZ ABC123 is powering on.\n",
      "XYZ ABC123 is executing Text Editor.\n",
      "XYZ ABC123 is powering off.\n"
     ]
    }
   ],
   "source": [
    "class ComputerSystem:\n",
    "    def __init__(self, brand, model):\n",
    "        self.brand = brand\n",
    "        self.model = model\n",
    "        self.powered_on = False\n",
    "\n",
    "    def power_on(self):\n",
    "        if not self.powered_on:\n",
    "            print(f\"{self.brand} {self.model} is powering on.\")\n",
    "            self.powered_on = True\n",
    "        else:\n",
    "            print(\"Computer is already powered on.\")\n",
    "\n",
    "    def power_off(self):\n",
    "        if self.powered_on:\n",
    "            print(f\"{self.brand} {self.model} is powering off.\")\n",
    "            self.powered_on = False\n",
    "        else:\n",
    "            print(\"Computer is already powered off.\")\n",
    "\n",
    "    def execute_program(self, program_name):\n",
    "        if self.powered_on:\n",
    "            print(f\"{self.brand} {self.model} is executing {program_name}.\")\n",
    "        else:\n",
    "            print(\"Computer is not powered on. Cannot execute programs.\")\n",
    "\n",
    "\n",
    "my_computer = ComputerSystem(brand=\"XYZ\", model=\"ABC123\")\n",
    "\n",
    "# Using common methods without knowing the specific computer details\n",
    "my_computer.power_on()\n",
    "my_computer.execute_program(\"Text Editor\")\n",
    "my_computer.power_off()"
   ]
  },
  {
   "cell_type": "markdown",
   "id": "d42d5354-f72d-4e2b-8696-f5076aa8369f",
   "metadata": {},
   "source": [
    "17. Discuss the benefits of using abstraction in large-scale software development projects."
   ]
  },
  {
   "cell_type": "markdown",
   "id": "ce7cb889-806c-435c-a141-5e25137fe50e",
   "metadata": {},
   "source": [
    "Abstraction is a fundamental concept in software development that involves simplifying complex systems by modeling classes based on real-world entities and providing a clear and concise interface to interact with those classes. In large-scale software development projects, abstraction offers several benefits that contribute to the overall success and maintainability of the project"
   ]
  },
  {
   "cell_type": "markdown",
   "id": "ec81ee2b-4426-4e7c-9cb1-2b8577de41bc",
   "metadata": {},
   "source": [
    "18. Explain how abstraction enhances code reusability and modularity in Python programs."
   ]
  },
  {
   "cell_type": "markdown",
   "id": "7759c5f8-67e6-47a6-9b4e-596c689b7946",
   "metadata": {},
   "source": [
    "In Python, the use of abstraction, whether through classes, functions, or modules, is fundamental to achieving code reusability and modularity. Well-designed abstractions enable developers to build on existing components, create maintainable and scalable systems, and efficiently adapt to changing requirements."
   ]
  },
  {
   "cell_type": "markdown",
   "id": "b7a8b0f9-0542-4023-b80b-1f0f04d87d41",
   "metadata": {},
   "source": [
    "19. Create a Python class for a library system, implementing abstraction by defining common methods (e.g., `add_book()`, `borrow_book()`) in an abstract base class."
   ]
  },
  {
   "cell_type": "code",
   "execution_count": 18,
   "id": "ed8d68fb-8ae2-4919-9ec7-8a100ef996a2",
   "metadata": {},
   "outputs": [
    {
     "name": "stdout",
     "output_type": "stream",
     "text": [
      "Book 'The Great Gatsby' by F. Scott Fitzgerald added to the library catalog.\n",
      "Book 'To Kill a Mockingbird' by Harper Lee added to the library catalog.\n",
      "Book '1984' by George Orwell added to the library catalog.\n",
      "Catalog of City Library:\n",
      "The Great Gatsby by F. Scott Fitzgerald\n",
      "To Kill a Mockingbird by Harper Lee\n",
      "1984 by George Orwell\n",
      "Alice borrowed the book 'The Great Gatsby'.\n",
      "Book 'The Great Gatsby' has been returned to the library.\n",
      "Catalog of City Library:\n",
      "The Great Gatsby by F. Scott Fitzgerald\n",
      "To Kill a Mockingbird by Harper Lee\n",
      "1984 by George Orwell\n"
     ]
    }
   ],
   "source": [
    "from abc import ABC, abstractmethod\n",
    "\n",
    "# Abstract base class for a library system\n",
    "class LibrarySystem(ABC):\n",
    "    def __init__(self, library_name):\n",
    "        self.library_name = library_name\n",
    "        self.catalog = {}\n",
    "\n",
    "    @abstractmethod\n",
    "    def add_item(self, title, author):\n",
    "        pass\n",
    "\n",
    "    @abstractmethod\n",
    "    def remove_item(self, title):\n",
    "        pass\n",
    "\n",
    "    @abstractmethod\n",
    "    def borrow_item(self, title, user):\n",
    "        pass\n",
    "\n",
    "    @abstractmethod\n",
    "    def return_item(self, title):\n",
    "        pass\n",
    "\n",
    "    def display_catalog(self):\n",
    "        print(f\"Catalog of {self.library_name}:\")\n",
    "        for title, details in self.catalog.items():\n",
    "            print(f\"{title} by {details['author']}\")\n",
    "\n",
    "# Concrete subclass for books in the library\n",
    "class BookLibrary(LibrarySystem):\n",
    "    def add_item(self, title, author):\n",
    "        if title not in self.catalog:\n",
    "            self.catalog[title] = {'type': 'Book', 'author': author, 'available': True}\n",
    "            print(f\"Book '{title}' by {author} added to the library catalog.\")\n",
    "        else:\n",
    "            print(f\"Book '{title}' already exists in the library catalog.\")\n",
    "\n",
    "    def remove_item(self, title):\n",
    "        if title in self.catalog:\n",
    "            del self.catalog[title]\n",
    "            print(f\"Book '{title}' removed from the library catalog.\")\n",
    "        else:\n",
    "            print(f\"Book '{title}' not found in the library catalog.\")\n",
    "\n",
    "    def borrow_item(self, title, user):\n",
    "        if title in self.catalog and self.catalog[title]['available']:\n",
    "            self.catalog[title]['available'] = False\n",
    "            print(f\"{user} borrowed the book '{title}'.\")\n",
    "        elif title in self.catalog and not self.catalog[title]['available']:\n",
    "            print(f\"Book '{title}' is currently not available.\")\n",
    "        else:\n",
    "            print(f\"Book '{title}' not found in the library catalog.\")\n",
    "\n",
    "    def return_item(self, title):\n",
    "        if title in self.catalog and not self.catalog[title]['available']:\n",
    "            self.catalog[title]['available'] = True\n",
    "            print(f\"Book '{title}' has been returned to the library.\")\n",
    "        elif title in self.catalog and self.catalog[title]['available']:\n",
    "            print(f\"Book '{title}' is already available in the library.\")\n",
    "        else:\n",
    "            print(f\"Book '{title}' not found in the library catalog.\")\n",
    "\n",
    "# Example usage\n",
    "book_library = BookLibrary(library_name=\"City Library\")\n",
    "\n",
    "# Adding books to the library\n",
    "book_library.add_item(title=\"The Great Gatsby\", author=\"F. Scott Fitzgerald\")\n",
    "book_library.add_item(title=\"To Kill a Mockingbird\", author=\"Harper Lee\")\n",
    "book_library.add_item(title=\"1984\", author=\"George Orwell\")\n",
    "\n",
    "# Displaying the catalog\n",
    "book_library.display_catalog()\n",
    "\n",
    "# Borrowing and returning books\n",
    "book_library.borrow_item(title=\"The Great Gatsby\", user=\"Alice\")\n",
    "book_library.return_item(title=\"The Great Gatsby\")\n",
    "\n",
    "# Displaying the catalog after borrowing and returning\n",
    "book_library.display_catalog()"
   ]
  },
  {
   "cell_type": "markdown",
   "id": "987ee8db-91c5-4fd4-9882-89c7565df671",
   "metadata": {},
   "source": [
    "20. Describe the concept of method abstraction in Python and how it relates to polymorphism."
   ]
  },
  {
   "cell_type": "markdown",
   "id": "356b1cc1-ba94-4212-a82d-0f814ee4ec6d",
   "metadata": {},
   "source": [
    "Method abstraction in Python refers to the concept of hiding the implementation details of a method while exposing a clear and well-defined interface for interacting with it. "
   ]
  },
  {
   "cell_type": "markdown",
   "id": "31283234-db91-4004-b78a-b83f4feb9222",
   "metadata": {},
   "source": [
    "Composition:"
   ]
  },
  {
   "cell_type": "markdown",
   "id": "a92f0518-fbd9-4a8c-81d6-4f47f63dff40",
   "metadata": {},
   "source": [
    "1. Explain the concept of composition in Python and how it is used to build complex objects from simpler ones."
   ]
  },
  {
   "cell_type": "markdown",
   "id": "4339f69d-f0b2-4508-a826-17e9a4dbfc2f",
   "metadata": {},
   "source": [
    "in Composition - classes have \"part-of\" relationship.Composition in Python is a design principle that allows you to build complex objects by combining simpler ones. It is one of the fundamental concepts in object-oriented programming (OOP) and promotes code reuse, flexibility, and modularity. In composition, rather than inheriting properties and behaviors from a single class, an object is created by combining multiple classes."
   ]
  },
  {
   "cell_type": "code",
   "execution_count": 18,
   "id": "7736450a-3806-41c9-9288-a4e3bb87d857",
   "metadata": {},
   "outputs": [],
   "source": [
    "class Salary:\n",
    "    \n",
    "    def __init__(self,pay,bonus):\n",
    "        self.pay = pay\n",
    "        self.bonus = bonus\n",
    "        \n",
    "    def annual_salary(self):\n",
    "        return (self.pay*12 + self.bonus)\n",
    "    \n",
    "class Employee:\n",
    "    def __init__(self,name,pay,bonus):\n",
    "        self.name = name\n",
    "        self.obj_salary = Salary(pay,bonus)\n",
    "        \n",
    "    def total_salary(self):\n",
    "        return self.obj_salary.annual_salary()"
   ]
  },
  {
   "cell_type": "code",
   "execution_count": 19,
   "id": "3a4d9156-6965-46ca-80c9-a35c8dee00cc",
   "metadata": {},
   "outputs": [],
   "source": [
    "empl = Employee('sai',100000,10000)"
   ]
  },
  {
   "cell_type": "code",
   "execution_count": 20,
   "id": "e26b0034-532b-442a-ab19-85372adb5186",
   "metadata": {},
   "outputs": [
    {
     "data": {
      "text/plain": [
       "1210000"
      ]
     },
     "execution_count": 20,
     "metadata": {},
     "output_type": "execute_result"
    }
   ],
   "source": [
    "empl.total_salary()"
   ]
  },
  {
   "cell_type": "markdown",
   "id": "7c89b845-40a2-4f62-9f72-aca3fcf2517d",
   "metadata": {},
   "source": [
    "2. Describe the difference between composition and inheritance in object-oriented programming."
   ]
  },
  {
   "cell_type": "code",
   "execution_count": null,
   "id": "0b198cf0-29a8-422a-97fe-fba0f556f6a2",
   "metadata": {},
   "outputs": [],
   "source": [
    "#Composition\n",
    "\n",
    "combining simpler clasees to create more complex class\n"
   ]
  },
  {
   "cell_type": "code",
   "execution_count": 14,
   "id": "08c25e10-d6dc-4a79-a3ca-b8533b560369",
   "metadata": {},
   "outputs": [],
   "source": [
    "class Wheel:\n",
    "    def roll(self):\n",
    "        print(\"wheels rolling\")\n",
    "        \n",
    "class Engine:\n",
    "    def start(self):\n",
    "        print(\"Engine started\")\n",
    "\n",
    "class Car:\n",
    "    def __init__(self):\n",
    "        self.engine = Engine()\n",
    "        self.wheel = Wheel()\n",
    "        \n",
    "    def start(self):\n",
    "        return self.engine.start()\n",
    "    def move(self):\n",
    "        return self.wheel.roll()"
   ]
  },
  {
   "cell_type": "code",
   "execution_count": 15,
   "id": "6e4ddfe1-97c5-4bad-a826-0da10635f3ef",
   "metadata": {},
   "outputs": [],
   "source": [
    "car = Car()"
   ]
  },
  {
   "cell_type": "code",
   "execution_count": 16,
   "id": "2bcfc9c9-a2ee-41e2-83be-7ce0bfb4168b",
   "metadata": {},
   "outputs": [
    {
     "name": "stdout",
     "output_type": "stream",
     "text": [
      "Engine started\n"
     ]
    }
   ],
   "source": [
    "car.start()"
   ]
  },
  {
   "cell_type": "markdown",
   "id": "e5c6a131-3642-4293-86b0-cae2a73d9fad",
   "metadata": {},
   "source": [
    "Inheritance:\n",
    "\n",
    "What is it? Creating a new class by inheriting properties and behaviors from an existing class."
   ]
  },
  {
   "cell_type": "code",
   "execution_count": 18,
   "id": "a9c21fb9-d096-496c-b3d8-08b7ad552139",
   "metadata": {},
   "outputs": [],
   "source": [
    "class Vehicle:\n",
    "    def start(self):\n",
    "        print(\"Vehicle starting\")\n",
    "\n",
    "class Car(Vehicle):\n",
    "    def move(self):\n",
    "        print(\"Car moving\")"
   ]
  },
  {
   "cell_type": "markdown",
   "id": "3b5b6678-8ab6-4b97-a749-cc9c67d40a68",
   "metadata": {},
   "source": [
    "3. Create a Python class called `Author` with attributes for name and birthdate. Then, create a `Book` class\n",
    "that contains an instance of `Author` as a composition. Provide an example of creating a `Book` object."
   ]
  },
  {
   "cell_type": "code",
   "execution_count": 19,
   "id": "6e145c88-26b9-471e-bfed-533224c37176",
   "metadata": {},
   "outputs": [],
   "source": [
    "class Author:\n",
    "    def __init__(self, name, birthdate):\n",
    "        self.name = name\n",
    "        self.birthdate = birthdate\n",
    "\n",
    "class Book:\n",
    "    def __init__(self, title, genre, author):\n",
    "        self.title = title\n",
    "        self.genre = genre\n",
    "        self.author = author  \n",
    "        "
   ]
  },
  {
   "cell_type": "code",
   "execution_count": 20,
   "id": "654b955a-e82c-421f-957d-844b1e1b4b55",
   "metadata": {},
   "outputs": [],
   "source": [
    "author1 = Author('sai',25)"
   ]
  },
  {
   "cell_type": "code",
   "execution_count": 22,
   "id": "9d53c599-37f7-4b64-8825-64626ae59059",
   "metadata": {},
   "outputs": [],
   "source": [
    "book = Book(\"Harry Potter and the Philosopher's Stone\", \"Fantasy\", author1)"
   ]
  },
  {
   "cell_type": "code",
   "execution_count": 23,
   "id": "3e0e6cb0-4ccc-4fe7-bc47-619628007293",
   "metadata": {},
   "outputs": [
    {
     "data": {
      "text/plain": [
       "\"Harry Potter and the Philosopher's Stone\""
      ]
     },
     "execution_count": 23,
     "metadata": {},
     "output_type": "execute_result"
    }
   ],
   "source": [
    "book.title"
   ]
  },
  {
   "cell_type": "markdown",
   "id": "e9d43578-25c2-447a-9e06-e4a52954475b",
   "metadata": {},
   "source": [
    "4. Discuss the benefits of using composition over inheritance in Python, especially in terms of code flexibility\n",
    "and reusability."
   ]
  },
  {
   "cell_type": "markdown",
   "id": "c47d8391-7031-44e1-87ab-779e4127456a",
   "metadata": {},
   "source": [
    "Avoiding the Diamond Problem: Inheritance can lead to the \"Diamond Problem\" where ambiguity arises when a class inherits from two classes that have a common ancestor. Composition helps avoid this problem as you can explicitly control how the classes are composed and delegate functionality as needed.\n",
    "Favoring Composition Over Inheritance (FOO): FOO is a principle that encourages code reuse through composition. By favoring composition, you create classes that are smaller and more focused, making them easier to reuse in different contexts."
   ]
  },
  {
   "cell_type": "markdown",
   "id": "4b0a10d6-604f-4708-889f-03bd86101106",
   "metadata": {},
   "source": [
    "5. How can you implement composition in Python classes? Provide examples of using composition to create\n",
    "complex objects."
   ]
  },
  {
   "cell_type": "code",
   "execution_count": 24,
   "id": "d3063c98-a736-4709-8b26-1119b2b70e10",
   "metadata": {},
   "outputs": [
    {
     "name": "stdout",
     "output_type": "stream",
     "text": [
      "Car starting...\n",
      "Engine started\n"
     ]
    }
   ],
   "source": [
    "# Example 1: Basic Composition\n",
    "\n",
    "# Component class\n",
    "class Engine:\n",
    "    def start(self):\n",
    "        print(\"Engine started\")\n",
    "\n",
    "# Car class using composition\n",
    "class Car:\n",
    "    def __init__(self):\n",
    "        self.engine = Engine()\n",
    "\n",
    "    def start(self):\n",
    "        print(\"Car starting...\")\n",
    "        self.engine.start()\n",
    "\n",
    "# Creating a Car object\n",
    "my_car = Car()\n",
    "my_car.start()"
   ]
  },
  {
   "cell_type": "markdown",
   "id": "66f9b727-f93f-43fd-8074-7fcefb0d96a2",
   "metadata": {},
   "source": [
    "6. Create a Python class hierarchy for a music player system, using composition to represent playlists and\n",
    "songs."
   ]
  },
  {
   "cell_type": "code",
   "execution_count": 25,
   "id": "a3f4e032-3126-4805-9c1a-2920b0e83245",
   "metadata": {},
   "outputs": [],
   "source": [
    "# Song class\n",
    "class Song:\n",
    "    def __init__(self, title, artist, duration):\n",
    "        self.title = title\n",
    "        self.artist = artist\n",
    "        self.duration = duration\n",
    "\n",
    "    def play(self):\n",
    "        print(f\"Now playing: {self.title} by {self.artist}\")\n",
    "\n",
    "# Playlist class using composition\n",
    "class Playlist:\n",
    "    def __init__(self, name):\n",
    "        self.name = name\n",
    "        self.songs = []\n",
    "\n",
    "    def add_song(self, song):\n",
    "        self.songs.append(song)\n",
    "\n",
    "    def play(self):\n",
    "        print(f\"Playlist: {self.name}\")\n",
    "        for song in self.songs:\n",
    "            song.play()\n",
    "\n",
    "# MusicPlayer class using composition\n",
    "class MusicPlayer:\n",
    "    def __init__(self):\n",
    "        self.playlists = []\n",
    "\n",
    "    def add_playlist(self, playlist):\n",
    "        self.playlists.append(playlist)\n",
    "\n",
    "    def play_all(self):\n",
    "        print(\"Playing all playlists:\")\n",
    "        for playlist in self.playlists:\n",
    "            playlist.play()"
   ]
  },
  {
   "cell_type": "markdown",
   "id": "aa5c5f7f-38ee-47da-9a54-9fce83652c34",
   "metadata": {},
   "source": [
    "7. Explain the concept of \"has-a\" relationships in composition and how it helps design software systems."
   ]
  },
  {
   "cell_type": "markdown",
   "id": "b6934b14-0626-4e1b-b845-3350ae73a7d4",
   "metadata": {},
   "source": [
    "The concept of \"has-a\" relationships in composition is a fundamental principle in object-oriented programming (OOP) that emphasizes the idea of building complex objects by combining or composing simpler ones. In a \"has-a\" relationship, an object is said to \"have\" another object as a part or component, rather than being a subtype of another object (as in the case of inheritance)."
   ]
  },
  {
   "cell_type": "markdown",
   "id": "6e26b352-377f-4bed-9415-1af370839c61",
   "metadata": {},
   "source": [
    "8. Create a Python class for a computer system, using composition to represent components like CPU, RAM,\n",
    "and storage devices."
   ]
  },
  {
   "cell_type": "code",
   "execution_count": 26,
   "id": "f26850ae-38af-4138-8b35-f7fc9c70141d",
   "metadata": {},
   "outputs": [
    {
     "name": "stdout",
     "output_type": "stream",
     "text": [
      "Computer Specs:\n",
      "Intel CPU running at 3.5 GHz\n",
      "16 GB RAM running at 2400 MHz\n",
      "512 GB SSD storage\n"
     ]
    }
   ],
   "source": [
    "# CPU class\n",
    "class CPU:\n",
    "    def __init__(self, brand, speed):\n",
    "        self.brand = brand\n",
    "        self.speed = speed\n",
    "\n",
    "    def get_info(self):\n",
    "        return f\"{self.brand} CPU running at {self.speed} GHz\"\n",
    "\n",
    "# RAM class\n",
    "class RAM:\n",
    "    def __init__(self, size_gb, speed):\n",
    "        self.size_gb = size_gb\n",
    "        self.speed = speed\n",
    "\n",
    "    def get_info(self):\n",
    "        return f\"{self.size_gb} GB RAM running at {self.speed} MHz\"\n",
    "\n",
    "# Storage class\n",
    "class Storage:\n",
    "    def __init__(self, capacity_gb, type):\n",
    "        self.capacity_gb = capacity_gb\n",
    "        self.type = type\n",
    "\n",
    "    def get_info(self):\n",
    "        return f\"{self.capacity_gb} GB {self.type} storage\"\n",
    "\n",
    "# Computer class using composition\n",
    "class Computer:\n",
    "    def __init__(self, cpu, ram, storage):\n",
    "        self.cpu = cpu\n",
    "        self.ram = ram\n",
    "        self.storage = storage\n",
    "\n",
    "    def get_info(self):\n",
    "        cpu_info = self.cpu.get_info()\n",
    "        ram_info = self.ram.get_info()\n",
    "        storage_info = self.storage.get_info()\n",
    "\n",
    "        return f\"Computer Specs:\\n{cpu_info}\\n{ram_info}\\n{storage_info}\"\n",
    "\n",
    "# Example usage:\n",
    "# Creating components\n",
    "cpu = CPU(\"Intel\", 3.5)\n",
    "ram = RAM(16, 2400)\n",
    "storage = Storage(512, \"SSD\")\n",
    "\n",
    "# Creating a computer\n",
    "my_computer = Computer(cpu, ram, storage)\n",
    "\n",
    "# Displaying computer information\n",
    "print(my_computer.get_info())"
   ]
  },
  {
   "cell_type": "markdown",
   "id": "36abdca8-9400-4e2c-abf0-a25e5d6e003b",
   "metadata": {},
   "source": [
    "9. Describe the concept of \"delegation\" in composition and how it simplifies the design of complex systems."
   ]
  },
  {
   "cell_type": "markdown",
   "id": "f196bbf6-3b71-4cb6-ada3-00ace081db3f",
   "metadata": {},
   "source": [
    "Delegation in the context of composition refers to the process of one object handing over a responsibility or task to another object. It is a design pattern where a class includes an instance of another class and delegates some of its responsibilities to that instance."
   ]
  },
  {
   "cell_type": "markdown",
   "id": "4c93aa8b-c664-4564-88d3-9961b63961d7",
   "metadata": {},
   "source": [
    "10. Create a Python class for a car, using composition to represent components like the engine, wheels, and\n",
    "transmission."
   ]
  },
  {
   "cell_type": "code",
   "execution_count": 27,
   "id": "b99b7855-36df-49fd-bace-4cb798cba6c8",
   "metadata": {},
   "outputs": [
    {
     "name": "stdout",
     "output_type": "stream",
     "text": [
      "Starting the car...\n",
      "Engine started\n",
      "Driving the car...\n",
      "Transmission shifted\n",
      "Wheel rotating\n",
      "Wheel rotating\n",
      "Wheel rotating\n",
      "Wheel rotating\n"
     ]
    }
   ],
   "source": [
    "# Engine class\n",
    "class Engine:\n",
    "    def __init__(self, fuel_type, horsepower):\n",
    "        self.fuel_type = fuel_type\n",
    "        self.horsepower = horsepower\n",
    "\n",
    "    def start(self):\n",
    "        print(\"Engine started\")\n",
    "\n",
    "# Wheel class\n",
    "class Wheel:\n",
    "    def __init__(self, brand, size):\n",
    "        self.brand = brand\n",
    "        self.size = size\n",
    "\n",
    "    def rotate(self):\n",
    "        print(\"Wheel rotating\")\n",
    "\n",
    "# Transmission class\n",
    "class Transmission:\n",
    "    def __init__(self, transmission_type):\n",
    "        self.transmission_type = transmission_type\n",
    "\n",
    "    def shift(self):\n",
    "        print(\"Transmission shifted\")\n",
    "\n",
    "# Car class using composition\n",
    "class Car:\n",
    "    def __init__(self, engine, wheels, transmission):\n",
    "        self.engine = engine\n",
    "        self.wheels = wheels\n",
    "        self.transmission = transmission\n",
    "\n",
    "    def start(self):\n",
    "        print(\"Starting the car...\")\n",
    "        self.engine.start()\n",
    "\n",
    "    def drive(self):\n",
    "        print(\"Driving the car...\")\n",
    "        self.transmission.shift()\n",
    "        for wheel in self.wheels:\n",
    "            wheel.rotate()\n",
    "\n",
    "# Example usage:\n",
    "# Creating components\n",
    "car_engine = Engine(\"Gasoline\", 200)\n",
    "front_left_wheel = Wheel(\"Brand1\", 18)\n",
    "front_right_wheel = Wheel(\"Brand1\", 18)\n",
    "rear_left_wheel = Wheel(\"Brand1\", 18)\n",
    "rear_right_wheel = Wheel(\"Brand1\", 18)\n",
    "car_wheels = [front_left_wheel, front_right_wheel, rear_left_wheel, rear_right_wheel]\n",
    "car_transmission = Transmission(\"Automatic\")\n",
    "\n",
    "# Creating a car\n",
    "my_car = Car(car_engine, car_wheels, car_transmission)\n",
    "\n",
    "# Driving the car\n",
    "my_car.start()\n",
    "my_car.drive()\n"
   ]
  },
  {
   "cell_type": "markdown",
   "id": "22be630e-1c8f-464e-aceb-303f741cd7b9",
   "metadata": {},
   "source": [
    "11. How can you encapsulate and hide the details of composed objects in Python classes to maintain\n",
    "abstraction?"
   ]
  },
  {
   "cell_type": "markdown",
   "id": "b57c8d5a-480a-4321-91f5-a34eea79f318",
   "metadata": {},
   "source": [
    "Private Attributes and Methods:\n",
    "\n",
    "Use naming conventions (such as a single underscore) to mark attributes or methods as private, indicating that they should not be accessed directly from outside the class.\n",
    "Properties and Getters/Setters:\n",
    "\n",
    "Implement properties and getter/setter methods to control access to attributes, allowing you to add logic when getting or setting values and maintaining encapsulation.\n",
    "Abstraction through Public Interfaces:\n",
    "\n",
    "Design a clean and well-defined public interface for the class, exposing only essential methods and attributes required for external interaction while abstracting away internal implementation details.\n",
    "Documentation:\n",
    "\n",
    "Provide clear and comprehensive documentation for the class, explaining the purpose of public methods and attributes, enabling users to understand how to interact with the class without knowledge of internal details.\n",
    "Consistent Abstraction:\n",
    "\n",
    "Ensure that the level of abstraction is consistent across the class. Maintain a balance between hiding unnecessary details and providing sufficient information for users to utilize the class effectively."
   ]
  },
  {
   "cell_type": "markdown",
   "id": "cca7ab49-a113-4d56-8e92-2de61d5d0568",
   "metadata": {},
   "source": [
    "12. Create a Python class for a university course, using composition to represent students, instructors, and\n",
    "course materials."
   ]
  },
  {
   "cell_type": "code",
   "execution_count": 28,
   "id": "7cb9ce32-89f9-472b-be83-d0bed2b27fda",
   "metadata": {},
   "outputs": [
    {
     "name": "stdout",
     "output_type": "stream",
     "text": [
      "Course: CS101 - Introduction to Programming\n",
      "Instructor:\n",
      "  ID: 101, Name: Professor Smith\n",
      "Students:\n",
      "  ID: 1, Name: Alice\n",
      "  ID: 2, Name: Bob\n",
      "Course Material:\n",
      "  Textbook: Introduction to Python Programming\n",
      "  Syllabus: Week 1: Basics, Week 2: Functions, ...\n"
     ]
    }
   ],
   "source": [
    "# Student class\n",
    "class Student:\n",
    "    def __init__(self, student_id, name):\n",
    "        self.student_id = student_id\n",
    "        self.name = name\n",
    "\n",
    "    def enroll(self, course):\n",
    "        print(f\"{self.name} is enrolled in {course}.\")\n",
    "\n",
    "# Instructor class\n",
    "class Instructor:\n",
    "    def __init__(self, instructor_id, name):\n",
    "        self.instructor_id = instructor_id\n",
    "        self.name = name\n",
    "\n",
    "    def teach(self, course):\n",
    "        print(f\"{self.name} is teaching {course}.\")\n",
    "\n",
    "# CourseMaterial class\n",
    "class CourseMaterial:\n",
    "    def __init__(self, textbook, syllabus):\n",
    "        self.textbook = textbook\n",
    "        self.syllabus = syllabus\n",
    "\n",
    "# UniversityCourse class using composition\n",
    "class UniversityCourse:\n",
    "    def __init__(self, course_code, course_name, instructor, students, course_material):\n",
    "        self.course_code = course_code\n",
    "        self.course_name = course_name\n",
    "        self.instructor = instructor\n",
    "        self.students = students\n",
    "        self.course_material = course_material\n",
    "\n",
    "    def display_info(self):\n",
    "        print(f\"Course: {self.course_code} - {self.course_name}\")\n",
    "        print(\"Instructor:\")\n",
    "        print(f\"  ID: {self.instructor.instructor_id}, Name: {self.instructor.name}\")\n",
    "        print(\"Students:\")\n",
    "        for student in self.students:\n",
    "            print(f\"  ID: {student.student_id}, Name: {student.name}\")\n",
    "        print(\"Course Material:\")\n",
    "        print(f\"  Textbook: {self.course_material.textbook}\")\n",
    "        print(f\"  Syllabus: {self.course_material.syllabus}\")\n",
    "\n",
    "# Example usage:\n",
    "# Creating students and an instructor\n",
    "student1 = Student(1, \"Alice\")\n",
    "student2 = Student(2, \"Bob\")\n",
    "instructor = Instructor(101, \"Professor Smith\")\n",
    "\n",
    "# Creating course materials\n",
    "textbook = \"Introduction to Python Programming\"\n",
    "syllabus = \"Week 1: Basics, Week 2: Functions, ...\"\n",
    "course_material = CourseMaterial(textbook, syllabus)\n",
    "\n",
    "# Creating a university course\n",
    "course = UniversityCourse(\"CS101\", \"Introduction to Programming\", instructor, [student1, student2], course_material)\n",
    "\n",
    "# Displaying course information\n",
    "course.display_info()\n"
   ]
  },
  {
   "cell_type": "markdown",
   "id": "0715e1a9-202b-4efc-aa28-3a16fa9f0093",
   "metadata": {},
   "source": [
    "13. Discuss the challenges and drawbacks of composition, such as increased complexity and potential for\n",
    "tight coupling between objects."
   ]
  },
  {
   "cell_type": "markdown",
   "id": "199c812f-a57d-4c5e-92d2-f28326ca12db",
   "metadata": {},
   "source": [
    "Increased Complexity\n",
    "Potential for Tight Coupling\n",
    "Dependency Management\n",
    "Interface Design Challenges"
   ]
  },
  {
   "cell_type": "markdown",
   "id": "64c1d9db-dd9d-4654-9a5b-1093989ecb19",
   "metadata": {},
   "source": [
    "14. Create a Python class hierarchy for a restaurant system, using composition to represent menus, dishes,\n",
    "and ingredients."
   ]
  },
  {
   "cell_type": "code",
   "execution_count": 29,
   "id": "6a61f01d-f634-448c-a1fa-85d1f04245f6",
   "metadata": {},
   "outputs": [
    {
     "name": "stdout",
     "output_type": "stream",
     "text": [
      "Menu: Special Menu\n",
      "Description: A selection of our chef's specials\n",
      "Dishes:\n",
      "Chicken Curry - Spicy chicken curry with tomatoes and onions\n",
      "Ingredients:\n",
      "  200 g of Chicken\n",
      "  2 pieces of Tomatoes\n",
      "  1 piece of Onions\n",
      "  1 packet of Spices\n",
      "Price: $15.99\n",
      "\n",
      "\n",
      "Vegetarian Pasta - Pasta with tomato sauce, veggies, and Parmesan cheese\n",
      "Ingredients:\n",
      "  2 pieces of Tomatoes\n",
      "  1 piece of Onions\n",
      "  1 packet of Spices\n",
      "Price: $12.99\n",
      "\n",
      "\n"
     ]
    }
   ],
   "source": [
    "# Ingredient class\n",
    "class Ingredient:\n",
    "    def __init__(self, name, quantity, unit):\n",
    "        self.name = name\n",
    "        self.quantity = quantity\n",
    "        self.unit = unit\n",
    "\n",
    "    def display(self):\n",
    "        return f\"{self.quantity} {self.unit} of {self.name}\"\n",
    "\n",
    "# Dish class using composition\n",
    "class Dish:\n",
    "    def __init__(self, name, description, price, ingredients):\n",
    "        self.name = name\n",
    "        self.description = description\n",
    "        self.price = price\n",
    "        self.ingredients = ingredients\n",
    "\n",
    "    def display(self):\n",
    "        print(f\"{self.name} - {self.description}\")\n",
    "        print(\"Ingredients:\")\n",
    "        for ingredient in self.ingredients:\n",
    "            print(f\"  {ingredient.display()}\")\n",
    "        print(f\"Price: ${self.price}\")\n",
    "\n",
    "# Menu class using composition\n",
    "class Menu:\n",
    "    def __init__(self, name, description, dishes):\n",
    "        self.name = name\n",
    "        self.description = description\n",
    "        self.dishes = dishes\n",
    "\n",
    "    def display(self):\n",
    "        print(f\"Menu: {self.name}\")\n",
    "        print(f\"Description: {self.description}\")\n",
    "        print(\"Dishes:\")\n",
    "        for dish in self.dishes:\n",
    "            dish.display()\n",
    "            print(\"\\n\")\n",
    "\n",
    "# Example usage:\n",
    "# Creating ingredients\n",
    "ingredient1 = Ingredient(\"Chicken\", 200, \"g\")\n",
    "ingredient2 = Ingredient(\"Tomatoes\", 2, \"pieces\")\n",
    "ingredient3 = Ingredient(\"Onions\", 1, \"piece\")\n",
    "ingredient4 = Ingredient(\"Spices\", 1, \"packet\")\n",
    "\n",
    "# Creating dishes\n",
    "dish1 = Dish(\"Chicken Curry\", \"Spicy chicken curry with tomatoes and onions\", 15.99, [ingredient1, ingredient2, ingredient3, ingredient4])\n",
    "dish2 = Dish(\"Vegetarian Pasta\", \"Pasta with tomato sauce, veggies, and Parmesan cheese\", 12.99, [ingredient2, ingredient3, ingredient4])\n",
    "\n",
    "# Creating a menu\n",
    "menu = Menu(\"Special Menu\", \"A selection of our chef's specials\", [dish1, dish2])\n",
    "\n",
    "# Displaying menu information\n",
    "menu.display()"
   ]
  },
  {
   "cell_type": "markdown",
   "id": "66f1f9fd-d562-42c9-ba26-377ebc09c84b",
   "metadata": {},
   "source": [
    "15. Explain how composition enhances code maintainability and modularity in Python programs."
   ]
  },
  {
   "cell_type": "markdown",
   "id": "7e5f5cd2-5956-4667-add3-12c91b9d4b76",
   "metadata": {},
   "source": [
    " composition in Python enhances code maintainability and modularity by promoting separation of concerns, code reuse, flexibility in design, encapsulation, ease of modification and extension, maintainable interfaces, granular testing and debugging, scalability, and reduced complexity. These benefits collectively contribute to a more maintainable, adaptable, and efficient codebase."
   ]
  },
  {
   "cell_type": "markdown",
   "id": "6283f30f-16d3-4977-9a74-b77442f9c498",
   "metadata": {},
   "source": [
    "16. Create a Python class for a computer game character, using composition to represent attributes like\n",
    "weapons, armor, and inventory."
   ]
  },
  {
   "cell_type": "code",
   "execution_count": 31,
   "id": "265ca7ba-a072-46e6-8888-c1595a658856",
   "metadata": {},
   "outputs": [
    {
     "name": "stdout",
     "output_type": "stream",
     "text": [
      "Hero attacks!\n",
      "Attacking with Sword, dealing 20 damage.\n",
      "Hero defends!\n",
      "Equipping Shield for 15 defense.\n",
      "Hero's Status:\n",
      "  Health: 100\n",
      "  Equipped Weapon: Sword\n",
      "  Equipped Armor: Shield\n",
      "Inventory:\n",
      "  Health Potion\n"
     ]
    }
   ],
   "source": [
    "# Weapon class\n",
    "class Weapon:\n",
    "    def __init__(self, name, damage):\n",
    "        self.name = name\n",
    "        self.damage = damage\n",
    "\n",
    "    def attack(self):\n",
    "        print(f\"Attacking with {self.name}, dealing {self.damage} damage.\")\n",
    "\n",
    "# Armor class\n",
    "class Armor:\n",
    "    def __init__(self, name, defense):\n",
    "        self.name = name\n",
    "        self.defense = defense\n",
    "\n",
    "    def equip(self):\n",
    "        print(f\"Equipping {self.name} for {self.defense} defense.\")\n",
    "\n",
    "# Inventory class\n",
    "class Inventory:\n",
    "    def __init__(self):\n",
    "        self.items = []\n",
    "\n",
    "    def add_item(self, item):\n",
    "        self.items.append(item)\n",
    "\n",
    "    def show_inventory(self):\n",
    "        print(\"Inventory:\")\n",
    "        for item in self.items:\n",
    "            print(f\"  {item.name}\")\n",
    "# InventoryItem class\n",
    "class InventoryItem:\n",
    "    def __init__(self, name):\n",
    "        self.name = name\n",
    "\n",
    "\n",
    "# GameCharacter class using composition\n",
    "class GameCharacter:\n",
    "    def __init__(self, name, health, weapon, armor, inventory):\n",
    "        self.name = name\n",
    "        self.health = health\n",
    "        self.weapon = weapon\n",
    "        self.armor = armor\n",
    "        self.inventory = inventory\n",
    "\n",
    "    def attack(self):\n",
    "        print(f\"{self.name} attacks!\")\n",
    "        self.weapon.attack()\n",
    "\n",
    "    def defend(self):\n",
    "        print(f\"{self.name} defends!\")\n",
    "        self.armor.equip()\n",
    "\n",
    "    def show_status(self):\n",
    "        print(f\"{self.name}'s Status:\")\n",
    "        print(f\"  Health: {self.health}\")\n",
    "        print(f\"  Equipped Weapon: {self.weapon.name}\")\n",
    "        print(f\"  Equipped Armor: {self.armor.name}\")\n",
    "        self.inventory.show_inventory()\n",
    "\n",
    "# Example usage:\n",
    "# Creating weapons, armor, and inventory items\n",
    "sword = Weapon(\"Sword\", 20)\n",
    "shield = Armor(\"Shield\", 15)\n",
    "health_potion = InventoryItem(\"Health Potion\")\n",
    "\n",
    "# Creating a game character\n",
    "hero_inventory = Inventory()\n",
    "hero_inventory.add_item(health_potion)\n",
    "\n",
    "hero = GameCharacter(\"Hero\", 100, sword, shield, hero_inventory)\n",
    "\n",
    "# Performing actions\n",
    "hero.attack()\n",
    "hero.defend()\n",
    "\n",
    "# Displaying character status\n",
    "hero.show_status()"
   ]
  },
  {
   "cell_type": "markdown",
   "id": "7bf1d602-ad50-4ed9-ab55-c0687d43e688",
   "metadata": {},
   "source": [
    "17. Describe the concept of \"aggregation\" in composition and how it differs from simple composition."
   ]
  },
  {
   "cell_type": "markdown",
   "id": "df002100-5a18-4a65-8690-5bb952ac25f4",
   "metadata": {},
   "source": [
    "Aggregation is a form of composition in object-oriented programming (OOP) where one class represents a whole and another class represents a part, and the part class can exist independently of the whole class. In aggregation, the relationship between the whole and its parts is often described as a \"has-a\" or \"contains\" relationship. This is similar to simple composition, but with a key difference regarding the lifecycle and independence of the objects involved."
   ]
  },
  {
   "cell_type": "markdown",
   "id": "2367ec84-f3c6-4930-8c19-d2a5814c60f2",
   "metadata": {},
   "source": [
    "18. Create a Python class for a house, using composition to represent rooms, furniture, and appliances."
   ]
  },
  {
   "cell_type": "code",
   "execution_count": 32,
   "id": "a62be480-024a-481e-8d73-cc6723a59ddf",
   "metadata": {},
   "outputs": [
    {
     "name": "stdout",
     "output_type": "stream",
     "text": [
      "House Details:\n",
      "Living Room - 30 sq. meters\n",
      "Furniture:\n",
      "  Modern Sofa\n",
      "  Classic Dining Table\n",
      "Appliances:\n",
      "  Refrigerator (150 watts)\n",
      "\n",
      "\n",
      "Kitchen - 20 sq. meters\n",
      "Furniture:\n",
      "Appliances:\n",
      "  Oven (1200 watts)\n",
      "\n",
      "\n",
      "Bedroom - 25 sq. meters\n",
      "Furniture:\n",
      "Appliances:\n",
      "\n",
      "\n"
     ]
    }
   ],
   "source": [
    "# Furniture class\n",
    "class Furniture:\n",
    "    def __init__(self, name, style):\n",
    "        self.name = name\n",
    "        self.style = style\n",
    "\n",
    "    def display(self):\n",
    "        return f\"{self.style} {self.name}\"\n",
    "\n",
    "# Appliance class\n",
    "class Appliance:\n",
    "    def __init__(self, name, power_rating):\n",
    "        self.name = name\n",
    "        self.power_rating = power_rating\n",
    "\n",
    "    def display(self):\n",
    "        return f\"{self.name} ({self.power_rating} watts)\"\n",
    "\n",
    "# Room class using composition\n",
    "class Room:\n",
    "    def __init__(self, name, area, furniture=None, appliances=None):\n",
    "        self.name = name\n",
    "        self.area = area\n",
    "        self.furniture = furniture or []\n",
    "        self.appliances = appliances or []\n",
    "\n",
    "    def add_furniture(self, furniture):\n",
    "        self.furniture.append(furniture)\n",
    "\n",
    "    def add_appliance(self, appliance):\n",
    "        self.appliances.append(appliance)\n",
    "\n",
    "    def display(self):\n",
    "        print(f\"{self.name} - {self.area} sq. meters\")\n",
    "        print(\"Furniture:\")\n",
    "        for item in self.furniture:\n",
    "            print(f\"  {item.display()}\")\n",
    "        print(\"Appliances:\")\n",
    "        for item in self.appliances:\n",
    "            print(f\"  {item.display()}\")\n",
    "        print(\"\\n\")\n",
    "\n",
    "# House class using composition\n",
    "class House:\n",
    "    def __init__(self, rooms):\n",
    "        self.rooms = rooms\n",
    "\n",
    "    def display(self):\n",
    "        print(\"House Details:\")\n",
    "        for room in self.rooms:\n",
    "            room.display()\n",
    "\n",
    "# Example usage:\n",
    "# Creating furniture and appliances\n",
    "sofa = Furniture(\"Sofa\", \"Modern\")\n",
    "table = Furniture(\"Dining Table\", \"Classic\")\n",
    "fridge = Appliance(\"Refrigerator\", 150)\n",
    "oven = Appliance(\"Oven\", 1200)\n",
    "\n",
    "# Creating rooms\n",
    "living_room = Room(\"Living Room\", 30, [sofa, table], [fridge])\n",
    "kitchen = Room(\"Kitchen\", 20, appliances=[oven])\n",
    "bedroom = Room(\"Bedroom\", 25)\n",
    "\n",
    "# Creating a house\n",
    "my_house = House([living_room, kitchen, bedroom])\n",
    "\n",
    "# Displaying house details\n",
    "my_house.display()"
   ]
  },
  {
   "cell_type": "markdown",
   "id": "abbf70fa-5ca3-4621-b934-62a39bbce216",
   "metadata": {},
   "source": [
    "19. How can you achieve flexibility in composed objects by allowing them to be replaced or modified\n",
    "dynamically at runtime?"
   ]
  },
  {
   "cell_type": "markdown",
   "id": "9367c5b7-66f5-41d3-b2e8-1251f171bd12",
   "metadata": {},
   "source": [
    "Achieving flexibility in composed objects by allowing them to be replaced or modified dynamically at runtime can be accomplished through various design patterns and strategies.\n",
    "Interface-based Design\n",
    "Dependency Injection\n",
    "Factory Method Pattern\n",
    "Strategy Pattern"
   ]
  },
  {
   "cell_type": "markdown",
   "id": "470e785d-8695-418d-9ed0-b0259885a207",
   "metadata": {},
   "source": [
    "20. Create a Python class for a social media application, using composition to represent users, posts, and\n",
    "comments."
   ]
  },
  {
   "cell_type": "code",
   "execution_count": 37,
   "id": "cdb33909-72a6-452d-850d-6492e2e0b1bb",
   "metadata": {},
   "outputs": [
    {
     "name": "stdout",
     "output_type": "stream",
     "text": [
      "All Posts:\n",
      "sai posted:\n",
      "Hello, everyone! #coding\n",
      "Comments:\n",
      "kumar: Great post, sai!\n",
      "\n",
      "\n",
      "kumar posted:\n",
      "Python is amazing!\n",
      "Comments:\n",
      "sai: Totally agree, kumar!\n",
      "\n",
      "\n"
     ]
    }
   ],
   "source": [
    "# Comment class\n",
    "class Comment:\n",
    "    def __init__(self, user, text):\n",
    "        self.user = user\n",
    "        self.text = text\n",
    "\n",
    "    def display(self):\n",
    "        print(f\"{self.user.username}: {self.text}\")\n",
    "\n",
    "# Post class using composition\n",
    "class Post:\n",
    "    def __init__(self, user, text, comments=None):\n",
    "        self.user = user\n",
    "        self.text = text\n",
    "        self.comments = comments or []\n",
    "\n",
    "    def add_comment(self, comment):\n",
    "        self.comments.append(comment)\n",
    "\n",
    "    def display(self):\n",
    "        print(f\"{self.user.username} posted:\")\n",
    "        print(self.text)\n",
    "        print(\"Comments:\")\n",
    "        for comment in self.comments:\n",
    "            comment.display()\n",
    "        print(\"\\n\")\n",
    "\n",
    "# User class using composition\n",
    "class User:\n",
    "    def __init__(self, username, bio):\n",
    "        self.username = username\n",
    "        self.bio = bio\n",
    "        self.posts = []\n",
    "\n",
    "    def create_post(self, text):\n",
    "        post = Post(self, text)\n",
    "        self.posts.append(post)\n",
    "        return post\n",
    "\n",
    "# SocialMediaApp class using composition\n",
    "class SocialMediaApp:\n",
    "    def __init__(self, users):\n",
    "        self.users = users\n",
    "\n",
    "    def display_posts(self):\n",
    "        print(\"All Posts:\")\n",
    "        for user in self.users:\n",
    "            for post in user.posts:\n",
    "                post.display()\n",
    "\n",
    "# Example usage:\n",
    "# Creating users\n",
    "user1 = User(\"sai\", \"I love coding!\")\n",
    "user2 = User(\"kumar\", \"Exploring the world of Python\")\n",
    "\n",
    "# Creating posts and comments\n",
    "post1 = user1.create_post(\"Hello, everyone! #coding\")\n",
    "comment1 = Comment(user2, \"Great post, sai!\")\n",
    "post1.add_comment(comment1)\n",
    "\n",
    "post2 = user2.create_post(\"Python is amazing!\")\n",
    "comment2 = Comment(user1, \"Totally agree, kumar!\")\n",
    "post2.add_comment(comment2)\n",
    "\n",
    "# Creating a social media app\n",
    "social_media_app = SocialMediaApp([user1, user2])\n",
    "\n",
    "# Displaying all posts\n",
    "social_media_app.display_posts()"
   ]
  },
  {
   "cell_type": "code",
   "execution_count": null,
   "id": "6f10ff2b-3417-43ee-b166-b2a2dbece7ce",
   "metadata": {},
   "outputs": [],
   "source": []
  }
 ],
 "metadata": {
  "kernelspec": {
   "display_name": "Python 3 (ipykernel)",
   "language": "python",
   "name": "python3"
  },
  "language_info": {
   "codemirror_mode": {
    "name": "ipython",
    "version": 3
   },
   "file_extension": ".py",
   "mimetype": "text/x-python",
   "name": "python",
   "nbconvert_exporter": "python",
   "pygments_lexer": "ipython3",
   "version": "3.10.8"
  }
 },
 "nbformat": 4,
 "nbformat_minor": 5
}
